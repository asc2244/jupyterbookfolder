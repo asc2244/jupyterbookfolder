{
 "cells": [
  {
   "cell_type": "markdown",
   "id": "54b6a18b-95cb-47bc-ad94-2aa6995b80c6",
   "metadata": {},
   "source": [
    "# The Rat Project 🐀\n",
    "by Alexa Chan"
   ]
  },
  {
   "cell_type": "markdown",
   "id": "d032361e-6d5e-4f61-86c7-e370031aed00",
   "metadata": {},
   "source": [
    "**Prompt**\n",
    "- **Dataset(s) to be used:** [Rodent Inspection](https://data.cityofnewyork.us/Health/Rodent-Inspection/p937-wjvj/about_data); [Streeteasy Median Asking Rent](https://streeteasy.com/blog/data-dashboard)\n",
    "- **Analysis question:** do rats like gentrification?\n",
    "- **Columns that will (likely) be used:**\n",
    "  - Borough\n",
    "  - Rats (% or Count)\n",
    "  - % of Borough Gentrified \n",
    "- (If you're using multiple datasets) **Columns to be used to merge/join them:**\n",
    "  - [Rodent Inspection](https://data.cityofnewyork.us/Health/Rodent-Inspection/p937-wjvj/about_data): Borough\n",
    "  - [Streeteasy Median Asking Rent](https://streeteasy.com/blog/data-dashboard): Borough\n",
    "- **Hypothesis**: Rats will hang out in gentrified areas more than less-gentrified areas since gentrified areas typically have more tourism, construction, and late night eateries (all of which means more trash).\n",
    "- **Site URL:** [URL from Publish section]"
   ]
  },
  {
   "cell_type": "markdown",
   "id": "07b141fb-3062-4720-83c5-5af2b218f4c5",
   "metadata": {},
   "source": [
    "Hello everyone! Welcome to the rat project. This was a labor of love, fueled by desire to prove that I could code and do something silly.\n",
    "\n",
    "As an NYC native, I spent my life surrounded by rats. And since I was born and raised in Queens, I obviously think it's the best borough ever. Therefore, I wanted to use my project to 1) prove that Queens is #1 and 2) learn something new about the worst animals ever.\n",
    "\n",
    "I randomly stumbled across the [Rodent Inspection](https://data.cityofnewyork.us/Health/Rodent-Inspection/p937-wjvj/about_data) dataset on NYC Open Data, which basically aggregates all reported rat sightings by borough in NYC. \n",
    "\n",
    "It was perfect. Love at first sight. I knew I wanted to do my project on this.\n",
    "\n",
    "Then I started thinking about what goes best with rats. After much deliberation, it hit me: rent. It was a perfect combination. Rats and rent. It even had the alliteration thing going for it.\n",
    "\n",
    "I asked myself: what sort of analysis could I put together with rats and rent? After finding the [Median Asking Rent](https://streeteasy.com/blog/data-dashboard) dataset on Streeteasy, which aggregates the median rental-asking prices by borough on their website, I realized that I could use this data to not only figure out which borough had the most rats (using the rodent inspection data), but also find out which boroughs were the most gentrified (using the Streeteasy data). \n",
    "\n",
    "[The Good Cause Eviction Law](https://rentguidelinesboard.cityofnewyork.us/resources/faqs/rent-increases/#:~:text=The%20Good%20Cause%20Eviction%20law%20establishes%20a%20%E2%80%9Clocal%20rent%20standard,a%20maximum%20of%2010%25%20total) establishes a “local rent standard,” which states that a reasonable rent increase in a given year is set at the rate of inflation plus 5%, with a maximum of 10% total. Therefore, I decided that I was going to use the data from [Streeteasy](https://streeteasy.com/blog/data-dashboard) to calculate the yearly percent change in rent from 2010-2024. If rent increased by more than 10% in a year, then I would classify it as an unfair rent increase and label it as gentrified (I understand this is an oversimplification of the definition of gentrification, but rent data was the simplest to work with for purposes of this project). I would then count how many times each borough was labelled as gentrified to determine which borough is deemed the most gentrified in NYC.\n",
    "\n",
    "The plan was simple (although it was much harder in practice than I thought). First, I would use the [Rodent Inspection data](https://data.cityofnewyork.us/Health/Rodent-Inspection/p937-wjvj/about_data) to compile the number of rats reported in each borough. Then, I would use the [Streeteasy Rent data](https://streeteasy.com/blog/data-dashboard) calculate the percent changes in rent and the proportion of gentrification per borough. Lastly, I would merge the two datasets together using \"Borough\" as the common column to show the proportion of rats and gentrification per borough. Then, I would turn this into a data visualization!\n",
    "\n",
    "All of this would be to answer the following question: do rats like gentrification? My hypothesis was yes, they do! I think that rats will hang out in gentrified areas more than less-gentrified areas since gentrified areas typically have more tourism, construction, and late night eateries (all of which means more trash).\n",
    "\n",
    "Ultimately, this ended up being much more complicated than I thought, mainly due to the fact that I challenged myself to do some of the steps using the Python Standard Library instead of Pandas. I say that I challenged myself, but I really just forgot that the Pandas functions existed until it was too late. Oh well. Hopefully this helps me prepare for the final.\n",
    "\n",
    "The rat spiel is over. Please sit back and enjoy the data.\n"
   ]
  },
  {
   "cell_type": "markdown",
   "id": "16d0f8ea-0fd6-4872-9375-f9d32ef139b3",
   "metadata": {},
   "source": [
    "# Dataset 1: Rodent Inspection"
   ]
  },
  {
   "cell_type": "markdown",
   "id": "d737e6a3-e0a4-42a5-bf1a-13c4d30315b3",
   "metadata": {},
   "source": [
    "First, I imported the pandas library to load and read my datasets."
   ]
  },
  {
   "cell_type": "code",
   "execution_count": 7,
   "id": "68a75adf-774e-4079-8756-c23f9eb64947",
   "metadata": {},
   "outputs": [],
   "source": [
    "import pandas as pd"
   ]
  },
  {
   "cell_type": "code",
   "execution_count": 8,
   "id": "e40ee213-5bb0-4898-a859-4b74c1071656",
   "metadata": {},
   "outputs": [
    {
     "data": {
      "text/html": [
       "<div>\n",
       "<style scoped>\n",
       "    .dataframe tbody tr th:only-of-type {\n",
       "        vertical-align: middle;\n",
       "    }\n",
       "\n",
       "    .dataframe tbody tr th {\n",
       "        vertical-align: top;\n",
       "    }\n",
       "\n",
       "    .dataframe thead th {\n",
       "        text-align: right;\n",
       "    }\n",
       "</style>\n",
       "<table border=\"1\" class=\"dataframe\">\n",
       "  <thead>\n",
       "    <tr style=\"text-align: right;\">\n",
       "      <th></th>\n",
       "      <th>INSPECTION_TYPE</th>\n",
       "      <th>JOB_TICKET_OR_WORK_ORDER_ID</th>\n",
       "      <th>JOB_ID</th>\n",
       "      <th>JOB_PROGRESS</th>\n",
       "      <th>BBL</th>\n",
       "      <th>BORO_CODE</th>\n",
       "      <th>BLOCK</th>\n",
       "      <th>LOT</th>\n",
       "      <th>HOUSE_NUMBER</th>\n",
       "      <th>STREET_NAME</th>\n",
       "      <th>...</th>\n",
       "      <th>BOROUGH</th>\n",
       "      <th>INSPECTION_DATE</th>\n",
       "      <th>RESULT</th>\n",
       "      <th>APPROVED_DATE</th>\n",
       "      <th>LOCATION</th>\n",
       "      <th>COMMUNITY BOARD</th>\n",
       "      <th>COUNCIL DISTRICT</th>\n",
       "      <th>CENSUS TRACT</th>\n",
       "      <th>BIN</th>\n",
       "      <th>NTA</th>\n",
       "    </tr>\n",
       "  </thead>\n",
       "  <tbody>\n",
       "    <tr>\n",
       "      <th>0</th>\n",
       "      <td>Initial</td>\n",
       "      <td>13661515</td>\n",
       "      <td>PC8122655</td>\n",
       "      <td>1</td>\n",
       "      <td>NaN</td>\n",
       "      <td>1</td>\n",
       "      <td>529</td>\n",
       "      <td>9</td>\n",
       "      <td>NaN</td>\n",
       "      <td>NaN</td>\n",
       "      <td>...</td>\n",
       "      <td>Manhattan</td>\n",
       "      <td>06/07/2023 04:36:13 PM</td>\n",
       "      <td>Passed</td>\n",
       "      <td>06/08/2023 10:38:30 AM</td>\n",
       "      <td>NaN</td>\n",
       "      <td>NaN</td>\n",
       "      <td>NaN</td>\n",
       "      <td>NaN</td>\n",
       "      <td>NaN</td>\n",
       "      <td>NaN</td>\n",
       "    </tr>\n",
       "    <tr>\n",
       "      <th>1</th>\n",
       "      <td>Initial</td>\n",
       "      <td>11507405</td>\n",
       "      <td>PC7504205</td>\n",
       "      <td>1</td>\n",
       "      <td>NaN</td>\n",
       "      <td>5</td>\n",
       "      <td>62</td>\n",
       "      <td>113</td>\n",
       "      <td>000</td>\n",
       "      <td>YORK AVENUE</td>\n",
       "      <td>...</td>\n",
       "      <td>Staten Island</td>\n",
       "      <td>09/16/2010 04:00:00 PM</td>\n",
       "      <td>Failed for Other R</td>\n",
       "      <td>09/17/2010 09:47:30 AM</td>\n",
       "      <td>(0.0, 0.0)</td>\n",
       "      <td>NaN</td>\n",
       "      <td>NaN</td>\n",
       "      <td>NaN</td>\n",
       "      <td>NaN</td>\n",
       "      <td>NaN</td>\n",
       "    </tr>\n",
       "    <tr>\n",
       "      <th>2</th>\n",
       "      <td>Initial</td>\n",
       "      <td>13264492</td>\n",
       "      <td>PC7744572</td>\n",
       "      <td>1</td>\n",
       "      <td>NaN</td>\n",
       "      <td>2</td>\n",
       "      <td>2857</td>\n",
       "      <td>95</td>\n",
       "      <td>0000</td>\n",
       "      <td>JEROME AVENUE</td>\n",
       "      <td>...</td>\n",
       "      <td>Bronx</td>\n",
       "      <td>07/28/2021 12:48:53 PM</td>\n",
       "      <td>Passed</td>\n",
       "      <td>07/29/2021 01:19:32 PM</td>\n",
       "      <td>(0.0, 0.0)</td>\n",
       "      <td>NaN</td>\n",
       "      <td>NaN</td>\n",
       "      <td>NaN</td>\n",
       "      <td>NaN</td>\n",
       "      <td>NaN</td>\n",
       "    </tr>\n",
       "    <tr>\n",
       "      <th>3</th>\n",
       "      <td>Initial</td>\n",
       "      <td>13252138</td>\n",
       "      <td>PC7732344</td>\n",
       "      <td>1</td>\n",
       "      <td>NaN</td>\n",
       "      <td>2</td>\n",
       "      <td>2409</td>\n",
       "      <td>59</td>\n",
       "      <td>NaN</td>\n",
       "      <td>NaN</td>\n",
       "      <td>...</td>\n",
       "      <td>Bronx</td>\n",
       "      <td>07/07/2021 08:49:45 AM</td>\n",
       "      <td>Passed</td>\n",
       "      <td>07/08/2021 10:18:56 AM</td>\n",
       "      <td>NaN</td>\n",
       "      <td>NaN</td>\n",
       "      <td>NaN</td>\n",
       "      <td>NaN</td>\n",
       "      <td>NaN</td>\n",
       "      <td>NaN</td>\n",
       "    </tr>\n",
       "    <tr>\n",
       "      <th>4</th>\n",
       "      <td>Initial</td>\n",
       "      <td>13432908</td>\n",
       "      <td>PC7906420</td>\n",
       "      <td>1</td>\n",
       "      <td>NaN</td>\n",
       "      <td>2</td>\n",
       "      <td>2420</td>\n",
       "      <td>78</td>\n",
       "      <td>0000</td>\n",
       "      <td>EAST 161 STREET</td>\n",
       "      <td>...</td>\n",
       "      <td>Bronx</td>\n",
       "      <td>07/19/2022 01:50:56 PM</td>\n",
       "      <td>Passed</td>\n",
       "      <td>07/20/2022 11:03:35 AM</td>\n",
       "      <td>(0.0, 0.0)</td>\n",
       "      <td>NaN</td>\n",
       "      <td>NaN</td>\n",
       "      <td>NaN</td>\n",
       "      <td>NaN</td>\n",
       "      <td>NaN</td>\n",
       "    </tr>\n",
       "    <tr>\n",
       "      <th>...</th>\n",
       "      <td>...</td>\n",
       "      <td>...</td>\n",
       "      <td>...</td>\n",
       "      <td>...</td>\n",
       "      <td>...</td>\n",
       "      <td>...</td>\n",
       "      <td>...</td>\n",
       "      <td>...</td>\n",
       "      <td>...</td>\n",
       "      <td>...</td>\n",
       "      <td>...</td>\n",
       "      <td>...</td>\n",
       "      <td>...</td>\n",
       "      <td>...</td>\n",
       "      <td>...</td>\n",
       "      <td>...</td>\n",
       "      <td>...</td>\n",
       "      <td>...</td>\n",
       "      <td>...</td>\n",
       "      <td>...</td>\n",
       "      <td>...</td>\n",
       "    </tr>\n",
       "    <tr>\n",
       "      <th>2671326</th>\n",
       "      <td>Compliance</td>\n",
       "      <td>12814898</td>\n",
       "      <td>PC6601105</td>\n",
       "      <td>2</td>\n",
       "      <td>2.032080e+09</td>\n",
       "      <td>2</td>\n",
       "      <td>3208</td>\n",
       "      <td>31</td>\n",
       "      <td>2250</td>\n",
       "      <td>AQUEDUCT AVENUE EAST</td>\n",
       "      <td>...</td>\n",
       "      <td>Bronx</td>\n",
       "      <td>04/02/2012 02:05:39 PM</td>\n",
       "      <td>Rat Activity</td>\n",
       "      <td>04/06/2012 08:54:11 AM</td>\n",
       "      <td>(40.858867755963, -73.907261643109)</td>\n",
       "      <td>5.0</td>\n",
       "      <td>14.0</td>\n",
       "      <td>251.0</td>\n",
       "      <td>2000000.0</td>\n",
       "      <td>University Heights (South)-Morris Heights</td>\n",
       "    </tr>\n",
       "    <tr>\n",
       "      <th>2671327</th>\n",
       "      <td>BAIT</td>\n",
       "      <td>2947536</td>\n",
       "      <td>PC8159899</td>\n",
       "      <td>3</td>\n",
       "      <td>2.031250e+09</td>\n",
       "      <td>2</td>\n",
       "      <td>3125</td>\n",
       "      <td>12</td>\n",
       "      <td>908</td>\n",
       "      <td>EAST  181 STREET</td>\n",
       "      <td>...</td>\n",
       "      <td>Bronx</td>\n",
       "      <td>01/30/2024 01:54:00 PM</td>\n",
       "      <td>Bait applied</td>\n",
       "      <td>01/31/2024 10:21:58 AM</td>\n",
       "      <td>(40.845578723812, -73.881448234031)</td>\n",
       "      <td>6.0</td>\n",
       "      <td>15.0</td>\n",
       "      <td>363.0</td>\n",
       "      <td>2013180.0</td>\n",
       "      <td>West Farms</td>\n",
       "    </tr>\n",
       "    <tr>\n",
       "      <th>2671328</th>\n",
       "      <td>Initial</td>\n",
       "      <td>13348750</td>\n",
       "      <td>PC7811122</td>\n",
       "      <td>1</td>\n",
       "      <td>1.020500e+09</td>\n",
       "      <td>1</td>\n",
       "      <td>2050</td>\n",
       "      <td>140</td>\n",
       "      <td>673</td>\n",
       "      <td>ST NICHOLAS AVENUE</td>\n",
       "      <td>...</td>\n",
       "      <td>Manhattan</td>\n",
       "      <td>03/17/2022 03:03:00 PM</td>\n",
       "      <td>Failed for Other R</td>\n",
       "      <td>03/21/2022 12:31:45 PM</td>\n",
       "      <td>(40.822949820522, -73.945282480927)</td>\n",
       "      <td>9.0</td>\n",
       "      <td>9.0</td>\n",
       "      <td>227.0</td>\n",
       "      <td>1061004.0</td>\n",
       "      <td>Hamilton Heights-Sugar Hill</td>\n",
       "    </tr>\n",
       "    <tr>\n",
       "      <th>2671329</th>\n",
       "      <td>Initial</td>\n",
       "      <td>11468259</td>\n",
       "      <td>PC7440403</td>\n",
       "      <td>1</td>\n",
       "      <td>4.093900e+09</td>\n",
       "      <td>4</td>\n",
       "      <td>9390</td>\n",
       "      <td>18</td>\n",
       "      <td>106-17</td>\n",
       "      <td>97 AVENUE</td>\n",
       "      <td>...</td>\n",
       "      <td>Queens</td>\n",
       "      <td>08/07/2019 01:05:49 PM</td>\n",
       "      <td>Passed</td>\n",
       "      <td>08/19/2019 10:48:50 AM</td>\n",
       "      <td>(40.688500499631, -73.837877976694)</td>\n",
       "      <td>9.0</td>\n",
       "      <td>29.0</td>\n",
       "      <td>116.0</td>\n",
       "      <td>4197250.0</td>\n",
       "      <td>Ozone Park (North)</td>\n",
       "    </tr>\n",
       "    <tr>\n",
       "      <th>2671330</th>\n",
       "      <td>Initial</td>\n",
       "      <td>13603177</td>\n",
       "      <td>PC8067997</td>\n",
       "      <td>1</td>\n",
       "      <td>2.037740e+09</td>\n",
       "      <td>2</td>\n",
       "      <td>3774</td>\n",
       "      <td>41</td>\n",
       "      <td>1542</td>\n",
       "      <td>EAST 172 STREET</td>\n",
       "      <td>...</td>\n",
       "      <td>Bronx</td>\n",
       "      <td>03/20/2023 02:45:19 PM</td>\n",
       "      <td>Passed</td>\n",
       "      <td>03/21/2023 02:18:54 PM</td>\n",
       "      <td>(40.831278433475, -73.878629904868)</td>\n",
       "      <td>9.0</td>\n",
       "      <td>17.0</td>\n",
       "      <td>54.0</td>\n",
       "      <td>2025249.0</td>\n",
       "      <td>Soundview-Bruckner-Bronx River</td>\n",
       "    </tr>\n",
       "  </tbody>\n",
       "</table>\n",
       "<p>2671331 rows × 25 columns</p>\n",
       "</div>"
      ],
      "text/plain": [
       "        INSPECTION_TYPE  JOB_TICKET_OR_WORK_ORDER_ID     JOB_ID  JOB_PROGRESS  \\\n",
       "0               Initial                     13661515  PC8122655             1   \n",
       "1               Initial                     11507405  PC7504205             1   \n",
       "2               Initial                     13264492  PC7744572             1   \n",
       "3               Initial                     13252138  PC7732344             1   \n",
       "4               Initial                     13432908  PC7906420             1   \n",
       "...                 ...                          ...        ...           ...   \n",
       "2671326      Compliance                     12814898  PC6601105             2   \n",
       "2671327            BAIT                      2947536  PC8159899             3   \n",
       "2671328         Initial                     13348750  PC7811122             1   \n",
       "2671329         Initial                     11468259  PC7440403             1   \n",
       "2671330         Initial                     13603177  PC8067997             1   \n",
       "\n",
       "                  BBL  BORO_CODE  BLOCK  LOT HOUSE_NUMBER  \\\n",
       "0                 NaN          1    529    9          NaN   \n",
       "1                 NaN          5     62  113          000   \n",
       "2                 NaN          2   2857   95         0000   \n",
       "3                 NaN          2   2409   59          NaN   \n",
       "4                 NaN          2   2420   78         0000   \n",
       "...               ...        ...    ...  ...          ...   \n",
       "2671326  2.032080e+09          2   3208   31         2250   \n",
       "2671327  2.031250e+09          2   3125   12          908   \n",
       "2671328  1.020500e+09          1   2050  140          673   \n",
       "2671329  4.093900e+09          4   9390   18       106-17   \n",
       "2671330  2.037740e+09          2   3774   41         1542   \n",
       "\n",
       "                  STREET_NAME  ...        BOROUGH         INSPECTION_DATE  \\\n",
       "0                         NaN  ...      Manhattan  06/07/2023 04:36:13 PM   \n",
       "1                 YORK AVENUE  ...  Staten Island  09/16/2010 04:00:00 PM   \n",
       "2               JEROME AVENUE  ...          Bronx  07/28/2021 12:48:53 PM   \n",
       "3                         NaN  ...          Bronx  07/07/2021 08:49:45 AM   \n",
       "4             EAST 161 STREET  ...          Bronx  07/19/2022 01:50:56 PM   \n",
       "...                       ...  ...            ...                     ...   \n",
       "2671326  AQUEDUCT AVENUE EAST  ...          Bronx  04/02/2012 02:05:39 PM   \n",
       "2671327      EAST  181 STREET  ...          Bronx  01/30/2024 01:54:00 PM   \n",
       "2671328    ST NICHOLAS AVENUE  ...      Manhattan  03/17/2022 03:03:00 PM   \n",
       "2671329             97 AVENUE  ...         Queens  08/07/2019 01:05:49 PM   \n",
       "2671330       EAST 172 STREET  ...          Bronx  03/20/2023 02:45:19 PM   \n",
       "\n",
       "                     RESULT           APPROVED_DATE  \\\n",
       "0                    Passed  06/08/2023 10:38:30 AM   \n",
       "1        Failed for Other R  09/17/2010 09:47:30 AM   \n",
       "2                    Passed  07/29/2021 01:19:32 PM   \n",
       "3                    Passed  07/08/2021 10:18:56 AM   \n",
       "4                    Passed  07/20/2022 11:03:35 AM   \n",
       "...                     ...                     ...   \n",
       "2671326        Rat Activity  04/06/2012 08:54:11 AM   \n",
       "2671327        Bait applied  01/31/2024 10:21:58 AM   \n",
       "2671328  Failed for Other R  03/21/2022 12:31:45 PM   \n",
       "2671329              Passed  08/19/2019 10:48:50 AM   \n",
       "2671330              Passed  03/21/2023 02:18:54 PM   \n",
       "\n",
       "                                    LOCATION COMMUNITY BOARD COUNCIL DISTRICT  \\\n",
       "0                                        NaN             NaN              NaN   \n",
       "1                                 (0.0, 0.0)             NaN              NaN   \n",
       "2                                 (0.0, 0.0)             NaN              NaN   \n",
       "3                                        NaN             NaN              NaN   \n",
       "4                                 (0.0, 0.0)             NaN              NaN   \n",
       "...                                      ...             ...              ...   \n",
       "2671326  (40.858867755963, -73.907261643109)             5.0             14.0   \n",
       "2671327  (40.845578723812, -73.881448234031)             6.0             15.0   \n",
       "2671328  (40.822949820522, -73.945282480927)             9.0              9.0   \n",
       "2671329  (40.688500499631, -73.837877976694)             9.0             29.0   \n",
       "2671330  (40.831278433475, -73.878629904868)             9.0             17.0   \n",
       "\n",
       "        CENSUS TRACT        BIN                                        NTA  \n",
       "0                NaN        NaN                                        NaN  \n",
       "1                NaN        NaN                                        NaN  \n",
       "2                NaN        NaN                                        NaN  \n",
       "3                NaN        NaN                                        NaN  \n",
       "4                NaN        NaN                                        NaN  \n",
       "...              ...        ...                                        ...  \n",
       "2671326        251.0  2000000.0  University Heights (South)-Morris Heights  \n",
       "2671327        363.0  2013180.0                                 West Farms  \n",
       "2671328        227.0  1061004.0                Hamilton Heights-Sugar Hill  \n",
       "2671329        116.0  4197250.0                         Ozone Park (North)  \n",
       "2671330         54.0  2025249.0             Soundview-Bruckner-Bronx River  \n",
       "\n",
       "[2671331 rows x 25 columns]"
      ]
     },
     "execution_count": 8,
     "metadata": {},
     "output_type": "execute_result"
    }
   ],
   "source": [
    "#importing and reading rat data \n",
    "rats = pd.read_csv(\"/Users/alexachan/Downloads/Rodent_Inspection_20241125.csv\")\n",
    "rats"
   ]
  },
  {
   "cell_type": "markdown",
   "id": "3d107632-5fc6-46d6-bfc0-6ab091f3d9b4",
   "metadata": {},
   "source": [
    "# Dataset 2: Median Asking Rent"
   ]
  },
  {
   "cell_type": "markdown",
   "id": "fc62b69a-bd16-4886-88d9-cd38d2184f30",
   "metadata": {},
   "source": [
    "https://streeteasy.com/blog/data-dashboard"
   ]
  },
  {
   "cell_type": "code",
   "execution_count": 11,
   "id": "8c603757-8d0f-4b05-9fbc-563212189bc2",
   "metadata": {},
   "outputs": [
    {
     "data": {
      "text/html": [
       "<div>\n",
       "<style scoped>\n",
       "    .dataframe tbody tr th:only-of-type {\n",
       "        vertical-align: middle;\n",
       "    }\n",
       "\n",
       "    .dataframe tbody tr th {\n",
       "        vertical-align: top;\n",
       "    }\n",
       "\n",
       "    .dataframe thead th {\n",
       "        text-align: right;\n",
       "    }\n",
       "</style>\n",
       "<table border=\"1\" class=\"dataframe\">\n",
       "  <thead>\n",
       "    <tr style=\"text-align: right;\">\n",
       "      <th></th>\n",
       "      <th>areaName</th>\n",
       "      <th>Borough</th>\n",
       "      <th>areaType</th>\n",
       "      <th>2010-01</th>\n",
       "      <th>2010-02</th>\n",
       "      <th>2010-03</th>\n",
       "      <th>2010-04</th>\n",
       "      <th>2010-05</th>\n",
       "      <th>2010-06</th>\n",
       "      <th>2010-07</th>\n",
       "      <th>...</th>\n",
       "      <th>2024-01</th>\n",
       "      <th>2024-02</th>\n",
       "      <th>2024-03</th>\n",
       "      <th>2024-04</th>\n",
       "      <th>2024-05</th>\n",
       "      <th>2024-06</th>\n",
       "      <th>2024-07</th>\n",
       "      <th>2024-08</th>\n",
       "      <th>2024-09</th>\n",
       "      <th>2024-10</th>\n",
       "    </tr>\n",
       "  </thead>\n",
       "  <tbody>\n",
       "    <tr>\n",
       "      <th>0</th>\n",
       "      <td>All Downtown</td>\n",
       "      <td>Manhattan</td>\n",
       "      <td>submarket</td>\n",
       "      <td>3200.0</td>\n",
       "      <td>3200.0</td>\n",
       "      <td>3015.0</td>\n",
       "      <td>3100.0</td>\n",
       "      <td>3100.0</td>\n",
       "      <td>3200.0</td>\n",
       "      <td>3195.0</td>\n",
       "      <td>...</td>\n",
       "      <td>4800.0</td>\n",
       "      <td>4850.0</td>\n",
       "      <td>4895.0</td>\n",
       "      <td>4963.0</td>\n",
       "      <td>5000.0</td>\n",
       "      <td>4995.0</td>\n",
       "      <td>4950.0</td>\n",
       "      <td>4948.0</td>\n",
       "      <td>4900.0</td>\n",
       "      <td>4949.0</td>\n",
       "    </tr>\n",
       "    <tr>\n",
       "      <th>1</th>\n",
       "      <td>All Midtown</td>\n",
       "      <td>Manhattan</td>\n",
       "      <td>submarket</td>\n",
       "      <td>2875.0</td>\n",
       "      <td>2800.0</td>\n",
       "      <td>2800.0</td>\n",
       "      <td>2850.0</td>\n",
       "      <td>2895.0</td>\n",
       "      <td>2950.0</td>\n",
       "      <td>3000.0</td>\n",
       "      <td>...</td>\n",
       "      <td>4445.0</td>\n",
       "      <td>4421.0</td>\n",
       "      <td>4400.0</td>\n",
       "      <td>4498.0</td>\n",
       "      <td>4550.0</td>\n",
       "      <td>4525.0</td>\n",
       "      <td>4500.0</td>\n",
       "      <td>4500.0</td>\n",
       "      <td>4495.0</td>\n",
       "      <td>4495.0</td>\n",
       "    </tr>\n",
       "    <tr>\n",
       "      <th>2</th>\n",
       "      <td>All Upper East Side</td>\n",
       "      <td>Manhattan</td>\n",
       "      <td>submarket</td>\n",
       "      <td>2450.0</td>\n",
       "      <td>2450.0</td>\n",
       "      <td>2400.0</td>\n",
       "      <td>2500.0</td>\n",
       "      <td>2565.0</td>\n",
       "      <td>2570.0</td>\n",
       "      <td>2595.0</td>\n",
       "      <td>...</td>\n",
       "      <td>3950.0</td>\n",
       "      <td>3995.0</td>\n",
       "      <td>3950.0</td>\n",
       "      <td>3900.0</td>\n",
       "      <td>3950.0</td>\n",
       "      <td>3900.0</td>\n",
       "      <td>3950.0</td>\n",
       "      <td>3900.0</td>\n",
       "      <td>3925.0</td>\n",
       "      <td>3950.0</td>\n",
       "    </tr>\n",
       "    <tr>\n",
       "      <th>3</th>\n",
       "      <td>All Upper Manhattan</td>\n",
       "      <td>Manhattan</td>\n",
       "      <td>submarket</td>\n",
       "      <td>1825.0</td>\n",
       "      <td>1800.0</td>\n",
       "      <td>1795.0</td>\n",
       "      <td>1800.0</td>\n",
       "      <td>1823.0</td>\n",
       "      <td>1850.0</td>\n",
       "      <td>1875.0</td>\n",
       "      <td>...</td>\n",
       "      <td>2800.0</td>\n",
       "      <td>2900.0</td>\n",
       "      <td>2850.0</td>\n",
       "      <td>2995.0</td>\n",
       "      <td>3000.0</td>\n",
       "      <td>3000.0</td>\n",
       "      <td>3050.0</td>\n",
       "      <td>3000.0</td>\n",
       "      <td>2900.0</td>\n",
       "      <td>2895.0</td>\n",
       "    </tr>\n",
       "    <tr>\n",
       "      <th>4</th>\n",
       "      <td>All Upper West Side</td>\n",
       "      <td>Manhattan</td>\n",
       "      <td>submarket</td>\n",
       "      <td>2895.0</td>\n",
       "      <td>2800.0</td>\n",
       "      <td>2750.0</td>\n",
       "      <td>2800.0</td>\n",
       "      <td>2800.0</td>\n",
       "      <td>2795.0</td>\n",
       "      <td>2800.0</td>\n",
       "      <td>...</td>\n",
       "      <td>4278.0</td>\n",
       "      <td>4300.0</td>\n",
       "      <td>4425.0</td>\n",
       "      <td>4500.0</td>\n",
       "      <td>4500.0</td>\n",
       "      <td>4395.0</td>\n",
       "      <td>4450.0</td>\n",
       "      <td>4395.0</td>\n",
       "      <td>4400.0</td>\n",
       "      <td>4450.0</td>\n",
       "    </tr>\n",
       "    <tr>\n",
       "      <th>...</th>\n",
       "      <td>...</td>\n",
       "      <td>...</td>\n",
       "      <td>...</td>\n",
       "      <td>...</td>\n",
       "      <td>...</td>\n",
       "      <td>...</td>\n",
       "      <td>...</td>\n",
       "      <td>...</td>\n",
       "      <td>...</td>\n",
       "      <td>...</td>\n",
       "      <td>...</td>\n",
       "      <td>...</td>\n",
       "      <td>...</td>\n",
       "      <td>...</td>\n",
       "      <td>...</td>\n",
       "      <td>...</td>\n",
       "      <td>...</td>\n",
       "      <td>...</td>\n",
       "      <td>...</td>\n",
       "      <td>...</td>\n",
       "      <td>...</td>\n",
       "    </tr>\n",
       "    <tr>\n",
       "      <th>193</th>\n",
       "      <td>Windsor Terrace</td>\n",
       "      <td>Brooklyn</td>\n",
       "      <td>neighborhood</td>\n",
       "      <td>1550.0</td>\n",
       "      <td>1600.0</td>\n",
       "      <td>1650.0</td>\n",
       "      <td>1600.0</td>\n",
       "      <td>1800.0</td>\n",
       "      <td>1825.0</td>\n",
       "      <td>1995.0</td>\n",
       "      <td>...</td>\n",
       "      <td>3000.0</td>\n",
       "      <td>3000.0</td>\n",
       "      <td>3000.0</td>\n",
       "      <td>3595.0</td>\n",
       "      <td>3685.0</td>\n",
       "      <td>3500.0</td>\n",
       "      <td>3500.0</td>\n",
       "      <td>3500.0</td>\n",
       "      <td>3720.0</td>\n",
       "      <td>3975.0</td>\n",
       "    </tr>\n",
       "    <tr>\n",
       "      <th>194</th>\n",
       "      <td>Woodhaven</td>\n",
       "      <td>Queens</td>\n",
       "      <td>neighborhood</td>\n",
       "      <td>NaN</td>\n",
       "      <td>NaN</td>\n",
       "      <td>NaN</td>\n",
       "      <td>NaN</td>\n",
       "      <td>NaN</td>\n",
       "      <td>NaN</td>\n",
       "      <td>NaN</td>\n",
       "      <td>...</td>\n",
       "      <td>2400.0</td>\n",
       "      <td>2225.0</td>\n",
       "      <td>2500.0</td>\n",
       "      <td>2500.0</td>\n",
       "      <td>2675.0</td>\n",
       "      <td>2775.0</td>\n",
       "      <td>2825.0</td>\n",
       "      <td>2800.0</td>\n",
       "      <td>2700.0</td>\n",
       "      <td>2450.0</td>\n",
       "    </tr>\n",
       "    <tr>\n",
       "      <th>195</th>\n",
       "      <td>Woodlawn</td>\n",
       "      <td>Bronx</td>\n",
       "      <td>neighborhood</td>\n",
       "      <td>NaN</td>\n",
       "      <td>NaN</td>\n",
       "      <td>NaN</td>\n",
       "      <td>NaN</td>\n",
       "      <td>NaN</td>\n",
       "      <td>NaN</td>\n",
       "      <td>NaN</td>\n",
       "      <td>...</td>\n",
       "      <td>NaN</td>\n",
       "      <td>NaN</td>\n",
       "      <td>NaN</td>\n",
       "      <td>NaN</td>\n",
       "      <td>NaN</td>\n",
       "      <td>NaN</td>\n",
       "      <td>NaN</td>\n",
       "      <td>NaN</td>\n",
       "      <td>NaN</td>\n",
       "      <td>NaN</td>\n",
       "    </tr>\n",
       "    <tr>\n",
       "      <th>196</th>\n",
       "      <td>Woodside</td>\n",
       "      <td>Queens</td>\n",
       "      <td>neighborhood</td>\n",
       "      <td>1700.0</td>\n",
       "      <td>1648.0</td>\n",
       "      <td>1398.0</td>\n",
       "      <td>2000.0</td>\n",
       "      <td>1500.0</td>\n",
       "      <td>1513.0</td>\n",
       "      <td>1488.0</td>\n",
       "      <td>...</td>\n",
       "      <td>2700.0</td>\n",
       "      <td>2700.0</td>\n",
       "      <td>2700.0</td>\n",
       "      <td>2664.0</td>\n",
       "      <td>2700.0</td>\n",
       "      <td>2980.0</td>\n",
       "      <td>3065.0</td>\n",
       "      <td>3065.0</td>\n",
       "      <td>3000.0</td>\n",
       "      <td>2995.0</td>\n",
       "    </tr>\n",
       "    <tr>\n",
       "      <th>197</th>\n",
       "      <td>Woodstock</td>\n",
       "      <td>Bronx</td>\n",
       "      <td>neighborhood</td>\n",
       "      <td>NaN</td>\n",
       "      <td>NaN</td>\n",
       "      <td>NaN</td>\n",
       "      <td>NaN</td>\n",
       "      <td>NaN</td>\n",
       "      <td>NaN</td>\n",
       "      <td>NaN</td>\n",
       "      <td>...</td>\n",
       "      <td>NaN</td>\n",
       "      <td>2740.0</td>\n",
       "      <td>3100.0</td>\n",
       "      <td>NaN</td>\n",
       "      <td>NaN</td>\n",
       "      <td>NaN</td>\n",
       "      <td>2763.0</td>\n",
       "      <td>2550.0</td>\n",
       "      <td>3050.0</td>\n",
       "      <td>NaN</td>\n",
       "    </tr>\n",
       "  </tbody>\n",
       "</table>\n",
       "<p>198 rows × 181 columns</p>\n",
       "</div>"
      ],
      "text/plain": [
       "                areaName    Borough      areaType  2010-01  2010-02  2010-03  \\\n",
       "0           All Downtown  Manhattan     submarket   3200.0   3200.0   3015.0   \n",
       "1            All Midtown  Manhattan     submarket   2875.0   2800.0   2800.0   \n",
       "2    All Upper East Side  Manhattan     submarket   2450.0   2450.0   2400.0   \n",
       "3    All Upper Manhattan  Manhattan     submarket   1825.0   1800.0   1795.0   \n",
       "4    All Upper West Side  Manhattan     submarket   2895.0   2800.0   2750.0   \n",
       "..                   ...        ...           ...      ...      ...      ...   \n",
       "193      Windsor Terrace   Brooklyn  neighborhood   1550.0   1600.0   1650.0   \n",
       "194            Woodhaven     Queens  neighborhood      NaN      NaN      NaN   \n",
       "195             Woodlawn      Bronx  neighborhood      NaN      NaN      NaN   \n",
       "196             Woodside     Queens  neighborhood   1700.0   1648.0   1398.0   \n",
       "197            Woodstock      Bronx  neighborhood      NaN      NaN      NaN   \n",
       "\n",
       "     2010-04  2010-05  2010-06  2010-07  ...  2024-01  2024-02  2024-03  \\\n",
       "0     3100.0   3100.0   3200.0   3195.0  ...   4800.0   4850.0   4895.0   \n",
       "1     2850.0   2895.0   2950.0   3000.0  ...   4445.0   4421.0   4400.0   \n",
       "2     2500.0   2565.0   2570.0   2595.0  ...   3950.0   3995.0   3950.0   \n",
       "3     1800.0   1823.0   1850.0   1875.0  ...   2800.0   2900.0   2850.0   \n",
       "4     2800.0   2800.0   2795.0   2800.0  ...   4278.0   4300.0   4425.0   \n",
       "..       ...      ...      ...      ...  ...      ...      ...      ...   \n",
       "193   1600.0   1800.0   1825.0   1995.0  ...   3000.0   3000.0   3000.0   \n",
       "194      NaN      NaN      NaN      NaN  ...   2400.0   2225.0   2500.0   \n",
       "195      NaN      NaN      NaN      NaN  ...      NaN      NaN      NaN   \n",
       "196   2000.0   1500.0   1513.0   1488.0  ...   2700.0   2700.0   2700.0   \n",
       "197      NaN      NaN      NaN      NaN  ...      NaN   2740.0   3100.0   \n",
       "\n",
       "     2024-04  2024-05  2024-06  2024-07  2024-08  2024-09  2024-10  \n",
       "0     4963.0   5000.0   4995.0   4950.0   4948.0   4900.0   4949.0  \n",
       "1     4498.0   4550.0   4525.0   4500.0   4500.0   4495.0   4495.0  \n",
       "2     3900.0   3950.0   3900.0   3950.0   3900.0   3925.0   3950.0  \n",
       "3     2995.0   3000.0   3000.0   3050.0   3000.0   2900.0   2895.0  \n",
       "4     4500.0   4500.0   4395.0   4450.0   4395.0   4400.0   4450.0  \n",
       "..       ...      ...      ...      ...      ...      ...      ...  \n",
       "193   3595.0   3685.0   3500.0   3500.0   3500.0   3720.0   3975.0  \n",
       "194   2500.0   2675.0   2775.0   2825.0   2800.0   2700.0   2450.0  \n",
       "195      NaN      NaN      NaN      NaN      NaN      NaN      NaN  \n",
       "196   2664.0   2700.0   2980.0   3065.0   3065.0   3000.0   2995.0  \n",
       "197      NaN      NaN      NaN   2763.0   2550.0   3050.0      NaN  \n",
       "\n",
       "[198 rows x 181 columns]"
      ]
     },
     "execution_count": 11,
     "metadata": {},
     "output_type": "execute_result"
    }
   ],
   "source": [
    "#importing and reading rent data \n",
    "rent = pd.read_csv(\"/Users/alexachan/Downloads/medianAskingRent_All.csv\")\n",
    "rent"
   ]
  },
  {
   "cell_type": "markdown",
   "id": "3701e679-a7e8-45b1-a582-d9aaed20dbae",
   "metadata": {},
   "source": [
    "# The Rat Section\n",
    "I decided to start by cleaning the rats. First, I dropped all the irrelevant columns (so my eyes didn't hurt) and all the columns with missing/undefined data (also so my eyes didn't hurt)."
   ]
  },
  {
   "cell_type": "code",
   "execution_count": 13,
   "id": "efb4c511-3537-4cd3-9029-f95f48d6cb0e",
   "metadata": {},
   "outputs": [],
   "source": [
    "#cleaning rat data\n",
    "\n",
    "#drop irrelevant columns\n",
    "rats = rats.drop(columns={\n",
    "    \"INSPECTION_TYPE\",\n",
    "    \"JOB_TICKET_OR_WORK_ORDER_ID\",\n",
    "    \"JOB_ID\",\n",
    "    \"JOB_PROGRESS\",\n",
    "    \"BBL\",\n",
    "    \"BLOCK\",\n",
    "    \"HOUSE_NUMBER\",\n",
    "    \"X_COORD\",\n",
    "    \"Y_COORD\",\n",
    "    \"LATITUDE\",\n",
    "    \"LONGITUDE\",\n",
    "    \"RESULT\",\n",
    "    \"APPROVED_DATE\",\n",
    "    \"LOCATION\",\n",
    "    \"COMMUNITY BOARD\", \n",
    "    \"COUNCIL DISTRICT\", \n",
    "    \"CENSUS TRACT\", \n",
    "    \"BIN\", \n",
    "    \"NTA\"\n",
    "})\n",
    "\n",
    "#drop NAs\n",
    "rats = rats.dropna()"
   ]
  },
  {
   "cell_type": "markdown",
   "id": "85c2cdfd-5d4d-43af-bbc6-2d3565620fa3",
   "metadata": {},
   "source": [
    "# Filtering Rats for Specific Time Period\n",
    "\n",
    "Then, I filtered the data to show only sightings between January 2010 and January 2024. There were two reasons for this. The first was because the Streeteasy data only went back to January 2010, so I had to remove all rat data before this. The second was that I wanted to calculate the Y/Y percent change in rent, so I decided to remove all rat data after January 2024. After filtering the data for rats between January 2010 and 2024, I also made sure to drop any duplicate rows just in case anything doubled."
   ]
  },
  {
   "cell_type": "code",
   "execution_count": 15,
   "id": "41445fcf-8f67-4a78-901e-104e4db4d9a8",
   "metadata": {},
   "outputs": [
    {
     "data": {
      "text/plain": [
       "Timestamp('1918-10-19 14:34:44')"
      ]
     },
     "execution_count": 15,
     "metadata": {},
     "output_type": "execute_result"
    }
   ],
   "source": [
    "#rat data includes rat sightings before 2010\n",
    "rats[\"INSPECTION_DATE\"] = pd.to_datetime(rats[\"INSPECTION_DATE\"])\n",
    "rats[\"INSPECTION_DATE\"].min()"
   ]
  },
  {
   "cell_type": "code",
   "execution_count": 16,
   "id": "6924cacf-ccda-4913-82a3-3a394b80c5eb",
   "metadata": {},
   "outputs": [
    {
     "name": "stdout",
     "output_type": "stream",
     "text": [
      "2010-01-01 10:21:00\n",
      "2024-01-31 23:35:11\n"
     ]
    }
   ],
   "source": [
    "#filter out rows with inspection dates between 2010 and 2024\n",
    "modern_rats = rats[(rats[\"INSPECTION_DATE\"] >= \"2010-01-01\") & (rats[\"INSPECTION_DATE\"] <= \"2024-02-01\")]\n",
    "print(modern_rats[\"INSPECTION_DATE\"].min())\n",
    "print(modern_rats[\"INSPECTION_DATE\"].max())"
   ]
  },
  {
   "cell_type": "code",
   "execution_count": 17,
   "id": "5d4e908a-ecb5-41f5-96d1-829a583d48cb",
   "metadata": {},
   "outputs": [
    {
     "data": {
      "text/html": [
       "<div>\n",
       "<style scoped>\n",
       "    .dataframe tbody tr th:only-of-type {\n",
       "        vertical-align: middle;\n",
       "    }\n",
       "\n",
       "    .dataframe tbody tr th {\n",
       "        vertical-align: top;\n",
       "    }\n",
       "\n",
       "    .dataframe thead th {\n",
       "        text-align: right;\n",
       "    }\n",
       "</style>\n",
       "<table border=\"1\" class=\"dataframe\">\n",
       "  <thead>\n",
       "    <tr style=\"text-align: right;\">\n",
       "      <th></th>\n",
       "      <th>BORO_CODE</th>\n",
       "      <th>LOT</th>\n",
       "      <th>STREET_NAME</th>\n",
       "      <th>ZIP_CODE</th>\n",
       "      <th>BOROUGH</th>\n",
       "      <th>INSPECTION_DATE</th>\n",
       "    </tr>\n",
       "  </thead>\n",
       "  <tbody>\n",
       "    <tr>\n",
       "      <th>7</th>\n",
       "      <td>3</td>\n",
       "      <td>42</td>\n",
       "      <td>ARLINGTON PLACE</td>\n",
       "      <td>11216.0</td>\n",
       "      <td>Brooklyn</td>\n",
       "      <td>2019-09-12 11:55:08</td>\n",
       "    </tr>\n",
       "    <tr>\n",
       "      <th>8</th>\n",
       "      <td>2</td>\n",
       "      <td>105</td>\n",
       "      <td>PLACE</td>\n",
       "      <td>10469.0</td>\n",
       "      <td>Bronx</td>\n",
       "      <td>2023-03-10 14:10:27</td>\n",
       "    </tr>\n",
       "    <tr>\n",
       "      <th>9</th>\n",
       "      <td>3</td>\n",
       "      <td>40</td>\n",
       "      <td>BERGEN STREET</td>\n",
       "      <td>11233.0</td>\n",
       "      <td>Brooklyn</td>\n",
       "      <td>2016-12-27 12:36:34</td>\n",
       "    </tr>\n",
       "    <tr>\n",
       "      <th>12</th>\n",
       "      <td>1</td>\n",
       "      <td>10</td>\n",
       "      <td>D R DRIVE</td>\n",
       "      <td>10029.0</td>\n",
       "      <td>Manhattan</td>\n",
       "      <td>2023-03-24 07:30:00</td>\n",
       "    </tr>\n",
       "    <tr>\n",
       "      <th>16</th>\n",
       "      <td>1</td>\n",
       "      <td>104</td>\n",
       "      <td>AVENUE</td>\n",
       "      <td>10027.0</td>\n",
       "      <td>Manhattan</td>\n",
       "      <td>2023-01-20 13:31:22</td>\n",
       "    </tr>\n",
       "    <tr>\n",
       "      <th>...</th>\n",
       "      <td>...</td>\n",
       "      <td>...</td>\n",
       "      <td>...</td>\n",
       "      <td>...</td>\n",
       "      <td>...</td>\n",
       "      <td>...</td>\n",
       "    </tr>\n",
       "    <tr>\n",
       "      <th>2671326</th>\n",
       "      <td>2</td>\n",
       "      <td>31</td>\n",
       "      <td>AQUEDUCT AVENUE EAST</td>\n",
       "      <td>10453.0</td>\n",
       "      <td>Bronx</td>\n",
       "      <td>2012-04-02 14:05:39</td>\n",
       "    </tr>\n",
       "    <tr>\n",
       "      <th>2671327</th>\n",
       "      <td>2</td>\n",
       "      <td>12</td>\n",
       "      <td>EAST  181 STREET</td>\n",
       "      <td>10460.0</td>\n",
       "      <td>Bronx</td>\n",
       "      <td>2024-01-30 13:54:00</td>\n",
       "    </tr>\n",
       "    <tr>\n",
       "      <th>2671328</th>\n",
       "      <td>1</td>\n",
       "      <td>140</td>\n",
       "      <td>ST NICHOLAS AVENUE</td>\n",
       "      <td>10030.0</td>\n",
       "      <td>Manhattan</td>\n",
       "      <td>2022-03-17 15:03:00</td>\n",
       "    </tr>\n",
       "    <tr>\n",
       "      <th>2671329</th>\n",
       "      <td>4</td>\n",
       "      <td>18</td>\n",
       "      <td>97 AVENUE</td>\n",
       "      <td>11416.0</td>\n",
       "      <td>Queens</td>\n",
       "      <td>2019-08-07 13:05:49</td>\n",
       "    </tr>\n",
       "    <tr>\n",
       "      <th>2671330</th>\n",
       "      <td>2</td>\n",
       "      <td>41</td>\n",
       "      <td>EAST 172 STREET</td>\n",
       "      <td>10472.0</td>\n",
       "      <td>Bronx</td>\n",
       "      <td>2023-03-20 14:45:19</td>\n",
       "    </tr>\n",
       "  </tbody>\n",
       "</table>\n",
       "<p>2435122 rows × 6 columns</p>\n",
       "</div>"
      ],
      "text/plain": [
       "         BORO_CODE  LOT           STREET_NAME  ZIP_CODE    BOROUGH  \\\n",
       "7                3   42       ARLINGTON PLACE   11216.0   Brooklyn   \n",
       "8                2  105                 PLACE   10469.0      Bronx   \n",
       "9                3   40         BERGEN STREET   11233.0   Brooklyn   \n",
       "12               1   10             D R DRIVE   10029.0  Manhattan   \n",
       "16               1  104                AVENUE   10027.0  Manhattan   \n",
       "...            ...  ...                   ...       ...        ...   \n",
       "2671326          2   31  AQUEDUCT AVENUE EAST   10453.0      Bronx   \n",
       "2671327          2   12      EAST  181 STREET   10460.0      Bronx   \n",
       "2671328          1  140    ST NICHOLAS AVENUE   10030.0  Manhattan   \n",
       "2671329          4   18             97 AVENUE   11416.0     Queens   \n",
       "2671330          2   41       EAST 172 STREET   10472.0      Bronx   \n",
       "\n",
       "            INSPECTION_DATE  \n",
       "7       2019-09-12 11:55:08  \n",
       "8       2023-03-10 14:10:27  \n",
       "9       2016-12-27 12:36:34  \n",
       "12      2023-03-24 07:30:00  \n",
       "16      2023-01-20 13:31:22  \n",
       "...                     ...  \n",
       "2671326 2012-04-02 14:05:39  \n",
       "2671327 2024-01-30 13:54:00  \n",
       "2671328 2022-03-17 15:03:00  \n",
       "2671329 2019-08-07 13:05:49  \n",
       "2671330 2023-03-20 14:45:19  \n",
       "\n",
       "[2435122 rows x 6 columns]"
      ]
     },
     "execution_count": 17,
     "metadata": {},
     "output_type": "execute_result"
    }
   ],
   "source": [
    "#just in case anything doubled\n",
    "modern_rats = modern_rats.drop_duplicates()\n",
    "modern_rats"
   ]
  },
  {
   "cell_type": "markdown",
   "id": "5512a7e6-5844-47c0-ad0e-e1219a71a3c6",
   "metadata": {},
   "source": [
    "# The Rat Loop"
   ]
  },
  {
   "cell_type": "markdown",
   "id": "eb2caa76-f7f8-43eb-800a-858997b7c8bb",
   "metadata": {},
   "source": [
    "Next, I created a loop to get the rat counts per borough. I created empty variables for each borough then used a for loop to iterate through each row and count how many rats appeared in each borough.\n",
    "\n",
    "Upon review, I realize that I could've just done: modern_rats.groupby(\"BOROUGH\").size().reset_index(name = \"Rat Count\") to get the rat counts by borough.\n",
    "\n",
    "However, I was a little sleep deprived and ambitious when I did this and felt like I needed to prove that I could code, so I think I convinced myself to do this the hard way. "
   ]
  },
  {
   "cell_type": "code",
   "execution_count": 20,
   "id": "c28c4a4d-dfbe-4f57-901b-a0162102d7eb",
   "metadata": {},
   "outputs": [],
   "source": [
    "#create loop to get rat counts per borough in aggregate \n",
    "\n",
    "#initializing empty variables for each borough\n",
    "manhattan_rats = 0\n",
    "bronx_rats = 0\n",
    "brooklyn_rats = 0\n",
    "queens_rats = 0\n",
    "statenisland_rats = 0"
   ]
  },
  {
   "cell_type": "code",
   "execution_count": 21,
   "id": "ef655482-2d86-4ca2-a1e7-8e9663f40e40",
   "metadata": {},
   "outputs": [],
   "source": [
    "#iterate through each row to get the rat counts per borough\n",
    "for index, row in modern_rats.iterrows():\n",
    "    #count the number of times a specific borough name appeared in a row \n",
    "    if row[\"BOROUGH\"] == \"Manhattan\":\n",
    "        manhattan_rats += 1\n",
    "    elif row[\"BOROUGH\"] == \"Bronx\":\n",
    "        bronx_rats += 1\n",
    "    elif row[\"BOROUGH\"] == \"Brooklyn\":\n",
    "        brooklyn_rats += 1\n",
    "    elif row[\"BOROUGH\"] == \"Queens\":\n",
    "        queens_rats += 1\n",
    "    elif row[\"BOROUGH\"] == \"Staten Island\":\n",
    "        statenisland_rats += 1"
   ]
  },
  {
   "cell_type": "code",
   "execution_count": 22,
   "id": "c57589f1-79ef-4f69-994b-0712d811b886",
   "metadata": {},
   "outputs": [],
   "source": [
    "#total up all the rat sightings\n",
    "all_rats = manhattan_rats + bronx_rats + brooklyn_rats + queens_rats + statenisland_rats"
   ]
  },
  {
   "cell_type": "code",
   "execution_count": 23,
   "id": "23a6df87-a71e-4008-96da-58746eba85d2",
   "metadata": {},
   "outputs": [
    {
     "name": "stdout",
     "output_type": "stream",
     "text": [
      "Manhattan Rats: 784858\n",
      "Bronx Rats: 710709\n",
      "Brooklyn Rats: 674610\n",
      "Queens Rats: 208874\n",
      "Staten Island Rats: 56071\n",
      "All Rats: 2435122\n"
     ]
    }
   ],
   "source": [
    "#print out the rat counts so I can see what I just did\n",
    "print(f\"Manhattan Rats: {manhattan_rats}\")\n",
    "print(f\"Bronx Rats: {bronx_rats}\")\n",
    "print(f\"Brooklyn Rats: {brooklyn_rats}\")\n",
    "print(f\"Queens Rats: {queens_rats}\")\n",
    "print(f\"Staten Island Rats: {statenisland_rats}\")\n",
    "print(f\"All Rats: {all_rats}\")"
   ]
  },
  {
   "cell_type": "markdown",
   "id": "f4bfdd8b-3b43-4924-a531-de44212f5410",
   "metadata": {},
   "source": [
    "and just to show the other method that would've saved me a couple of hours..."
   ]
  },
  {
   "cell_type": "code",
   "execution_count": 25,
   "id": "68296260-d672-4e3e-a130-fc979d3bb7de",
   "metadata": {},
   "outputs": [
    {
     "data": {
      "text/html": [
       "<div>\n",
       "<style scoped>\n",
       "    .dataframe tbody tr th:only-of-type {\n",
       "        vertical-align: middle;\n",
       "    }\n",
       "\n",
       "    .dataframe tbody tr th {\n",
       "        vertical-align: top;\n",
       "    }\n",
       "\n",
       "    .dataframe thead th {\n",
       "        text-align: right;\n",
       "    }\n",
       "</style>\n",
       "<table border=\"1\" class=\"dataframe\">\n",
       "  <thead>\n",
       "    <tr style=\"text-align: right;\">\n",
       "      <th></th>\n",
       "      <th>BOROUGH</th>\n",
       "      <th>RAT COUNT</th>\n",
       "    </tr>\n",
       "  </thead>\n",
       "  <tbody>\n",
       "    <tr>\n",
       "      <th>0</th>\n",
       "      <td>Bronx</td>\n",
       "      <td>710709</td>\n",
       "    </tr>\n",
       "    <tr>\n",
       "      <th>1</th>\n",
       "      <td>Brooklyn</td>\n",
       "      <td>674610</td>\n",
       "    </tr>\n",
       "    <tr>\n",
       "      <th>2</th>\n",
       "      <td>Manhattan</td>\n",
       "      <td>784858</td>\n",
       "    </tr>\n",
       "    <tr>\n",
       "      <th>3</th>\n",
       "      <td>Queens</td>\n",
       "      <td>208874</td>\n",
       "    </tr>\n",
       "    <tr>\n",
       "      <th>4</th>\n",
       "      <td>Staten Island</td>\n",
       "      <td>56071</td>\n",
       "    </tr>\n",
       "  </tbody>\n",
       "</table>\n",
       "</div>"
      ],
      "text/plain": [
       "         BOROUGH  RAT COUNT\n",
       "0          Bronx     710709\n",
       "1       Brooklyn     674610\n",
       "2      Manhattan     784858\n",
       "3         Queens     208874\n",
       "4  Staten Island      56071"
      ]
     },
     "execution_count": 25,
     "metadata": {},
     "output_type": "execute_result"
    }
   ],
   "source": [
    "modern_rats.groupby(\"BOROUGH\").size().reset_index(name = \"RAT COUNT\")"
   ]
  },
  {
   "cell_type": "markdown",
   "id": "380f1aaa-f30b-4d91-8916-ef8bcc63ed6a",
   "metadata": {},
   "source": [
    "lowkey hate myself for not remembering this lol. c'est la vie :("
   ]
  },
  {
   "cell_type": "markdown",
   "id": "3bbf7a67-6772-4090-9e68-b13aedbfd5a7",
   "metadata": {},
   "source": [
    "Now back to this: after getting all the rat counts, I added them to a new data frame. I started by creating a dictionary using \"borough\" and \"rat count\" as the keys then turned the dictionary into a data frame."
   ]
  },
  {
   "cell_type": "code",
   "execution_count": 28,
   "id": "f7d28d24-5104-4de2-b209-4a33509df99d",
   "metadata": {},
   "outputs": [
    {
     "name": "stdout",
     "output_type": "stream",
     "text": [
      "{'BOROUGH': ['Manhattan', 'Bronx', 'Brooklyn', 'Queens', 'Staten Island'], 'RAT COUNT': [784858, 710709, 674610, 208874, 56071]}\n"
     ]
    }
   ],
   "source": [
    "#create dictionary to store values\n",
    "borough_dictionary = {\n",
    "    \"BOROUGH\": [\"Manhattan\", \"Bronx\", \"Brooklyn\", \"Queens\", \"Staten Island\"],\n",
    "    \"RAT COUNT\": [manhattan_rats, bronx_rats, brooklyn_rats, queens_rats, statenisland_rats]\n",
    "}\n",
    "print(borough_dictionary)"
   ]
  },
  {
   "cell_type": "code",
   "execution_count": 29,
   "id": "c70b1b73-1fe0-4161-8d72-bb863686197c",
   "metadata": {},
   "outputs": [
    {
     "data": {
      "text/html": [
       "<div>\n",
       "<style scoped>\n",
       "    .dataframe tbody tr th:only-of-type {\n",
       "        vertical-align: middle;\n",
       "    }\n",
       "\n",
       "    .dataframe tbody tr th {\n",
       "        vertical-align: top;\n",
       "    }\n",
       "\n",
       "    .dataframe thead th {\n",
       "        text-align: right;\n",
       "    }\n",
       "</style>\n",
       "<table border=\"1\" class=\"dataframe\">\n",
       "  <thead>\n",
       "    <tr style=\"text-align: right;\">\n",
       "      <th></th>\n",
       "      <th>BOROUGH</th>\n",
       "      <th>RAT COUNT</th>\n",
       "    </tr>\n",
       "  </thead>\n",
       "  <tbody>\n",
       "    <tr>\n",
       "      <th>0</th>\n",
       "      <td>Manhattan</td>\n",
       "      <td>784858</td>\n",
       "    </tr>\n",
       "    <tr>\n",
       "      <th>1</th>\n",
       "      <td>Bronx</td>\n",
       "      <td>710709</td>\n",
       "    </tr>\n",
       "    <tr>\n",
       "      <th>2</th>\n",
       "      <td>Brooklyn</td>\n",
       "      <td>674610</td>\n",
       "    </tr>\n",
       "    <tr>\n",
       "      <th>3</th>\n",
       "      <td>Queens</td>\n",
       "      <td>208874</td>\n",
       "    </tr>\n",
       "    <tr>\n",
       "      <th>4</th>\n",
       "      <td>Staten Island</td>\n",
       "      <td>56071</td>\n",
       "    </tr>\n",
       "  </tbody>\n",
       "</table>\n",
       "</div>"
      ],
      "text/plain": [
       "         BOROUGH  RAT COUNT\n",
       "0      Manhattan     784858\n",
       "1          Bronx     710709\n",
       "2       Brooklyn     674610\n",
       "3         Queens     208874\n",
       "4  Staten Island      56071"
      ]
     },
     "execution_count": 29,
     "metadata": {},
     "output_type": "execute_result"
    }
   ],
   "source": [
    "#turn dictionary into data frame\n",
    "borough_rats = pd.DataFrame(borough_dictionary)\n",
    "borough_rats"
   ]
  },
  {
   "cell_type": "markdown",
   "id": "138f18fa-1cb2-4aca-9ad9-92bf90c786a0",
   "metadata": {},
   "source": [
    "And voila! Moving onto the rent data now..."
   ]
  },
  {
   "cell_type": "markdown",
   "id": "aa966b83-f233-455a-8dd4-3b20a324e6a5",
   "metadata": {},
   "source": [
    "# The Rent Section\n",
    "\n",
    "I started off working with the rent data by droping all the missing/undefined values and renaming the borough column so that it matched the case style of the rat data."
   ]
  },
  {
   "cell_type": "code",
   "execution_count": 32,
   "id": "fc741ad6-972c-4778-a701-fb262369aa0a",
   "metadata": {},
   "outputs": [
    {
     "data": {
      "text/html": [
       "<div>\n",
       "<style scoped>\n",
       "    .dataframe tbody tr th:only-of-type {\n",
       "        vertical-align: middle;\n",
       "    }\n",
       "\n",
       "    .dataframe tbody tr th {\n",
       "        vertical-align: top;\n",
       "    }\n",
       "\n",
       "    .dataframe thead th {\n",
       "        text-align: right;\n",
       "    }\n",
       "</style>\n",
       "<table border=\"1\" class=\"dataframe\">\n",
       "  <thead>\n",
       "    <tr style=\"text-align: right;\">\n",
       "      <th></th>\n",
       "      <th>areaName</th>\n",
       "      <th>BOROUGH</th>\n",
       "      <th>areaType</th>\n",
       "      <th>2010-01</th>\n",
       "      <th>2010-02</th>\n",
       "      <th>2010-03</th>\n",
       "      <th>2010-04</th>\n",
       "      <th>2010-05</th>\n",
       "      <th>2010-06</th>\n",
       "      <th>2010-07</th>\n",
       "      <th>...</th>\n",
       "      <th>2024-01</th>\n",
       "      <th>2024-02</th>\n",
       "      <th>2024-03</th>\n",
       "      <th>2024-04</th>\n",
       "      <th>2024-05</th>\n",
       "      <th>2024-06</th>\n",
       "      <th>2024-07</th>\n",
       "      <th>2024-08</th>\n",
       "      <th>2024-09</th>\n",
       "      <th>2024-10</th>\n",
       "    </tr>\n",
       "  </thead>\n",
       "  <tbody>\n",
       "    <tr>\n",
       "      <th>0</th>\n",
       "      <td>All Downtown</td>\n",
       "      <td>Manhattan</td>\n",
       "      <td>submarket</td>\n",
       "      <td>3200.0</td>\n",
       "      <td>3200.0</td>\n",
       "      <td>3015.0</td>\n",
       "      <td>3100.0</td>\n",
       "      <td>3100.0</td>\n",
       "      <td>3200.0</td>\n",
       "      <td>3195.0</td>\n",
       "      <td>...</td>\n",
       "      <td>4800.0</td>\n",
       "      <td>4850.0</td>\n",
       "      <td>4895.0</td>\n",
       "      <td>4963.0</td>\n",
       "      <td>5000.0</td>\n",
       "      <td>4995.0</td>\n",
       "      <td>4950.0</td>\n",
       "      <td>4948.0</td>\n",
       "      <td>4900.0</td>\n",
       "      <td>4949.0</td>\n",
       "    </tr>\n",
       "    <tr>\n",
       "      <th>1</th>\n",
       "      <td>All Midtown</td>\n",
       "      <td>Manhattan</td>\n",
       "      <td>submarket</td>\n",
       "      <td>2875.0</td>\n",
       "      <td>2800.0</td>\n",
       "      <td>2800.0</td>\n",
       "      <td>2850.0</td>\n",
       "      <td>2895.0</td>\n",
       "      <td>2950.0</td>\n",
       "      <td>3000.0</td>\n",
       "      <td>...</td>\n",
       "      <td>4445.0</td>\n",
       "      <td>4421.0</td>\n",
       "      <td>4400.0</td>\n",
       "      <td>4498.0</td>\n",
       "      <td>4550.0</td>\n",
       "      <td>4525.0</td>\n",
       "      <td>4500.0</td>\n",
       "      <td>4500.0</td>\n",
       "      <td>4495.0</td>\n",
       "      <td>4495.0</td>\n",
       "    </tr>\n",
       "    <tr>\n",
       "      <th>2</th>\n",
       "      <td>All Upper East Side</td>\n",
       "      <td>Manhattan</td>\n",
       "      <td>submarket</td>\n",
       "      <td>2450.0</td>\n",
       "      <td>2450.0</td>\n",
       "      <td>2400.0</td>\n",
       "      <td>2500.0</td>\n",
       "      <td>2565.0</td>\n",
       "      <td>2570.0</td>\n",
       "      <td>2595.0</td>\n",
       "      <td>...</td>\n",
       "      <td>3950.0</td>\n",
       "      <td>3995.0</td>\n",
       "      <td>3950.0</td>\n",
       "      <td>3900.0</td>\n",
       "      <td>3950.0</td>\n",
       "      <td>3900.0</td>\n",
       "      <td>3950.0</td>\n",
       "      <td>3900.0</td>\n",
       "      <td>3925.0</td>\n",
       "      <td>3950.0</td>\n",
       "    </tr>\n",
       "    <tr>\n",
       "      <th>3</th>\n",
       "      <td>All Upper Manhattan</td>\n",
       "      <td>Manhattan</td>\n",
       "      <td>submarket</td>\n",
       "      <td>1825.0</td>\n",
       "      <td>1800.0</td>\n",
       "      <td>1795.0</td>\n",
       "      <td>1800.0</td>\n",
       "      <td>1823.0</td>\n",
       "      <td>1850.0</td>\n",
       "      <td>1875.0</td>\n",
       "      <td>...</td>\n",
       "      <td>2800.0</td>\n",
       "      <td>2900.0</td>\n",
       "      <td>2850.0</td>\n",
       "      <td>2995.0</td>\n",
       "      <td>3000.0</td>\n",
       "      <td>3000.0</td>\n",
       "      <td>3050.0</td>\n",
       "      <td>3000.0</td>\n",
       "      <td>2900.0</td>\n",
       "      <td>2895.0</td>\n",
       "    </tr>\n",
       "    <tr>\n",
       "      <th>4</th>\n",
       "      <td>All Upper West Side</td>\n",
       "      <td>Manhattan</td>\n",
       "      <td>submarket</td>\n",
       "      <td>2895.0</td>\n",
       "      <td>2800.0</td>\n",
       "      <td>2750.0</td>\n",
       "      <td>2800.0</td>\n",
       "      <td>2800.0</td>\n",
       "      <td>2795.0</td>\n",
       "      <td>2800.0</td>\n",
       "      <td>...</td>\n",
       "      <td>4278.0</td>\n",
       "      <td>4300.0</td>\n",
       "      <td>4425.0</td>\n",
       "      <td>4500.0</td>\n",
       "      <td>4500.0</td>\n",
       "      <td>4395.0</td>\n",
       "      <td>4450.0</td>\n",
       "      <td>4395.0</td>\n",
       "      <td>4400.0</td>\n",
       "      <td>4450.0</td>\n",
       "    </tr>\n",
       "    <tr>\n",
       "      <th>...</th>\n",
       "      <td>...</td>\n",
       "      <td>...</td>\n",
       "      <td>...</td>\n",
       "      <td>...</td>\n",
       "      <td>...</td>\n",
       "      <td>...</td>\n",
       "      <td>...</td>\n",
       "      <td>...</td>\n",
       "      <td>...</td>\n",
       "      <td>...</td>\n",
       "      <td>...</td>\n",
       "      <td>...</td>\n",
       "      <td>...</td>\n",
       "      <td>...</td>\n",
       "      <td>...</td>\n",
       "      <td>...</td>\n",
       "      <td>...</td>\n",
       "      <td>...</td>\n",
       "      <td>...</td>\n",
       "      <td>...</td>\n",
       "      <td>...</td>\n",
       "    </tr>\n",
       "    <tr>\n",
       "      <th>182</th>\n",
       "      <td>Upper West Side</td>\n",
       "      <td>Manhattan</td>\n",
       "      <td>neighborhood</td>\n",
       "      <td>2895.0</td>\n",
       "      <td>2800.0</td>\n",
       "      <td>2750.0</td>\n",
       "      <td>2800.0</td>\n",
       "      <td>2800.0</td>\n",
       "      <td>2795.0</td>\n",
       "      <td>2800.0</td>\n",
       "      <td>...</td>\n",
       "      <td>4278.0</td>\n",
       "      <td>4300.0</td>\n",
       "      <td>4425.0</td>\n",
       "      <td>4500.0</td>\n",
       "      <td>4500.0</td>\n",
       "      <td>4395.0</td>\n",
       "      <td>4450.0</td>\n",
       "      <td>4395.0</td>\n",
       "      <td>4400.0</td>\n",
       "      <td>4450.0</td>\n",
       "    </tr>\n",
       "    <tr>\n",
       "      <th>186</th>\n",
       "      <td>Washington Heights</td>\n",
       "      <td>Manhattan</td>\n",
       "      <td>neighborhood</td>\n",
       "      <td>1550.0</td>\n",
       "      <td>1545.0</td>\n",
       "      <td>1597.0</td>\n",
       "      <td>1600.0</td>\n",
       "      <td>1650.0</td>\n",
       "      <td>1653.0</td>\n",
       "      <td>1678.0</td>\n",
       "      <td>...</td>\n",
       "      <td>2550.0</td>\n",
       "      <td>2600.0</td>\n",
       "      <td>2600.0</td>\n",
       "      <td>2650.0</td>\n",
       "      <td>2700.0</td>\n",
       "      <td>2750.0</td>\n",
       "      <td>2746.0</td>\n",
       "      <td>2700.0</td>\n",
       "      <td>2695.0</td>\n",
       "      <td>2650.0</td>\n",
       "    </tr>\n",
       "    <tr>\n",
       "      <th>188</th>\n",
       "      <td>West Village</td>\n",
       "      <td>Manhattan</td>\n",
       "      <td>neighborhood</td>\n",
       "      <td>3265.0</td>\n",
       "      <td>3395.0</td>\n",
       "      <td>3113.0</td>\n",
       "      <td>3250.0</td>\n",
       "      <td>3073.0</td>\n",
       "      <td>3138.0</td>\n",
       "      <td>3195.0</td>\n",
       "      <td>...</td>\n",
       "      <td>5300.0</td>\n",
       "      <td>5374.0</td>\n",
       "      <td>5500.0</td>\n",
       "      <td>5598.0</td>\n",
       "      <td>5495.0</td>\n",
       "      <td>5250.0</td>\n",
       "      <td>5000.0</td>\n",
       "      <td>5000.0</td>\n",
       "      <td>5100.0</td>\n",
       "      <td>5250.0</td>\n",
       "    </tr>\n",
       "    <tr>\n",
       "      <th>192</th>\n",
       "      <td>Williamsburg</td>\n",
       "      <td>Brooklyn</td>\n",
       "      <td>neighborhood</td>\n",
       "      <td>2500.0</td>\n",
       "      <td>2500.0</td>\n",
       "      <td>2500.0</td>\n",
       "      <td>2600.0</td>\n",
       "      <td>2625.0</td>\n",
       "      <td>2700.0</td>\n",
       "      <td>2775.0</td>\n",
       "      <td>...</td>\n",
       "      <td>4324.0</td>\n",
       "      <td>4373.0</td>\n",
       "      <td>4400.0</td>\n",
       "      <td>4500.0</td>\n",
       "      <td>4550.0</td>\n",
       "      <td>4531.0</td>\n",
       "      <td>4600.0</td>\n",
       "      <td>4527.0</td>\n",
       "      <td>4526.0</td>\n",
       "      <td>4500.0</td>\n",
       "    </tr>\n",
       "    <tr>\n",
       "      <th>193</th>\n",
       "      <td>Windsor Terrace</td>\n",
       "      <td>Brooklyn</td>\n",
       "      <td>neighborhood</td>\n",
       "      <td>1550.0</td>\n",
       "      <td>1600.0</td>\n",
       "      <td>1650.0</td>\n",
       "      <td>1600.0</td>\n",
       "      <td>1800.0</td>\n",
       "      <td>1825.0</td>\n",
       "      <td>1995.0</td>\n",
       "      <td>...</td>\n",
       "      <td>3000.0</td>\n",
       "      <td>3000.0</td>\n",
       "      <td>3000.0</td>\n",
       "      <td>3595.0</td>\n",
       "      <td>3685.0</td>\n",
       "      <td>3500.0</td>\n",
       "      <td>3500.0</td>\n",
       "      <td>3500.0</td>\n",
       "      <td>3720.0</td>\n",
       "      <td>3975.0</td>\n",
       "    </tr>\n",
       "  </tbody>\n",
       "</table>\n",
       "<p>69 rows × 181 columns</p>\n",
       "</div>"
      ],
      "text/plain": [
       "                areaName    BOROUGH      areaType  2010-01  2010-02  2010-03  \\\n",
       "0           All Downtown  Manhattan     submarket   3200.0   3200.0   3015.0   \n",
       "1            All Midtown  Manhattan     submarket   2875.0   2800.0   2800.0   \n",
       "2    All Upper East Side  Manhattan     submarket   2450.0   2450.0   2400.0   \n",
       "3    All Upper Manhattan  Manhattan     submarket   1825.0   1800.0   1795.0   \n",
       "4    All Upper West Side  Manhattan     submarket   2895.0   2800.0   2750.0   \n",
       "..                   ...        ...           ...      ...      ...      ...   \n",
       "182      Upper West Side  Manhattan  neighborhood   2895.0   2800.0   2750.0   \n",
       "186   Washington Heights  Manhattan  neighborhood   1550.0   1545.0   1597.0   \n",
       "188         West Village  Manhattan  neighborhood   3265.0   3395.0   3113.0   \n",
       "192         Williamsburg   Brooklyn  neighborhood   2500.0   2500.0   2500.0   \n",
       "193      Windsor Terrace   Brooklyn  neighborhood   1550.0   1600.0   1650.0   \n",
       "\n",
       "     2010-04  2010-05  2010-06  2010-07  ...  2024-01  2024-02  2024-03  \\\n",
       "0     3100.0   3100.0   3200.0   3195.0  ...   4800.0   4850.0   4895.0   \n",
       "1     2850.0   2895.0   2950.0   3000.0  ...   4445.0   4421.0   4400.0   \n",
       "2     2500.0   2565.0   2570.0   2595.0  ...   3950.0   3995.0   3950.0   \n",
       "3     1800.0   1823.0   1850.0   1875.0  ...   2800.0   2900.0   2850.0   \n",
       "4     2800.0   2800.0   2795.0   2800.0  ...   4278.0   4300.0   4425.0   \n",
       "..       ...      ...      ...      ...  ...      ...      ...      ...   \n",
       "182   2800.0   2800.0   2795.0   2800.0  ...   4278.0   4300.0   4425.0   \n",
       "186   1600.0   1650.0   1653.0   1678.0  ...   2550.0   2600.0   2600.0   \n",
       "188   3250.0   3073.0   3138.0   3195.0  ...   5300.0   5374.0   5500.0   \n",
       "192   2600.0   2625.0   2700.0   2775.0  ...   4324.0   4373.0   4400.0   \n",
       "193   1600.0   1800.0   1825.0   1995.0  ...   3000.0   3000.0   3000.0   \n",
       "\n",
       "     2024-04  2024-05  2024-06  2024-07  2024-08  2024-09  2024-10  \n",
       "0     4963.0   5000.0   4995.0   4950.0   4948.0   4900.0   4949.0  \n",
       "1     4498.0   4550.0   4525.0   4500.0   4500.0   4495.0   4495.0  \n",
       "2     3900.0   3950.0   3900.0   3950.0   3900.0   3925.0   3950.0  \n",
       "3     2995.0   3000.0   3000.0   3050.0   3000.0   2900.0   2895.0  \n",
       "4     4500.0   4500.0   4395.0   4450.0   4395.0   4400.0   4450.0  \n",
       "..       ...      ...      ...      ...      ...      ...      ...  \n",
       "182   4500.0   4500.0   4395.0   4450.0   4395.0   4400.0   4450.0  \n",
       "186   2650.0   2700.0   2750.0   2746.0   2700.0   2695.0   2650.0  \n",
       "188   5598.0   5495.0   5250.0   5000.0   5000.0   5100.0   5250.0  \n",
       "192   4500.0   4550.0   4531.0   4600.0   4527.0   4526.0   4500.0  \n",
       "193   3595.0   3685.0   3500.0   3500.0   3500.0   3720.0   3975.0  \n",
       "\n",
       "[69 rows x 181 columns]"
      ]
     },
     "execution_count": 32,
     "metadata": {},
     "output_type": "execute_result"
    }
   ],
   "source": [
    "#standard cleaning and renaming\n",
    "rent = rent.dropna()\n",
    "rent = rent.rename(columns={\"Borough\": \"BOROUGH\"})\n",
    "rent"
   ]
  },
  {
   "cell_type": "markdown",
   "id": "73da5dff-d6a7-4012-983f-d4defdc301f8",
   "metadata": {},
   "source": [
    "# Filtering Rent Data for Specific Time Frame\n",
    "Going back to what I said about filtering the rat data for January 2021 - January 2024, I also decided to only calculate the Y/Y percent changes for January. So I decided to drop all the columns that were not January (i.e. February, March, April, etc.) for simplicity. "
   ]
  },
  {
   "cell_type": "code",
   "execution_count": 34,
   "id": "36f7f100-6525-46b7-9415-aad9f48c49b2",
   "metadata": {},
   "outputs": [],
   "source": [
    "#filter out columns that are not relevant\n",
    "dropped_columns = []\n",
    "\n",
    "#iterate through the columns\n",
    "for column in rent.columns:\n",
    "    #leave areaName and borough\n",
    "    if column in [\"areaName\",\"BOROUGH\"]:\n",
    "        continue\n",
    "    #add columns I want to drop to a list\n",
    "    if \"-01\" not in column:\n",
    "        dropped_columns.append(column)   "
   ]
  },
  {
   "cell_type": "code",
   "execution_count": 35,
   "id": "dda489ea-a3e7-4b1b-814b-8d8ce416b67b",
   "metadata": {},
   "outputs": [
    {
     "data": {
      "text/html": [
       "<div>\n",
       "<style scoped>\n",
       "    .dataframe tbody tr th:only-of-type {\n",
       "        vertical-align: middle;\n",
       "    }\n",
       "\n",
       "    .dataframe tbody tr th {\n",
       "        vertical-align: top;\n",
       "    }\n",
       "\n",
       "    .dataframe thead th {\n",
       "        text-align: right;\n",
       "    }\n",
       "</style>\n",
       "<table border=\"1\" class=\"dataframe\">\n",
       "  <thead>\n",
       "    <tr style=\"text-align: right;\">\n",
       "      <th></th>\n",
       "      <th>areaName</th>\n",
       "      <th>BOROUGH</th>\n",
       "      <th>2010-01</th>\n",
       "      <th>2011-01</th>\n",
       "      <th>2012-01</th>\n",
       "      <th>2013-01</th>\n",
       "      <th>2014-01</th>\n",
       "      <th>2015-01</th>\n",
       "      <th>2016-01</th>\n",
       "      <th>2017-01</th>\n",
       "      <th>2018-01</th>\n",
       "      <th>2019-01</th>\n",
       "      <th>2020-01</th>\n",
       "      <th>2021-01</th>\n",
       "      <th>2022-01</th>\n",
       "      <th>2023-01</th>\n",
       "      <th>2024-01</th>\n",
       "    </tr>\n",
       "  </thead>\n",
       "  <tbody>\n",
       "    <tr>\n",
       "      <th>0</th>\n",
       "      <td>All Downtown</td>\n",
       "      <td>Manhattan</td>\n",
       "      <td>3200.0</td>\n",
       "      <td>3350.0</td>\n",
       "      <td>3450.0</td>\n",
       "      <td>3510.0</td>\n",
       "      <td>3615.0</td>\n",
       "      <td>3600.0</td>\n",
       "      <td>3700.0</td>\n",
       "      <td>3650.0</td>\n",
       "      <td>3650.0</td>\n",
       "      <td>3800.0</td>\n",
       "      <td>4000.0</td>\n",
       "      <td>3150.0</td>\n",
       "      <td>4500.0</td>\n",
       "      <td>4849.0</td>\n",
       "      <td>4800.0</td>\n",
       "    </tr>\n",
       "    <tr>\n",
       "      <th>1</th>\n",
       "      <td>All Midtown</td>\n",
       "      <td>Manhattan</td>\n",
       "      <td>2875.0</td>\n",
       "      <td>3155.0</td>\n",
       "      <td>3300.0</td>\n",
       "      <td>3400.0</td>\n",
       "      <td>3350.0</td>\n",
       "      <td>3500.0</td>\n",
       "      <td>3495.0</td>\n",
       "      <td>3470.0</td>\n",
       "      <td>3378.0</td>\n",
       "      <td>3500.0</td>\n",
       "      <td>3700.0</td>\n",
       "      <td>2900.0</td>\n",
       "      <td>4303.0</td>\n",
       "      <td>4363.0</td>\n",
       "      <td>4445.0</td>\n",
       "    </tr>\n",
       "    <tr>\n",
       "      <th>2</th>\n",
       "      <td>All Upper East Side</td>\n",
       "      <td>Manhattan</td>\n",
       "      <td>2450.0</td>\n",
       "      <td>2500.0</td>\n",
       "      <td>2700.0</td>\n",
       "      <td>2795.0</td>\n",
       "      <td>2700.0</td>\n",
       "      <td>2850.0</td>\n",
       "      <td>2995.0</td>\n",
       "      <td>2995.0</td>\n",
       "      <td>2900.0</td>\n",
       "      <td>3000.0</td>\n",
       "      <td>3275.0</td>\n",
       "      <td>2450.0</td>\n",
       "      <td>3450.0</td>\n",
       "      <td>3900.0</td>\n",
       "      <td>3950.0</td>\n",
       "    </tr>\n",
       "    <tr>\n",
       "      <th>3</th>\n",
       "      <td>All Upper Manhattan</td>\n",
       "      <td>Manhattan</td>\n",
       "      <td>1825.0</td>\n",
       "      <td>1850.0</td>\n",
       "      <td>2000.0</td>\n",
       "      <td>1980.0</td>\n",
       "      <td>2000.0</td>\n",
       "      <td>2156.0</td>\n",
       "      <td>2289.0</td>\n",
       "      <td>2350.0</td>\n",
       "      <td>2275.0</td>\n",
       "      <td>2300.0</td>\n",
       "      <td>2393.0</td>\n",
       "      <td>2200.0</td>\n",
       "      <td>2399.0</td>\n",
       "      <td>2650.0</td>\n",
       "      <td>2800.0</td>\n",
       "    </tr>\n",
       "    <tr>\n",
       "      <th>4</th>\n",
       "      <td>All Upper West Side</td>\n",
       "      <td>Manhattan</td>\n",
       "      <td>2895.0</td>\n",
       "      <td>2995.0</td>\n",
       "      <td>3300.0</td>\n",
       "      <td>3200.0</td>\n",
       "      <td>3200.0</td>\n",
       "      <td>3285.0</td>\n",
       "      <td>3424.0</td>\n",
       "      <td>3299.0</td>\n",
       "      <td>3350.0</td>\n",
       "      <td>3395.0</td>\n",
       "      <td>3650.0</td>\n",
       "      <td>2800.0</td>\n",
       "      <td>3995.0</td>\n",
       "      <td>4488.0</td>\n",
       "      <td>4278.0</td>\n",
       "    </tr>\n",
       "    <tr>\n",
       "      <th>...</th>\n",
       "      <td>...</td>\n",
       "      <td>...</td>\n",
       "      <td>...</td>\n",
       "      <td>...</td>\n",
       "      <td>...</td>\n",
       "      <td>...</td>\n",
       "      <td>...</td>\n",
       "      <td>...</td>\n",
       "      <td>...</td>\n",
       "      <td>...</td>\n",
       "      <td>...</td>\n",
       "      <td>...</td>\n",
       "      <td>...</td>\n",
       "      <td>...</td>\n",
       "      <td>...</td>\n",
       "      <td>...</td>\n",
       "      <td>...</td>\n",
       "    </tr>\n",
       "    <tr>\n",
       "      <th>182</th>\n",
       "      <td>Upper West Side</td>\n",
       "      <td>Manhattan</td>\n",
       "      <td>2895.0</td>\n",
       "      <td>2995.0</td>\n",
       "      <td>3300.0</td>\n",
       "      <td>3200.0</td>\n",
       "      <td>3200.0</td>\n",
       "      <td>3285.0</td>\n",
       "      <td>3424.0</td>\n",
       "      <td>3299.0</td>\n",
       "      <td>3350.0</td>\n",
       "      <td>3395.0</td>\n",
       "      <td>3650.0</td>\n",
       "      <td>2800.0</td>\n",
       "      <td>3995.0</td>\n",
       "      <td>4488.0</td>\n",
       "      <td>4278.0</td>\n",
       "    </tr>\n",
       "    <tr>\n",
       "      <th>186</th>\n",
       "      <td>Washington Heights</td>\n",
       "      <td>Manhattan</td>\n",
       "      <td>1550.0</td>\n",
       "      <td>1800.0</td>\n",
       "      <td>1893.0</td>\n",
       "      <td>1800.0</td>\n",
       "      <td>1750.0</td>\n",
       "      <td>1945.0</td>\n",
       "      <td>2100.0</td>\n",
       "      <td>2214.0</td>\n",
       "      <td>2125.0</td>\n",
       "      <td>2150.0</td>\n",
       "      <td>2225.0</td>\n",
       "      <td>2000.0</td>\n",
       "      <td>2290.0</td>\n",
       "      <td>2405.0</td>\n",
       "      <td>2550.0</td>\n",
       "    </tr>\n",
       "    <tr>\n",
       "      <th>188</th>\n",
       "      <td>West Village</td>\n",
       "      <td>Manhattan</td>\n",
       "      <td>3265.0</td>\n",
       "      <td>3348.0</td>\n",
       "      <td>3300.0</td>\n",
       "      <td>3500.0</td>\n",
       "      <td>3550.0</td>\n",
       "      <td>3750.0</td>\n",
       "      <td>3800.0</td>\n",
       "      <td>3565.0</td>\n",
       "      <td>3598.0</td>\n",
       "      <td>3850.0</td>\n",
       "      <td>4185.0</td>\n",
       "      <td>3025.0</td>\n",
       "      <td>4495.0</td>\n",
       "      <td>5200.0</td>\n",
       "      <td>5300.0</td>\n",
       "    </tr>\n",
       "    <tr>\n",
       "      <th>192</th>\n",
       "      <td>Williamsburg</td>\n",
       "      <td>Brooklyn</td>\n",
       "      <td>2500.0</td>\n",
       "      <td>2800.0</td>\n",
       "      <td>3032.0</td>\n",
       "      <td>3400.0</td>\n",
       "      <td>3000.0</td>\n",
       "      <td>3050.0</td>\n",
       "      <td>3275.0</td>\n",
       "      <td>3000.0</td>\n",
       "      <td>2900.0</td>\n",
       "      <td>2995.0</td>\n",
       "      <td>3500.0</td>\n",
       "      <td>2793.0</td>\n",
       "      <td>3800.0</td>\n",
       "      <td>4250.0</td>\n",
       "      <td>4324.0</td>\n",
       "    </tr>\n",
       "    <tr>\n",
       "      <th>193</th>\n",
       "      <td>Windsor Terrace</td>\n",
       "      <td>Brooklyn</td>\n",
       "      <td>1550.0</td>\n",
       "      <td>2200.0</td>\n",
       "      <td>2325.0</td>\n",
       "      <td>2200.0</td>\n",
       "      <td>2200.0</td>\n",
       "      <td>2700.0</td>\n",
       "      <td>2485.0</td>\n",
       "      <td>2500.0</td>\n",
       "      <td>2400.0</td>\n",
       "      <td>2600.0</td>\n",
       "      <td>2500.0</td>\n",
       "      <td>2750.0</td>\n",
       "      <td>3000.0</td>\n",
       "      <td>3000.0</td>\n",
       "      <td>3000.0</td>\n",
       "    </tr>\n",
       "  </tbody>\n",
       "</table>\n",
       "<p>69 rows × 17 columns</p>\n",
       "</div>"
      ],
      "text/plain": [
       "                areaName    BOROUGH  2010-01  2011-01  2012-01  2013-01  \\\n",
       "0           All Downtown  Manhattan   3200.0   3350.0   3450.0   3510.0   \n",
       "1            All Midtown  Manhattan   2875.0   3155.0   3300.0   3400.0   \n",
       "2    All Upper East Side  Manhattan   2450.0   2500.0   2700.0   2795.0   \n",
       "3    All Upper Manhattan  Manhattan   1825.0   1850.0   2000.0   1980.0   \n",
       "4    All Upper West Side  Manhattan   2895.0   2995.0   3300.0   3200.0   \n",
       "..                   ...        ...      ...      ...      ...      ...   \n",
       "182      Upper West Side  Manhattan   2895.0   2995.0   3300.0   3200.0   \n",
       "186   Washington Heights  Manhattan   1550.0   1800.0   1893.0   1800.0   \n",
       "188         West Village  Manhattan   3265.0   3348.0   3300.0   3500.0   \n",
       "192         Williamsburg   Brooklyn   2500.0   2800.0   3032.0   3400.0   \n",
       "193      Windsor Terrace   Brooklyn   1550.0   2200.0   2325.0   2200.0   \n",
       "\n",
       "     2014-01  2015-01  2016-01  2017-01  2018-01  2019-01  2020-01  2021-01  \\\n",
       "0     3615.0   3600.0   3700.0   3650.0   3650.0   3800.0   4000.0   3150.0   \n",
       "1     3350.0   3500.0   3495.0   3470.0   3378.0   3500.0   3700.0   2900.0   \n",
       "2     2700.0   2850.0   2995.0   2995.0   2900.0   3000.0   3275.0   2450.0   \n",
       "3     2000.0   2156.0   2289.0   2350.0   2275.0   2300.0   2393.0   2200.0   \n",
       "4     3200.0   3285.0   3424.0   3299.0   3350.0   3395.0   3650.0   2800.0   \n",
       "..       ...      ...      ...      ...      ...      ...      ...      ...   \n",
       "182   3200.0   3285.0   3424.0   3299.0   3350.0   3395.0   3650.0   2800.0   \n",
       "186   1750.0   1945.0   2100.0   2214.0   2125.0   2150.0   2225.0   2000.0   \n",
       "188   3550.0   3750.0   3800.0   3565.0   3598.0   3850.0   4185.0   3025.0   \n",
       "192   3000.0   3050.0   3275.0   3000.0   2900.0   2995.0   3500.0   2793.0   \n",
       "193   2200.0   2700.0   2485.0   2500.0   2400.0   2600.0   2500.0   2750.0   \n",
       "\n",
       "     2022-01  2023-01  2024-01  \n",
       "0     4500.0   4849.0   4800.0  \n",
       "1     4303.0   4363.0   4445.0  \n",
       "2     3450.0   3900.0   3950.0  \n",
       "3     2399.0   2650.0   2800.0  \n",
       "4     3995.0   4488.0   4278.0  \n",
       "..       ...      ...      ...  \n",
       "182   3995.0   4488.0   4278.0  \n",
       "186   2290.0   2405.0   2550.0  \n",
       "188   4495.0   5200.0   5300.0  \n",
       "192   3800.0   4250.0   4324.0  \n",
       "193   3000.0   3000.0   3000.0  \n",
       "\n",
       "[69 rows x 17 columns]"
      ]
     },
     "execution_count": 35,
     "metadata": {},
     "output_type": "execute_result"
    }
   ],
   "source": [
    "#drop everything else thats not january \n",
    "filtered_rent = rent.drop(columns=dropped_columns)\n",
    "filtered_rent"
   ]
  },
  {
   "cell_type": "markdown",
   "id": "c1047b4f-a41a-4e3e-8cbb-74ca05cb3574",
   "metadata": {},
   "source": [
    "Next I created a new data frame to the new columns I'll make for the percent changes. This probably wasn't necessary but if I added it to the filtered_rent data frame, then it would've been an eyesore to read."
   ]
  },
  {
   "cell_type": "code",
   "execution_count": 37,
   "id": "f2d128c1-2ebb-4bbd-87ec-9ab3537597b1",
   "metadata": {},
   "outputs": [
    {
     "data": {
      "text/html": [
       "<div>\n",
       "<style scoped>\n",
       "    .dataframe tbody tr th:only-of-type {\n",
       "        vertical-align: middle;\n",
       "    }\n",
       "\n",
       "    .dataframe tbody tr th {\n",
       "        vertical-align: top;\n",
       "    }\n",
       "\n",
       "    .dataframe thead th {\n",
       "        text-align: right;\n",
       "    }\n",
       "</style>\n",
       "<table border=\"1\" class=\"dataframe\">\n",
       "  <thead>\n",
       "    <tr style=\"text-align: right;\">\n",
       "      <th></th>\n",
       "      <th>AREA NAME</th>\n",
       "      <th>BOROUGH</th>\n",
       "    </tr>\n",
       "  </thead>\n",
       "  <tbody>\n",
       "    <tr>\n",
       "      <th>0</th>\n",
       "      <td>All Downtown</td>\n",
       "      <td>Manhattan</td>\n",
       "    </tr>\n",
       "    <tr>\n",
       "      <th>1</th>\n",
       "      <td>All Midtown</td>\n",
       "      <td>Manhattan</td>\n",
       "    </tr>\n",
       "    <tr>\n",
       "      <th>2</th>\n",
       "      <td>All Upper East Side</td>\n",
       "      <td>Manhattan</td>\n",
       "    </tr>\n",
       "    <tr>\n",
       "      <th>3</th>\n",
       "      <td>All Upper Manhattan</td>\n",
       "      <td>Manhattan</td>\n",
       "    </tr>\n",
       "    <tr>\n",
       "      <th>4</th>\n",
       "      <td>All Upper West Side</td>\n",
       "      <td>Manhattan</td>\n",
       "    </tr>\n",
       "    <tr>\n",
       "      <th>...</th>\n",
       "      <td>...</td>\n",
       "      <td>...</td>\n",
       "    </tr>\n",
       "    <tr>\n",
       "      <th>182</th>\n",
       "      <td>Upper West Side</td>\n",
       "      <td>Manhattan</td>\n",
       "    </tr>\n",
       "    <tr>\n",
       "      <th>186</th>\n",
       "      <td>Washington Heights</td>\n",
       "      <td>Manhattan</td>\n",
       "    </tr>\n",
       "    <tr>\n",
       "      <th>188</th>\n",
       "      <td>West Village</td>\n",
       "      <td>Manhattan</td>\n",
       "    </tr>\n",
       "    <tr>\n",
       "      <th>192</th>\n",
       "      <td>Williamsburg</td>\n",
       "      <td>Brooklyn</td>\n",
       "    </tr>\n",
       "    <tr>\n",
       "      <th>193</th>\n",
       "      <td>Windsor Terrace</td>\n",
       "      <td>Brooklyn</td>\n",
       "    </tr>\n",
       "  </tbody>\n",
       "</table>\n",
       "<p>69 rows × 2 columns</p>\n",
       "</div>"
      ],
      "text/plain": [
       "               AREA NAME    BOROUGH\n",
       "0           All Downtown  Manhattan\n",
       "1            All Midtown  Manhattan\n",
       "2    All Upper East Side  Manhattan\n",
       "3    All Upper Manhattan  Manhattan\n",
       "4    All Upper West Side  Manhattan\n",
       "..                   ...        ...\n",
       "182      Upper West Side  Manhattan\n",
       "186   Washington Heights  Manhattan\n",
       "188         West Village  Manhattan\n",
       "192         Williamsburg   Brooklyn\n",
       "193      Windsor Terrace   Brooklyn\n",
       "\n",
       "[69 rows x 2 columns]"
      ]
     },
     "execution_count": 37,
     "metadata": {},
     "output_type": "execute_result"
    }
   ],
   "source": [
    "#create new data frame that shows just the area name and borough <-- will append the percent change columns to this\n",
    "\n",
    "#also renaming the area name column to match the style of the borough column \n",
    "pctchange_df = pd.DataFrame(filtered_rent[\"areaName\"]).rename(columns = {\"areaName\": \"AREA NAME\"})\n",
    "pctchange_df[\"BOROUGH\"] = filtered_rent[\"BOROUGH\"]\n",
    "pctchange_df"
   ]
  },
  {
   "cell_type": "markdown",
   "id": "973cb6a7-d7f9-47d8-a184-a298f47159d9",
   "metadata": {},
   "source": [
    "Now I'm calculating the Y/Y percent change in rent by creating a new definition then applying it to each column and appending it to the new data frame. There was probably a faster way to do this but alas."
   ]
  },
  {
   "cell_type": "code",
   "execution_count": 39,
   "id": "8785ff6f-b8ca-4116-8f18-0647a9f50333",
   "metadata": {},
   "outputs": [],
   "source": [
    "#percent change calculation\n",
    "def pctchange(old_rent,new_rent):\n",
    "    return ((new_rent - old_rent) / old_rent) * 100"
   ]
  },
  {
   "cell_type": "code",
   "execution_count": 40,
   "id": "58d5a719-5e03-4056-8b6c-bf154fbb97c7",
   "metadata": {},
   "outputs": [],
   "source": [
    "#applying the definition to each column and appending it to the new data frame\n",
    "pctchange_df[\"2010-11 % Change\"] = pctchange(filtered_rent[\"2010-01\"],filtered_rent[\"2011-01\"])\n",
    "pctchange_df[\"2011-12 % Change\"] = pctchange(filtered_rent[\"2011-01\"],filtered_rent[\"2012-01\"])\n",
    "pctchange_df[\"2012-13 % Change\"] = pctchange(filtered_rent[\"2012-01\"],filtered_rent[\"2013-01\"])\n",
    "pctchange_df[\"2013-14 % Change\"] = pctchange(filtered_rent[\"2013-01\"],filtered_rent[\"2014-01\"])\n",
    "pctchange_df[\"2014-15 % Change\"] = pctchange(filtered_rent[\"2014-01\"],filtered_rent[\"2015-01\"])\n",
    "pctchange_df[\"2015-16 % Change\"] = pctchange(filtered_rent[\"2015-01\"],filtered_rent[\"2016-01\"])\n",
    "pctchange_df[\"2016-17 % Change\"] = pctchange(filtered_rent[\"2016-01\"],filtered_rent[\"2017-01\"])\n",
    "pctchange_df[\"2017-18 % Change\"] = pctchange(filtered_rent[\"2017-01\"],filtered_rent[\"2018-01\"])\n",
    "pctchange_df[\"2018-19 % Change\"] = pctchange(filtered_rent[\"2018-01\"],filtered_rent[\"2019-01\"])\n",
    "pctchange_df[\"2019-20 % Change\"] = pctchange(filtered_rent[\"2019-01\"],filtered_rent[\"2020-01\"])\n",
    "pctchange_df[\"2020-21 % Change\"] = pctchange(filtered_rent[\"2020-01\"],filtered_rent[\"2021-01\"])\n",
    "pctchange_df[\"2021-22 % Change\"] = pctchange(filtered_rent[\"2021-01\"],filtered_rent[\"2022-01\"])\n",
    "pctchange_df[\"2022-23 % Change\"] = pctchange(filtered_rent[\"2022-01\"],filtered_rent[\"2023-01\"])\n",
    "pctchange_df[\"2023-24 % Change\"] = pctchange(filtered_rent[\"2023-01\"],filtered_rent[\"2024-01\"])"
   ]
  },
  {
   "cell_type": "code",
   "execution_count": 41,
   "id": "7442e03a-8d38-460b-8f36-e299cbd7d88d",
   "metadata": {},
   "outputs": [
    {
     "data": {
      "text/html": [
       "<div>\n",
       "<style scoped>\n",
       "    .dataframe tbody tr th:only-of-type {\n",
       "        vertical-align: middle;\n",
       "    }\n",
       "\n",
       "    .dataframe tbody tr th {\n",
       "        vertical-align: top;\n",
       "    }\n",
       "\n",
       "    .dataframe thead th {\n",
       "        text-align: right;\n",
       "    }\n",
       "</style>\n",
       "<table border=\"1\" class=\"dataframe\">\n",
       "  <thead>\n",
       "    <tr style=\"text-align: right;\">\n",
       "      <th></th>\n",
       "      <th>AREA NAME</th>\n",
       "      <th>BOROUGH</th>\n",
       "      <th>2010-11 % Change</th>\n",
       "      <th>2011-12 % Change</th>\n",
       "      <th>2012-13 % Change</th>\n",
       "      <th>2013-14 % Change</th>\n",
       "      <th>2014-15 % Change</th>\n",
       "      <th>2015-16 % Change</th>\n",
       "      <th>2016-17 % Change</th>\n",
       "      <th>2017-18 % Change</th>\n",
       "      <th>2018-19 % Change</th>\n",
       "      <th>2019-20 % Change</th>\n",
       "      <th>2020-21 % Change</th>\n",
       "      <th>2021-22 % Change</th>\n",
       "      <th>2022-23 % Change</th>\n",
       "      <th>2023-24 % Change</th>\n",
       "    </tr>\n",
       "  </thead>\n",
       "  <tbody>\n",
       "    <tr>\n",
       "      <th>0</th>\n",
       "      <td>All Downtown</td>\n",
       "      <td>Manhattan</td>\n",
       "      <td>4.687500</td>\n",
       "      <td>2.985075</td>\n",
       "      <td>1.739130</td>\n",
       "      <td>2.991453</td>\n",
       "      <td>-0.414938</td>\n",
       "      <td>2.777778</td>\n",
       "      <td>-1.351351</td>\n",
       "      <td>0.000000</td>\n",
       "      <td>4.109589</td>\n",
       "      <td>5.263158</td>\n",
       "      <td>-21.250000</td>\n",
       "      <td>42.857143</td>\n",
       "      <td>7.755556</td>\n",
       "      <td>-1.010518</td>\n",
       "    </tr>\n",
       "    <tr>\n",
       "      <th>1</th>\n",
       "      <td>All Midtown</td>\n",
       "      <td>Manhattan</td>\n",
       "      <td>9.739130</td>\n",
       "      <td>4.595880</td>\n",
       "      <td>3.030303</td>\n",
       "      <td>-1.470588</td>\n",
       "      <td>4.477612</td>\n",
       "      <td>-0.142857</td>\n",
       "      <td>-0.715308</td>\n",
       "      <td>-2.651297</td>\n",
       "      <td>3.611604</td>\n",
       "      <td>5.714286</td>\n",
       "      <td>-21.621622</td>\n",
       "      <td>48.379310</td>\n",
       "      <td>1.394376</td>\n",
       "      <td>1.879441</td>\n",
       "    </tr>\n",
       "    <tr>\n",
       "      <th>2</th>\n",
       "      <td>All Upper East Side</td>\n",
       "      <td>Manhattan</td>\n",
       "      <td>2.040816</td>\n",
       "      <td>8.000000</td>\n",
       "      <td>3.518519</td>\n",
       "      <td>-3.398927</td>\n",
       "      <td>5.555556</td>\n",
       "      <td>5.087719</td>\n",
       "      <td>0.000000</td>\n",
       "      <td>-3.171953</td>\n",
       "      <td>3.448276</td>\n",
       "      <td>9.166667</td>\n",
       "      <td>-25.190840</td>\n",
       "      <td>40.816327</td>\n",
       "      <td>13.043478</td>\n",
       "      <td>1.282051</td>\n",
       "    </tr>\n",
       "    <tr>\n",
       "      <th>3</th>\n",
       "      <td>All Upper Manhattan</td>\n",
       "      <td>Manhattan</td>\n",
       "      <td>1.369863</td>\n",
       "      <td>8.108108</td>\n",
       "      <td>-1.000000</td>\n",
       "      <td>1.010101</td>\n",
       "      <td>7.800000</td>\n",
       "      <td>6.168831</td>\n",
       "      <td>2.664919</td>\n",
       "      <td>-3.191489</td>\n",
       "      <td>1.098901</td>\n",
       "      <td>4.043478</td>\n",
       "      <td>-8.065190</td>\n",
       "      <td>9.045455</td>\n",
       "      <td>10.462693</td>\n",
       "      <td>5.660377</td>\n",
       "    </tr>\n",
       "    <tr>\n",
       "      <th>4</th>\n",
       "      <td>All Upper West Side</td>\n",
       "      <td>Manhattan</td>\n",
       "      <td>3.454231</td>\n",
       "      <td>10.183639</td>\n",
       "      <td>-3.030303</td>\n",
       "      <td>0.000000</td>\n",
       "      <td>2.656250</td>\n",
       "      <td>4.231355</td>\n",
       "      <td>-3.650701</td>\n",
       "      <td>1.545923</td>\n",
       "      <td>1.343284</td>\n",
       "      <td>7.511046</td>\n",
       "      <td>-23.287671</td>\n",
       "      <td>42.678571</td>\n",
       "      <td>12.340426</td>\n",
       "      <td>-4.679144</td>\n",
       "    </tr>\n",
       "    <tr>\n",
       "      <th>...</th>\n",
       "      <td>...</td>\n",
       "      <td>...</td>\n",
       "      <td>...</td>\n",
       "      <td>...</td>\n",
       "      <td>...</td>\n",
       "      <td>...</td>\n",
       "      <td>...</td>\n",
       "      <td>...</td>\n",
       "      <td>...</td>\n",
       "      <td>...</td>\n",
       "      <td>...</td>\n",
       "      <td>...</td>\n",
       "      <td>...</td>\n",
       "      <td>...</td>\n",
       "      <td>...</td>\n",
       "      <td>...</td>\n",
       "    </tr>\n",
       "    <tr>\n",
       "      <th>182</th>\n",
       "      <td>Upper West Side</td>\n",
       "      <td>Manhattan</td>\n",
       "      <td>3.454231</td>\n",
       "      <td>10.183639</td>\n",
       "      <td>-3.030303</td>\n",
       "      <td>0.000000</td>\n",
       "      <td>2.656250</td>\n",
       "      <td>4.231355</td>\n",
       "      <td>-3.650701</td>\n",
       "      <td>1.545923</td>\n",
       "      <td>1.343284</td>\n",
       "      <td>7.511046</td>\n",
       "      <td>-23.287671</td>\n",
       "      <td>42.678571</td>\n",
       "      <td>12.340426</td>\n",
       "      <td>-4.679144</td>\n",
       "    </tr>\n",
       "    <tr>\n",
       "      <th>186</th>\n",
       "      <td>Washington Heights</td>\n",
       "      <td>Manhattan</td>\n",
       "      <td>16.129032</td>\n",
       "      <td>5.166667</td>\n",
       "      <td>-4.912837</td>\n",
       "      <td>-2.777778</td>\n",
       "      <td>11.142857</td>\n",
       "      <td>7.969152</td>\n",
       "      <td>5.428571</td>\n",
       "      <td>-4.019874</td>\n",
       "      <td>1.176471</td>\n",
       "      <td>3.488372</td>\n",
       "      <td>-10.112360</td>\n",
       "      <td>14.500000</td>\n",
       "      <td>5.021834</td>\n",
       "      <td>6.029106</td>\n",
       "    </tr>\n",
       "    <tr>\n",
       "      <th>188</th>\n",
       "      <td>West Village</td>\n",
       "      <td>Manhattan</td>\n",
       "      <td>2.542113</td>\n",
       "      <td>-1.433692</td>\n",
       "      <td>6.060606</td>\n",
       "      <td>1.428571</td>\n",
       "      <td>5.633803</td>\n",
       "      <td>1.333333</td>\n",
       "      <td>-6.184211</td>\n",
       "      <td>0.925666</td>\n",
       "      <td>7.003891</td>\n",
       "      <td>8.701299</td>\n",
       "      <td>-27.718041</td>\n",
       "      <td>48.595041</td>\n",
       "      <td>15.684093</td>\n",
       "      <td>1.923077</td>\n",
       "    </tr>\n",
       "    <tr>\n",
       "      <th>192</th>\n",
       "      <td>Williamsburg</td>\n",
       "      <td>Brooklyn</td>\n",
       "      <td>12.000000</td>\n",
       "      <td>8.285714</td>\n",
       "      <td>12.137203</td>\n",
       "      <td>-11.764706</td>\n",
       "      <td>1.666667</td>\n",
       "      <td>7.377049</td>\n",
       "      <td>-8.396947</td>\n",
       "      <td>-3.333333</td>\n",
       "      <td>3.275862</td>\n",
       "      <td>16.861436</td>\n",
       "      <td>-20.200000</td>\n",
       "      <td>36.054422</td>\n",
       "      <td>11.842105</td>\n",
       "      <td>1.741176</td>\n",
       "    </tr>\n",
       "    <tr>\n",
       "      <th>193</th>\n",
       "      <td>Windsor Terrace</td>\n",
       "      <td>Brooklyn</td>\n",
       "      <td>41.935484</td>\n",
       "      <td>5.681818</td>\n",
       "      <td>-5.376344</td>\n",
       "      <td>0.000000</td>\n",
       "      <td>22.727273</td>\n",
       "      <td>-7.962963</td>\n",
       "      <td>0.603622</td>\n",
       "      <td>-4.000000</td>\n",
       "      <td>8.333333</td>\n",
       "      <td>-3.846154</td>\n",
       "      <td>10.000000</td>\n",
       "      <td>9.090909</td>\n",
       "      <td>0.000000</td>\n",
       "      <td>0.000000</td>\n",
       "    </tr>\n",
       "  </tbody>\n",
       "</table>\n",
       "<p>69 rows × 16 columns</p>\n",
       "</div>"
      ],
      "text/plain": [
       "               AREA NAME    BOROUGH  2010-11 % Change  2011-12 % Change  \\\n",
       "0           All Downtown  Manhattan          4.687500          2.985075   \n",
       "1            All Midtown  Manhattan          9.739130          4.595880   \n",
       "2    All Upper East Side  Manhattan          2.040816          8.000000   \n",
       "3    All Upper Manhattan  Manhattan          1.369863          8.108108   \n",
       "4    All Upper West Side  Manhattan          3.454231         10.183639   \n",
       "..                   ...        ...               ...               ...   \n",
       "182      Upper West Side  Manhattan          3.454231         10.183639   \n",
       "186   Washington Heights  Manhattan         16.129032          5.166667   \n",
       "188         West Village  Manhattan          2.542113         -1.433692   \n",
       "192         Williamsburg   Brooklyn         12.000000          8.285714   \n",
       "193      Windsor Terrace   Brooklyn         41.935484          5.681818   \n",
       "\n",
       "     2012-13 % Change  2013-14 % Change  2014-15 % Change  2015-16 % Change  \\\n",
       "0            1.739130          2.991453         -0.414938          2.777778   \n",
       "1            3.030303         -1.470588          4.477612         -0.142857   \n",
       "2            3.518519         -3.398927          5.555556          5.087719   \n",
       "3           -1.000000          1.010101          7.800000          6.168831   \n",
       "4           -3.030303          0.000000          2.656250          4.231355   \n",
       "..                ...               ...               ...               ...   \n",
       "182         -3.030303          0.000000          2.656250          4.231355   \n",
       "186         -4.912837         -2.777778         11.142857          7.969152   \n",
       "188          6.060606          1.428571          5.633803          1.333333   \n",
       "192         12.137203        -11.764706          1.666667          7.377049   \n",
       "193         -5.376344          0.000000         22.727273         -7.962963   \n",
       "\n",
       "     2016-17 % Change  2017-18 % Change  2018-19 % Change  2019-20 % Change  \\\n",
       "0           -1.351351          0.000000          4.109589          5.263158   \n",
       "1           -0.715308         -2.651297          3.611604          5.714286   \n",
       "2            0.000000         -3.171953          3.448276          9.166667   \n",
       "3            2.664919         -3.191489          1.098901          4.043478   \n",
       "4           -3.650701          1.545923          1.343284          7.511046   \n",
       "..                ...               ...               ...               ...   \n",
       "182         -3.650701          1.545923          1.343284          7.511046   \n",
       "186          5.428571         -4.019874          1.176471          3.488372   \n",
       "188         -6.184211          0.925666          7.003891          8.701299   \n",
       "192         -8.396947         -3.333333          3.275862         16.861436   \n",
       "193          0.603622         -4.000000          8.333333         -3.846154   \n",
       "\n",
       "     2020-21 % Change  2021-22 % Change  2022-23 % Change  2023-24 % Change  \n",
       "0          -21.250000         42.857143          7.755556         -1.010518  \n",
       "1          -21.621622         48.379310          1.394376          1.879441  \n",
       "2          -25.190840         40.816327         13.043478          1.282051  \n",
       "3           -8.065190          9.045455         10.462693          5.660377  \n",
       "4          -23.287671         42.678571         12.340426         -4.679144  \n",
       "..                ...               ...               ...               ...  \n",
       "182        -23.287671         42.678571         12.340426         -4.679144  \n",
       "186        -10.112360         14.500000          5.021834          6.029106  \n",
       "188        -27.718041         48.595041         15.684093          1.923077  \n",
       "192        -20.200000         36.054422         11.842105          1.741176  \n",
       "193         10.000000          9.090909          0.000000          0.000000  \n",
       "\n",
       "[69 rows x 16 columns]"
      ]
     },
     "execution_count": 41,
     "metadata": {},
     "output_type": "execute_result"
    }
   ],
   "source": [
    "#displaying the data frame so I can see what I just did \n",
    "pctchange_df"
   ]
  },
  {
   "cell_type": "markdown",
   "id": "42808873-e765-4fab-9fea-78373282fbeb",
   "metadata": {},
   "source": [
    "Yay! That worked! Now that I've calculated the percent change in rent in each year, it's time to use it to calculate the gentrification proportion per borough. As a reminder, we're assuming that a rent increase of over 10% indicates gentrification. \n",
    "\n",
    "I started by creating new variables to count the amount of times a borough was labelled as gentrified.  Next, I used a for loop to iterate through each row to count how many times a borough was labelled as gentrified. If there was a rent increase of over 10% in a specific borough, then it would be added to the corresponding borough's variable."
   ]
  },
  {
   "cell_type": "markdown",
   "id": "b09f1170-3f6e-4a9d-a649-061be9e22430",
   "metadata": {},
   "source": [
    "# Filtering gentrification counts by borough"
   ]
  },
  {
   "cell_type": "code",
   "execution_count": 44,
   "id": "ec6b37eb-d3f4-4c72-8af3-c5377b4f7bd2",
   "metadata": {},
   "outputs": [],
   "source": [
    "#initializing empty variables\n",
    "manhattan_gentrification = 0\n",
    "bronx_gentrification = 0\n",
    "brooklyn_gentrification = 0\n",
    "queens_gentrification = 0\n",
    "statenisland_gentrification = 0"
   ]
  },
  {
   "cell_type": "code",
   "execution_count": 54,
   "id": "4111ea55-bb99-4858-a2dc-b24f07ee0c7c",
   "metadata": {},
   "outputs": [],
   "source": [
    "columns = [\"2010-11 % Change\",\n",
    "           \"2011-12 % Change\",\t\n",
    "           \"2012-13 % Change\",\t\n",
    "           \"2013-14 % Change\",\n",
    "           \"2014-15 % Change\",\n",
    "           \"2015-16 % Change\",\t\n",
    "           \"2016-17 % Change\",\n",
    "           \"2017-18 % Change\",\n",
    "           \"2018-19 % Change\",\n",
    "           \"2019-20 % Change\",\n",
    "           \"2020-21 % Change\",\n",
    "           \"2021-22 % Change\",\n",
    "           \"2022-23 % Change\",\n",
    "           \"2023-24 % Change\"\n",
    "]"
   ]
  },
  {
   "cell_type": "code",
   "execution_count": 56,
   "id": "fcbf0c7a-7454-4efc-b1f0-e51892e5480d",
   "metadata": {},
   "outputs": [],
   "source": [
    "#iterating through each row\n",
    "for index, row in pctchange_df.iterrows():\n",
    "    for col in columns:\n",
    "        #count how many times a borough was labelled as gentrified, assuming a > 10% rent increase indicates gentrification\n",
    "        if row[col] > 10.0:\n",
    "            if row[\"BOROUGH\"] == \"Manhattan\": \n",
    "                manhattan_gentrification += 1\n",
    "            if row[\"BOROUGH\"] == \"Bronx\": \n",
    "                bronx_gentrification += 1\n",
    "            if row[\"BOROUGH\"] == \"Brooklyn\": \n",
    "                brooklyn_gentrification += 1    \n",
    "            if row[\"BOROUGH\"] == \"Queens\": \n",
    "                queens_gentrification += 1   \n",
    "            if row[\"BOROUGH\"] == \"Staten Island\": \n",
    "                statenisland_gentrification += 1    "
   ]
  },
  {
   "cell_type": "code",
   "execution_count": 58,
   "id": "e55a485b-7fe1-4382-847c-c75f983dd4d7",
   "metadata": {},
   "outputs": [],
   "source": [
    "#totaling up how many times a borough was labelled as gentrified\n",
    "all_gentrification = manhattan_gentrification + bronx_gentrification + brooklyn_gentrification + queens_gentrification + statenisland_gentrification"
   ]
  },
  {
   "cell_type": "code",
   "execution_count": 60,
   "id": "817a1924-d9cf-4746-b7d9-ab12248e254f",
   "metadata": {},
   "outputs": [
    {
     "name": "stdout",
     "output_type": "stream",
     "text": [
      "Manhattan Gentrification: 83\n",
      "Bronx Gentrification: 3\n",
      "Brooklyn Gentrification: 76\n",
      "Queens Gentrification: 25\n",
      "Staten Island Gentrification: 0\n",
      "Total Gentrification: 187\n"
     ]
    }
   ],
   "source": [
    "#printing all the counts out so I can see what I just did\n",
    "print(f\"Manhattan Gentrification: {manhattan_gentrification}\")\n",
    "print(f\"Bronx Gentrification: {bronx_gentrification}\")\n",
    "print(f\"Brooklyn Gentrification: {brooklyn_gentrification}\")\n",
    "print(f\"Queens Gentrification: {queens_gentrification}\")\n",
    "print(f\"Staten Island Gentrification: {statenisland_gentrification}\")\n",
    "print(f\"Total Gentrification: {all_gentrification}\")"
   ]
  },
  {
   "cell_type": "markdown",
   "id": "4462e2a3-cd32-4483-ad94-7a23847b2de8",
   "metadata": {},
   "source": [
    "This is a little interesting! Bronx and Staten Island had very little gentrification (Staten Island had 0)! I went back into the data and saw that in general, the Bronx and Staten Island had less than 10% increases in rent. But what was more interesting was that they didn't appear as much as the other boroughs in the Streeteasy rent database. This might be because the areas are more residential and typically have more houses \"for sale\" rather than \"for rent\" which could explain this discrepancy.\n",
    "\n",
    "Anyway now back to the coding. I then added all the gentrification counts to a dictionary then turned the dictionary into a new data frame."
   ]
  },
  {
   "cell_type": "code",
   "execution_count": 64,
   "id": "0b81236b-1471-4785-97e8-5d89fadcbd80",
   "metadata": {},
   "outputs": [
    {
     "name": "stdout",
     "output_type": "stream",
     "text": [
      "{'BOROUGH': ['Manhattan', 'Bronx', 'Brooklyn', 'Queens', 'Staten Island'], 'GENTRIFICATION COUNT': [83, 3, 76, 25, 0]}\n"
     ]
    }
   ],
   "source": [
    "#creating a new dictionary for gentrification\n",
    "gentrification_dictionary = {\n",
    "    \"BOROUGH\": [\"Manhattan\", \"Bronx\", \"Brooklyn\", \"Queens\", \"Staten Island\"],\n",
    "    \"GENTRIFICATION COUNT\": [manhattan_gentrification, bronx_gentrification, \n",
    "                             brooklyn_gentrification, queens_gentrification, \n",
    "                             statenisland_gentrification]\n",
    "}\n",
    "print(gentrification_dictionary)"
   ]
  },
  {
   "cell_type": "code",
   "execution_count": 66,
   "id": "e19c90b1-bd6a-4d16-8d65-82edb79c464f",
   "metadata": {},
   "outputs": [
    {
     "data": {
      "text/html": [
       "<div>\n",
       "<style scoped>\n",
       "    .dataframe tbody tr th:only-of-type {\n",
       "        vertical-align: middle;\n",
       "    }\n",
       "\n",
       "    .dataframe tbody tr th {\n",
       "        vertical-align: top;\n",
       "    }\n",
       "\n",
       "    .dataframe thead th {\n",
       "        text-align: right;\n",
       "    }\n",
       "</style>\n",
       "<table border=\"1\" class=\"dataframe\">\n",
       "  <thead>\n",
       "    <tr style=\"text-align: right;\">\n",
       "      <th></th>\n",
       "      <th>BOROUGH</th>\n",
       "      <th>GENTRIFICATION COUNT</th>\n",
       "    </tr>\n",
       "  </thead>\n",
       "  <tbody>\n",
       "    <tr>\n",
       "      <th>0</th>\n",
       "      <td>Manhattan</td>\n",
       "      <td>83</td>\n",
       "    </tr>\n",
       "    <tr>\n",
       "      <th>1</th>\n",
       "      <td>Bronx</td>\n",
       "      <td>3</td>\n",
       "    </tr>\n",
       "    <tr>\n",
       "      <th>2</th>\n",
       "      <td>Brooklyn</td>\n",
       "      <td>76</td>\n",
       "    </tr>\n",
       "    <tr>\n",
       "      <th>3</th>\n",
       "      <td>Queens</td>\n",
       "      <td>25</td>\n",
       "    </tr>\n",
       "    <tr>\n",
       "      <th>4</th>\n",
       "      <td>Staten Island</td>\n",
       "      <td>0</td>\n",
       "    </tr>\n",
       "  </tbody>\n",
       "</table>\n",
       "</div>"
      ],
      "text/plain": [
       "         BOROUGH  GENTRIFICATION COUNT\n",
       "0      Manhattan                    83\n",
       "1          Bronx                     3\n",
       "2       Brooklyn                    76\n",
       "3         Queens                    25\n",
       "4  Staten Island                     0"
      ]
     },
     "execution_count": 66,
     "metadata": {},
     "output_type": "execute_result"
    }
   ],
   "source": [
    "#creating a new data frame from the gentrification dictionary\n",
    "gentrification = pd.DataFrame(gentrification_dictionary)\n",
    "gentrification"
   ]
  },
  {
   "cell_type": "markdown",
   "id": "0a01ab11-22ae-4d5f-9780-b1d00ba89e88",
   "metadata": {},
   "source": [
    "# Merging rat and rent data\n",
    "\n",
    "Onto the fun part! I first merged the rat count and gentrification count data using borough as the conjoining column. From here, I noticed that the scale of the rat count to gentrification count was super different (rats were in the 1000s, gentrification was in the 10s). So, I decided to turn them into proportions to scale them better when I graphed them. After calculating rats and gentrification as percentages rather than counts, I then appended them to the data frame as new columns."
   ]
  },
  {
   "cell_type": "code",
   "execution_count": 68,
   "id": "5581eed8-c050-4838-bf4e-5b1a6d05e31a",
   "metadata": {},
   "outputs": [
    {
     "data": {
      "text/html": [
       "<div>\n",
       "<style scoped>\n",
       "    .dataframe tbody tr th:only-of-type {\n",
       "        vertical-align: middle;\n",
       "    }\n",
       "\n",
       "    .dataframe tbody tr th {\n",
       "        vertical-align: top;\n",
       "    }\n",
       "\n",
       "    .dataframe thead th {\n",
       "        text-align: right;\n",
       "    }\n",
       "</style>\n",
       "<table border=\"1\" class=\"dataframe\">\n",
       "  <thead>\n",
       "    <tr style=\"text-align: right;\">\n",
       "      <th></th>\n",
       "      <th>BOROUGH</th>\n",
       "      <th>RAT COUNT</th>\n",
       "      <th>GENTRIFICATION COUNT</th>\n",
       "    </tr>\n",
       "  </thead>\n",
       "  <tbody>\n",
       "    <tr>\n",
       "      <th>0</th>\n",
       "      <td>Manhattan</td>\n",
       "      <td>784858</td>\n",
       "      <td>83</td>\n",
       "    </tr>\n",
       "    <tr>\n",
       "      <th>1</th>\n",
       "      <td>Bronx</td>\n",
       "      <td>710709</td>\n",
       "      <td>3</td>\n",
       "    </tr>\n",
       "    <tr>\n",
       "      <th>2</th>\n",
       "      <td>Brooklyn</td>\n",
       "      <td>674610</td>\n",
       "      <td>76</td>\n",
       "    </tr>\n",
       "    <tr>\n",
       "      <th>3</th>\n",
       "      <td>Queens</td>\n",
       "      <td>208874</td>\n",
       "      <td>25</td>\n",
       "    </tr>\n",
       "    <tr>\n",
       "      <th>4</th>\n",
       "      <td>Staten Island</td>\n",
       "      <td>56071</td>\n",
       "      <td>0</td>\n",
       "    </tr>\n",
       "  </tbody>\n",
       "</table>\n",
       "</div>"
      ],
      "text/plain": [
       "         BOROUGH  RAT COUNT  GENTRIFICATION COUNT\n",
       "0      Manhattan     784858                    83\n",
       "1          Bronx     710709                     3\n",
       "2       Brooklyn     674610                    76\n",
       "3         Queens     208874                    25\n",
       "4  Staten Island      56071                     0"
      ]
     },
     "execution_count": 68,
     "metadata": {},
     "output_type": "execute_result"
    }
   ],
   "source": [
    "#merging the datasets on borough\n",
    "ratsandrent = pd.merge(borough_rats, gentrification, on = \"BOROUGH\")\n",
    "ratsandrent"
   ]
  },
  {
   "cell_type": "code",
   "execution_count": 70,
   "id": "9375fa77-cdb3-4179-8aa9-b092372cb00a",
   "metadata": {},
   "outputs": [],
   "source": [
    "#creating a new definitino to change rat and rent count to percentages so the scale isn't weird when i graph\n",
    "def pieceofthepie(borough, total):\n",
    "    return borough / total * 100"
   ]
  },
  {
   "cell_type": "code",
   "execution_count": 72,
   "id": "642b934d-16c7-4162-ba2d-2c4142d3aeab",
   "metadata": {},
   "outputs": [],
   "source": [
    "#calculating the percentage of rats per borough\n",
    "pct_manhattan_rats = pieceofthepie(manhattan_rats, all_rats)\n",
    "pct_bronx_rats = pieceofthepie(bronx_rats, all_rats)\n",
    "pct_brooklyn_rats = pieceofthepie(brooklyn_rats, all_rats)\n",
    "pct_queens_rats = pieceofthepie(queens_rats, all_rats)\n",
    "pct_statenisland_rats = pieceofthepie(statenisland_rats, all_rats)"
   ]
  },
  {
   "cell_type": "code",
   "execution_count": 74,
   "id": "05041b09-cc8a-4643-9a0e-a2d97742b29d",
   "metadata": {},
   "outputs": [],
   "source": [
    "#creating a new list to store the proportion of rats per borough \n",
    "pct_rats = [\n",
    "    pct_manhattan_rats,\n",
    "    pct_bronx_rats,\n",
    "    pct_brooklyn_rats,\n",
    "    pct_queens_rats,\n",
    "    pct_statenisland_rats\n",
    "]"
   ]
  },
  {
   "cell_type": "code",
   "execution_count": 76,
   "id": "1a8874f3-3850-4751-b6bd-10591e001fe0",
   "metadata": {},
   "outputs": [
    {
     "data": {
      "text/html": [
       "<div>\n",
       "<style scoped>\n",
       "    .dataframe tbody tr th:only-of-type {\n",
       "        vertical-align: middle;\n",
       "    }\n",
       "\n",
       "    .dataframe tbody tr th {\n",
       "        vertical-align: top;\n",
       "    }\n",
       "\n",
       "    .dataframe thead th {\n",
       "        text-align: right;\n",
       "    }\n",
       "</style>\n",
       "<table border=\"1\" class=\"dataframe\">\n",
       "  <thead>\n",
       "    <tr style=\"text-align: right;\">\n",
       "      <th></th>\n",
       "      <th>BOROUGH</th>\n",
       "      <th>RAT COUNT</th>\n",
       "      <th>GENTRIFICATION COUNT</th>\n",
       "      <th>% RATS</th>\n",
       "    </tr>\n",
       "  </thead>\n",
       "  <tbody>\n",
       "    <tr>\n",
       "      <th>0</th>\n",
       "      <td>Manhattan</td>\n",
       "      <td>784858</td>\n",
       "      <td>83</td>\n",
       "      <td>32.230747</td>\n",
       "    </tr>\n",
       "    <tr>\n",
       "      <th>1</th>\n",
       "      <td>Bronx</td>\n",
       "      <td>710709</td>\n",
       "      <td>3</td>\n",
       "      <td>29.185766</td>\n",
       "    </tr>\n",
       "    <tr>\n",
       "      <th>2</th>\n",
       "      <td>Brooklyn</td>\n",
       "      <td>674610</td>\n",
       "      <td>76</td>\n",
       "      <td>27.703335</td>\n",
       "    </tr>\n",
       "    <tr>\n",
       "      <th>3</th>\n",
       "      <td>Queens</td>\n",
       "      <td>208874</td>\n",
       "      <td>25</td>\n",
       "      <td>8.577558</td>\n",
       "    </tr>\n",
       "    <tr>\n",
       "      <th>4</th>\n",
       "      <td>Staten Island</td>\n",
       "      <td>56071</td>\n",
       "      <td>0</td>\n",
       "      <td>2.302595</td>\n",
       "    </tr>\n",
       "  </tbody>\n",
       "</table>\n",
       "</div>"
      ],
      "text/plain": [
       "         BOROUGH  RAT COUNT  GENTRIFICATION COUNT     % RATS\n",
       "0      Manhattan     784858                    83  32.230747\n",
       "1          Bronx     710709                     3  29.185766\n",
       "2       Brooklyn     674610                    76  27.703335\n",
       "3         Queens     208874                    25   8.577558\n",
       "4  Staten Island      56071                     0   2.302595"
      ]
     },
     "execution_count": 76,
     "metadata": {},
     "output_type": "execute_result"
    }
   ],
   "source": [
    "#appending the rat percentage list to the data frame\n",
    "ratsandrent[\"% RATS\"] = pct_rats\n",
    "ratsandrent"
   ]
  },
  {
   "cell_type": "code",
   "execution_count": 78,
   "id": "722bc930-d9df-4f17-ac01-3e23e6d6da05",
   "metadata": {},
   "outputs": [],
   "source": [
    "#calculating the percentage of gentrification per borough\n",
    "pct_manhattan_gentrification = pieceofthepie(manhattan_gentrification, all_gentrification)\n",
    "pct_bronx_gentrification = pieceofthepie(bronx_gentrification, all_gentrification)\n",
    "pct_brooklyn_gentrification = pieceofthepie(brooklyn_gentrification, all_gentrification)\n",
    "pct_queens_gentrification = pieceofthepie(queens_gentrification, all_gentrification)\n",
    "pct_statenisland_gentrification = pieceofthepie(statenisland_gentrification, all_gentrification)"
   ]
  },
  {
   "cell_type": "code",
   "execution_count": 80,
   "id": "6a79db13-ef62-44b8-84cc-8a6c5f01c1c0",
   "metadata": {},
   "outputs": [],
   "source": [
    "#creating a new list to store the proportion of gentrification in each borough\n",
    "pct_gentrification = [\n",
    "    pct_manhattan_gentrification,\n",
    "    pct_bronx_gentrification,\n",
    "    pct_brooklyn_gentrification,\n",
    "    pct_queens_gentrification,\n",
    "    pct_statenisland_gentrification\n",
    "]"
   ]
  },
  {
   "cell_type": "code",
   "execution_count": 82,
   "id": "c5be9759-9aed-40bd-8bc0-cbb08b040367",
   "metadata": {},
   "outputs": [
    {
     "data": {
      "text/html": [
       "<div>\n",
       "<style scoped>\n",
       "    .dataframe tbody tr th:only-of-type {\n",
       "        vertical-align: middle;\n",
       "    }\n",
       "\n",
       "    .dataframe tbody tr th {\n",
       "        vertical-align: top;\n",
       "    }\n",
       "\n",
       "    .dataframe thead th {\n",
       "        text-align: right;\n",
       "    }\n",
       "</style>\n",
       "<table border=\"1\" class=\"dataframe\">\n",
       "  <thead>\n",
       "    <tr style=\"text-align: right;\">\n",
       "      <th></th>\n",
       "      <th>BOROUGH</th>\n",
       "      <th>RAT COUNT</th>\n",
       "      <th>GENTRIFICATION COUNT</th>\n",
       "      <th>% RATS</th>\n",
       "      <th>% GENTRIFICATION</th>\n",
       "    </tr>\n",
       "  </thead>\n",
       "  <tbody>\n",
       "    <tr>\n",
       "      <th>0</th>\n",
       "      <td>Manhattan</td>\n",
       "      <td>784858</td>\n",
       "      <td>83</td>\n",
       "      <td>32.230747</td>\n",
       "      <td>44.385027</td>\n",
       "    </tr>\n",
       "    <tr>\n",
       "      <th>1</th>\n",
       "      <td>Bronx</td>\n",
       "      <td>710709</td>\n",
       "      <td>3</td>\n",
       "      <td>29.185766</td>\n",
       "      <td>1.604278</td>\n",
       "    </tr>\n",
       "    <tr>\n",
       "      <th>2</th>\n",
       "      <td>Brooklyn</td>\n",
       "      <td>674610</td>\n",
       "      <td>76</td>\n",
       "      <td>27.703335</td>\n",
       "      <td>40.641711</td>\n",
       "    </tr>\n",
       "    <tr>\n",
       "      <th>3</th>\n",
       "      <td>Queens</td>\n",
       "      <td>208874</td>\n",
       "      <td>25</td>\n",
       "      <td>8.577558</td>\n",
       "      <td>13.368984</td>\n",
       "    </tr>\n",
       "    <tr>\n",
       "      <th>4</th>\n",
       "      <td>Staten Island</td>\n",
       "      <td>56071</td>\n",
       "      <td>0</td>\n",
       "      <td>2.302595</td>\n",
       "      <td>0.000000</td>\n",
       "    </tr>\n",
       "  </tbody>\n",
       "</table>\n",
       "</div>"
      ],
      "text/plain": [
       "         BOROUGH  RAT COUNT  GENTRIFICATION COUNT     % RATS  % GENTRIFICATION\n",
       "0      Manhattan     784858                    83  32.230747         44.385027\n",
       "1          Bronx     710709                     3  29.185766          1.604278\n",
       "2       Brooklyn     674610                    76  27.703335         40.641711\n",
       "3         Queens     208874                    25   8.577558         13.368984\n",
       "4  Staten Island      56071                     0   2.302595          0.000000"
      ]
     },
     "execution_count": 82,
     "metadata": {},
     "output_type": "execute_result"
    }
   ],
   "source": [
    "#appending the gentrification percentage list to the data frame\n",
    "ratsandrent[\"% GENTRIFICATION\"] = pct_gentrification\n",
    "ratsandrent"
   ]
  },
  {
   "cell_type": "markdown",
   "id": "6b736928-52b1-4f3f-abe7-4f131f91e568",
   "metadata": {},
   "source": [
    "Finally the data is ready to graph!"
   ]
  },
  {
   "cell_type": "markdown",
   "id": "3ee44214-9205-4793-bb6f-cb09d4226729",
   "metadata": {},
   "source": [
    "# Plotting rats and gentrification\n",
    "\n",
    "I start by importing the plotly package to make my graphs. I decided to make 3 separate bar graphs. The first showed the rat proportion per  borough. The second showed the gentrification proportion per borough. The third showed the two rat and gentrification proportions per borough side by side."
   ]
  },
  {
   "cell_type": "code",
   "execution_count": 84,
   "id": "957472b4-6136-4fa3-b24d-5a62600849ad",
   "metadata": {},
   "outputs": [],
   "source": [
    "import plotly.io as pio\n",
    "pio.renderers.default = \"vscode+jupyterlab+notebook_connected\""
   ]
  },
  {
   "cell_type": "code",
   "execution_count": 86,
   "id": "545271e7-a4fa-4cf3-9fb5-155de5cff1f2",
   "metadata": {},
   "outputs": [],
   "source": [
    "#importing the plotly package\n",
    "import plotly.express as px"
   ]
  },
  {
   "cell_type": "code",
   "execution_count": 88,
   "id": "f51128c5-278a-45fe-941e-438a2356c3ac",
   "metadata": {},
   "outputs": [
    {
     "data": {
      "text/html": [
       "        <script type=\"text/javascript\">\n",
       "        window.PlotlyConfig = {MathJaxConfig: 'local'};\n",
       "        if (window.MathJax && window.MathJax.Hub && window.MathJax.Hub.Config) {window.MathJax.Hub.Config({SVG: {font: \"STIX-Web\"}});}\n",
       "        if (typeof require !== 'undefined') {\n",
       "        require.undef(\"plotly\");\n",
       "        requirejs.config({\n",
       "            paths: {\n",
       "                'plotly': ['https://cdn.plot.ly/plotly-2.32.0.min']\n",
       "            }\n",
       "        });\n",
       "        require(['plotly'], function(Plotly) {\n",
       "            window._Plotly = Plotly;\n",
       "        });\n",
       "        }\n",
       "        </script>\n",
       "        "
      ]
     },
     "metadata": {},
     "output_type": "display_data"
    },
    {
     "data": {
      "application/vnd.plotly.v1+json": {
       "config": {
        "plotlyServerURL": "https://plot.ly"
       },
       "data": [
        {
         "alignmentgroup": "True",
         "hovertemplate": "BOROUGH=%{x}<br>% RATS=%{y}<extra></extra>",
         "legendgroup": "",
         "marker": {
          "color": "#636efa",
          "pattern": {
           "shape": ""
          }
         },
         "name": "",
         "offsetgroup": "",
         "orientation": "v",
         "showlegend": false,
         "textposition": "auto",
         "type": "bar",
         "x": [
          "Manhattan",
          "Bronx",
          "Brooklyn",
          "Queens",
          "Staten Island"
         ],
         "xaxis": "x",
         "y": [
          32.230746549864854,
          29.185765641310784,
          27.703334781583838,
          8.577557921122638,
          2.302595106117886
         ],
         "yaxis": "y"
        }
       ],
       "layout": {
        "autosize": true,
        "barmode": "relative",
        "legend": {
         "tracegroupgap": 0
        },
        "template": {
         "data": {
          "bar": [
           {
            "error_x": {
             "color": "#2a3f5f"
            },
            "error_y": {
             "color": "#2a3f5f"
            },
            "marker": {
             "line": {
              "color": "#E5ECF6",
              "width": 0.5
             },
             "pattern": {
              "fillmode": "overlay",
              "size": 10,
              "solidity": 0.2
             }
            },
            "type": "bar"
           }
          ],
          "barpolar": [
           {
            "marker": {
             "line": {
              "color": "#E5ECF6",
              "width": 0.5
             },
             "pattern": {
              "fillmode": "overlay",
              "size": 10,
              "solidity": 0.2
             }
            },
            "type": "barpolar"
           }
          ],
          "carpet": [
           {
            "aaxis": {
             "endlinecolor": "#2a3f5f",
             "gridcolor": "white",
             "linecolor": "white",
             "minorgridcolor": "white",
             "startlinecolor": "#2a3f5f"
            },
            "baxis": {
             "endlinecolor": "#2a3f5f",
             "gridcolor": "white",
             "linecolor": "white",
             "minorgridcolor": "white",
             "startlinecolor": "#2a3f5f"
            },
            "type": "carpet"
           }
          ],
          "choropleth": [
           {
            "colorbar": {
             "outlinewidth": 0,
             "ticks": ""
            },
            "type": "choropleth"
           }
          ],
          "contour": [
           {
            "colorbar": {
             "outlinewidth": 0,
             "ticks": ""
            },
            "colorscale": [
             [
              0,
              "#0d0887"
             ],
             [
              0.1111111111111111,
              "#46039f"
             ],
             [
              0.2222222222222222,
              "#7201a8"
             ],
             [
              0.3333333333333333,
              "#9c179e"
             ],
             [
              0.4444444444444444,
              "#bd3786"
             ],
             [
              0.5555555555555556,
              "#d8576b"
             ],
             [
              0.6666666666666666,
              "#ed7953"
             ],
             [
              0.7777777777777778,
              "#fb9f3a"
             ],
             [
              0.8888888888888888,
              "#fdca26"
             ],
             [
              1,
              "#f0f921"
             ]
            ],
            "type": "contour"
           }
          ],
          "contourcarpet": [
           {
            "colorbar": {
             "outlinewidth": 0,
             "ticks": ""
            },
            "type": "contourcarpet"
           }
          ],
          "heatmap": [
           {
            "colorbar": {
             "outlinewidth": 0,
             "ticks": ""
            },
            "colorscale": [
             [
              0,
              "#0d0887"
             ],
             [
              0.1111111111111111,
              "#46039f"
             ],
             [
              0.2222222222222222,
              "#7201a8"
             ],
             [
              0.3333333333333333,
              "#9c179e"
             ],
             [
              0.4444444444444444,
              "#bd3786"
             ],
             [
              0.5555555555555556,
              "#d8576b"
             ],
             [
              0.6666666666666666,
              "#ed7953"
             ],
             [
              0.7777777777777778,
              "#fb9f3a"
             ],
             [
              0.8888888888888888,
              "#fdca26"
             ],
             [
              1,
              "#f0f921"
             ]
            ],
            "type": "heatmap"
           }
          ],
          "heatmapgl": [
           {
            "colorbar": {
             "outlinewidth": 0,
             "ticks": ""
            },
            "colorscale": [
             [
              0,
              "#0d0887"
             ],
             [
              0.1111111111111111,
              "#46039f"
             ],
             [
              0.2222222222222222,
              "#7201a8"
             ],
             [
              0.3333333333333333,
              "#9c179e"
             ],
             [
              0.4444444444444444,
              "#bd3786"
             ],
             [
              0.5555555555555556,
              "#d8576b"
             ],
             [
              0.6666666666666666,
              "#ed7953"
             ],
             [
              0.7777777777777778,
              "#fb9f3a"
             ],
             [
              0.8888888888888888,
              "#fdca26"
             ],
             [
              1,
              "#f0f921"
             ]
            ],
            "type": "heatmapgl"
           }
          ],
          "histogram": [
           {
            "marker": {
             "pattern": {
              "fillmode": "overlay",
              "size": 10,
              "solidity": 0.2
             }
            },
            "type": "histogram"
           }
          ],
          "histogram2d": [
           {
            "colorbar": {
             "outlinewidth": 0,
             "ticks": ""
            },
            "colorscale": [
             [
              0,
              "#0d0887"
             ],
             [
              0.1111111111111111,
              "#46039f"
             ],
             [
              0.2222222222222222,
              "#7201a8"
             ],
             [
              0.3333333333333333,
              "#9c179e"
             ],
             [
              0.4444444444444444,
              "#bd3786"
             ],
             [
              0.5555555555555556,
              "#d8576b"
             ],
             [
              0.6666666666666666,
              "#ed7953"
             ],
             [
              0.7777777777777778,
              "#fb9f3a"
             ],
             [
              0.8888888888888888,
              "#fdca26"
             ],
             [
              1,
              "#f0f921"
             ]
            ],
            "type": "histogram2d"
           }
          ],
          "histogram2dcontour": [
           {
            "colorbar": {
             "outlinewidth": 0,
             "ticks": ""
            },
            "colorscale": [
             [
              0,
              "#0d0887"
             ],
             [
              0.1111111111111111,
              "#46039f"
             ],
             [
              0.2222222222222222,
              "#7201a8"
             ],
             [
              0.3333333333333333,
              "#9c179e"
             ],
             [
              0.4444444444444444,
              "#bd3786"
             ],
             [
              0.5555555555555556,
              "#d8576b"
             ],
             [
              0.6666666666666666,
              "#ed7953"
             ],
             [
              0.7777777777777778,
              "#fb9f3a"
             ],
             [
              0.8888888888888888,
              "#fdca26"
             ],
             [
              1,
              "#f0f921"
             ]
            ],
            "type": "histogram2dcontour"
           }
          ],
          "mesh3d": [
           {
            "colorbar": {
             "outlinewidth": 0,
             "ticks": ""
            },
            "type": "mesh3d"
           }
          ],
          "parcoords": [
           {
            "line": {
             "colorbar": {
              "outlinewidth": 0,
              "ticks": ""
             }
            },
            "type": "parcoords"
           }
          ],
          "pie": [
           {
            "automargin": true,
            "type": "pie"
           }
          ],
          "scatter": [
           {
            "fillpattern": {
             "fillmode": "overlay",
             "size": 10,
             "solidity": 0.2
            },
            "type": "scatter"
           }
          ],
          "scatter3d": [
           {
            "line": {
             "colorbar": {
              "outlinewidth": 0,
              "ticks": ""
             }
            },
            "marker": {
             "colorbar": {
              "outlinewidth": 0,
              "ticks": ""
             }
            },
            "type": "scatter3d"
           }
          ],
          "scattercarpet": [
           {
            "marker": {
             "colorbar": {
              "outlinewidth": 0,
              "ticks": ""
             }
            },
            "type": "scattercarpet"
           }
          ],
          "scattergeo": [
           {
            "marker": {
             "colorbar": {
              "outlinewidth": 0,
              "ticks": ""
             }
            },
            "type": "scattergeo"
           }
          ],
          "scattergl": [
           {
            "marker": {
             "colorbar": {
              "outlinewidth": 0,
              "ticks": ""
             }
            },
            "type": "scattergl"
           }
          ],
          "scattermapbox": [
           {
            "marker": {
             "colorbar": {
              "outlinewidth": 0,
              "ticks": ""
             }
            },
            "type": "scattermapbox"
           }
          ],
          "scatterpolar": [
           {
            "marker": {
             "colorbar": {
              "outlinewidth": 0,
              "ticks": ""
             }
            },
            "type": "scatterpolar"
           }
          ],
          "scatterpolargl": [
           {
            "marker": {
             "colorbar": {
              "outlinewidth": 0,
              "ticks": ""
             }
            },
            "type": "scatterpolargl"
           }
          ],
          "scatterternary": [
           {
            "marker": {
             "colorbar": {
              "outlinewidth": 0,
              "ticks": ""
             }
            },
            "type": "scatterternary"
           }
          ],
          "surface": [
           {
            "colorbar": {
             "outlinewidth": 0,
             "ticks": ""
            },
            "colorscale": [
             [
              0,
              "#0d0887"
             ],
             [
              0.1111111111111111,
              "#46039f"
             ],
             [
              0.2222222222222222,
              "#7201a8"
             ],
             [
              0.3333333333333333,
              "#9c179e"
             ],
             [
              0.4444444444444444,
              "#bd3786"
             ],
             [
              0.5555555555555556,
              "#d8576b"
             ],
             [
              0.6666666666666666,
              "#ed7953"
             ],
             [
              0.7777777777777778,
              "#fb9f3a"
             ],
             [
              0.8888888888888888,
              "#fdca26"
             ],
             [
              1,
              "#f0f921"
             ]
            ],
            "type": "surface"
           }
          ],
          "table": [
           {
            "cells": {
             "fill": {
              "color": "#EBF0F8"
             },
             "line": {
              "color": "white"
             }
            },
            "header": {
             "fill": {
              "color": "#C8D4E3"
             },
             "line": {
              "color": "white"
             }
            },
            "type": "table"
           }
          ]
         },
         "layout": {
          "annotationdefaults": {
           "arrowcolor": "#2a3f5f",
           "arrowhead": 0,
           "arrowwidth": 1
          },
          "autotypenumbers": "strict",
          "coloraxis": {
           "colorbar": {
            "outlinewidth": 0,
            "ticks": ""
           }
          },
          "colorscale": {
           "diverging": [
            [
             0,
             "#8e0152"
            ],
            [
             0.1,
             "#c51b7d"
            ],
            [
             0.2,
             "#de77ae"
            ],
            [
             0.3,
             "#f1b6da"
            ],
            [
             0.4,
             "#fde0ef"
            ],
            [
             0.5,
             "#f7f7f7"
            ],
            [
             0.6,
             "#e6f5d0"
            ],
            [
             0.7,
             "#b8e186"
            ],
            [
             0.8,
             "#7fbc41"
            ],
            [
             0.9,
             "#4d9221"
            ],
            [
             1,
             "#276419"
            ]
           ],
           "sequential": [
            [
             0,
             "#0d0887"
            ],
            [
             0.1111111111111111,
             "#46039f"
            ],
            [
             0.2222222222222222,
             "#7201a8"
            ],
            [
             0.3333333333333333,
             "#9c179e"
            ],
            [
             0.4444444444444444,
             "#bd3786"
            ],
            [
             0.5555555555555556,
             "#d8576b"
            ],
            [
             0.6666666666666666,
             "#ed7953"
            ],
            [
             0.7777777777777778,
             "#fb9f3a"
            ],
            [
             0.8888888888888888,
             "#fdca26"
            ],
            [
             1,
             "#f0f921"
            ]
           ],
           "sequentialminus": [
            [
             0,
             "#0d0887"
            ],
            [
             0.1111111111111111,
             "#46039f"
            ],
            [
             0.2222222222222222,
             "#7201a8"
            ],
            [
             0.3333333333333333,
             "#9c179e"
            ],
            [
             0.4444444444444444,
             "#bd3786"
            ],
            [
             0.5555555555555556,
             "#d8576b"
            ],
            [
             0.6666666666666666,
             "#ed7953"
            ],
            [
             0.7777777777777778,
             "#fb9f3a"
            ],
            [
             0.8888888888888888,
             "#fdca26"
            ],
            [
             1,
             "#f0f921"
            ]
           ]
          },
          "colorway": [
           "#636efa",
           "#EF553B",
           "#00cc96",
           "#ab63fa",
           "#FFA15A",
           "#19d3f3",
           "#FF6692",
           "#B6E880",
           "#FF97FF",
           "#FECB52"
          ],
          "font": {
           "color": "#2a3f5f"
          },
          "geo": {
           "bgcolor": "white",
           "lakecolor": "white",
           "landcolor": "#E5ECF6",
           "showlakes": true,
           "showland": true,
           "subunitcolor": "white"
          },
          "hoverlabel": {
           "align": "left"
          },
          "hovermode": "closest",
          "mapbox": {
           "style": "light"
          },
          "paper_bgcolor": "white",
          "plot_bgcolor": "#E5ECF6",
          "polar": {
           "angularaxis": {
            "gridcolor": "white",
            "linecolor": "white",
            "ticks": ""
           },
           "bgcolor": "#E5ECF6",
           "radialaxis": {
            "gridcolor": "white",
            "linecolor": "white",
            "ticks": ""
           }
          },
          "scene": {
           "xaxis": {
            "backgroundcolor": "#E5ECF6",
            "gridcolor": "white",
            "gridwidth": 2,
            "linecolor": "white",
            "showbackground": true,
            "ticks": "",
            "zerolinecolor": "white"
           },
           "yaxis": {
            "backgroundcolor": "#E5ECF6",
            "gridcolor": "white",
            "gridwidth": 2,
            "linecolor": "white",
            "showbackground": true,
            "ticks": "",
            "zerolinecolor": "white"
           },
           "zaxis": {
            "backgroundcolor": "#E5ECF6",
            "gridcolor": "white",
            "gridwidth": 2,
            "linecolor": "white",
            "showbackground": true,
            "ticks": "",
            "zerolinecolor": "white"
           }
          },
          "shapedefaults": {
           "line": {
            "color": "#2a3f5f"
           }
          },
          "ternary": {
           "aaxis": {
            "gridcolor": "white",
            "linecolor": "white",
            "ticks": ""
           },
           "baxis": {
            "gridcolor": "white",
            "linecolor": "white",
            "ticks": ""
           },
           "bgcolor": "#E5ECF6",
           "caxis": {
            "gridcolor": "white",
            "linecolor": "white",
            "ticks": ""
           }
          },
          "title": {
           "x": 0.05
          },
          "xaxis": {
           "automargin": true,
           "gridcolor": "white",
           "linecolor": "white",
           "ticks": "",
           "title": {
            "standoff": 15
           },
           "zerolinecolor": "white",
           "zerolinewidth": 2
          },
          "yaxis": {
           "automargin": true,
           "gridcolor": "white",
           "linecolor": "white",
           "ticks": "",
           "title": {
            "standoff": 15
           },
           "zerolinecolor": "white",
           "zerolinewidth": 2
          }
         }
        },
        "title": {
         "text": "Rat Percentage Per Borough"
        },
        "xaxis": {
         "anchor": "y",
         "autorange": true,
         "domain": [
          0,
          1
         ],
         "range": [
          -0.5,
          4.5
         ],
         "title": {
          "text": "BOROUGH"
         },
         "type": "category"
        },
        "yaxis": {
         "anchor": "x",
         "autorange": true,
         "domain": [
          0,
          1
         ],
         "range": [
          0,
          33.927101631436685
         ],
         "title": {
          "text": "% RATS"
         },
         "type": "linear"
        }
       }
      },
      "image/png": "[encoded data removed]",
      "text/html": [
       "<div>                            <div id=\"075113b8-d2ec-491e-bc16-f0cea544762b\" class=\"plotly-graph-div\" style=\"height:525px; width:100%;\"></div>            <script type=\"text/javascript\">                require([\"plotly\"], function(Plotly) {                    window.PLOTLYENV=window.PLOTLYENV || {};                                    if (document.getElementById(\"075113b8-d2ec-491e-bc16-f0cea544762b\")) {                    Plotly.newPlot(                        \"075113b8-d2ec-491e-bc16-f0cea544762b\",                        [{\"alignmentgroup\":\"True\",\"hovertemplate\":\"BOROUGH=%{x}\\u003cbr\\u003e% RATS=%{y}\\u003cextra\\u003e\\u003c\\u002fextra\\u003e\",\"legendgroup\":\"\",\"marker\":{\"color\":\"#636efa\",\"pattern\":{\"shape\":\"\"}},\"name\":\"\",\"offsetgroup\":\"\",\"orientation\":\"v\",\"showlegend\":false,\"textposition\":\"auto\",\"x\":[\"Manhattan\",\"Bronx\",\"Brooklyn\",\"Queens\",\"Staten Island\"],\"xaxis\":\"x\",\"y\":[32.230746549864854,29.185765641310784,27.703334781583838,8.577557921122638,2.302595106117886],\"yaxis\":\"y\",\"type\":\"bar\"}],                        {\"template\":{\"data\":{\"histogram2dcontour\":[{\"type\":\"histogram2dcontour\",\"colorbar\":{\"outlinewidth\":0,\"ticks\":\"\"},\"colorscale\":[[0.0,\"#0d0887\"],[0.1111111111111111,\"#46039f\"],[0.2222222222222222,\"#7201a8\"],[0.3333333333333333,\"#9c179e\"],[0.4444444444444444,\"#bd3786\"],[0.5555555555555556,\"#d8576b\"],[0.6666666666666666,\"#ed7953\"],[0.7777777777777778,\"#fb9f3a\"],[0.8888888888888888,\"#fdca26\"],[1.0,\"#f0f921\"]]}],\"choropleth\":[{\"type\":\"choropleth\",\"colorbar\":{\"outlinewidth\":0,\"ticks\":\"\"}}],\"histogram2d\":[{\"type\":\"histogram2d\",\"colorbar\":{\"outlinewidth\":0,\"ticks\":\"\"},\"colorscale\":[[0.0,\"#0d0887\"],[0.1111111111111111,\"#46039f\"],[0.2222222222222222,\"#7201a8\"],[0.3333333333333333,\"#9c179e\"],[0.4444444444444444,\"#bd3786\"],[0.5555555555555556,\"#d8576b\"],[0.6666666666666666,\"#ed7953\"],[0.7777777777777778,\"#fb9f3a\"],[0.8888888888888888,\"#fdca26\"],[1.0,\"#f0f921\"]]}],\"heatmap\":[{\"type\":\"heatmap\",\"colorbar\":{\"outlinewidth\":0,\"ticks\":\"\"},\"colorscale\":[[0.0,\"#0d0887\"],[0.1111111111111111,\"#46039f\"],[0.2222222222222222,\"#7201a8\"],[0.3333333333333333,\"#9c179e\"],[0.4444444444444444,\"#bd3786\"],[0.5555555555555556,\"#d8576b\"],[0.6666666666666666,\"#ed7953\"],[0.7777777777777778,\"#fb9f3a\"],[0.8888888888888888,\"#fdca26\"],[1.0,\"#f0f921\"]]}],\"heatmapgl\":[{\"type\":\"heatmapgl\",\"colorbar\":{\"outlinewidth\":0,\"ticks\":\"\"},\"colorscale\":[[0.0,\"#0d0887\"],[0.1111111111111111,\"#46039f\"],[0.2222222222222222,\"#7201a8\"],[0.3333333333333333,\"#9c179e\"],[0.4444444444444444,\"#bd3786\"],[0.5555555555555556,\"#d8576b\"],[0.6666666666666666,\"#ed7953\"],[0.7777777777777778,\"#fb9f3a\"],[0.8888888888888888,\"#fdca26\"],[1.0,\"#f0f921\"]]}],\"contourcarpet\":[{\"type\":\"contourcarpet\",\"colorbar\":{\"outlinewidth\":0,\"ticks\":\"\"}}],\"contour\":[{\"type\":\"contour\",\"colorbar\":{\"outlinewidth\":0,\"ticks\":\"\"},\"colorscale\":[[0.0,\"#0d0887\"],[0.1111111111111111,\"#46039f\"],[0.2222222222222222,\"#7201a8\"],[0.3333333333333333,\"#9c179e\"],[0.4444444444444444,\"#bd3786\"],[0.5555555555555556,\"#d8576b\"],[0.6666666666666666,\"#ed7953\"],[0.7777777777777778,\"#fb9f3a\"],[0.8888888888888888,\"#fdca26\"],[1.0,\"#f0f921\"]]}],\"surface\":[{\"type\":\"surface\",\"colorbar\":{\"outlinewidth\":0,\"ticks\":\"\"},\"colorscale\":[[0.0,\"#0d0887\"],[0.1111111111111111,\"#46039f\"],[0.2222222222222222,\"#7201a8\"],[0.3333333333333333,\"#9c179e\"],[0.4444444444444444,\"#bd3786\"],[0.5555555555555556,\"#d8576b\"],[0.6666666666666666,\"#ed7953\"],[0.7777777777777778,\"#fb9f3a\"],[0.8888888888888888,\"#fdca26\"],[1.0,\"#f0f921\"]]}],\"mesh3d\":[{\"type\":\"mesh3d\",\"colorbar\":{\"outlinewidth\":0,\"ticks\":\"\"}}],\"scatter\":[{\"fillpattern\":{\"fillmode\":\"overlay\",\"size\":10,\"solidity\":0.2},\"type\":\"scatter\"}],\"parcoords\":[{\"type\":\"parcoords\",\"line\":{\"colorbar\":{\"outlinewidth\":0,\"ticks\":\"\"}}}],\"scatterpolargl\":[{\"type\":\"scatterpolargl\",\"marker\":{\"colorbar\":{\"outlinewidth\":0,\"ticks\":\"\"}}}],\"bar\":[{\"error_x\":{\"color\":\"#2a3f5f\"},\"error_y\":{\"color\":\"#2a3f5f\"},\"marker\":{\"line\":{\"color\":\"#E5ECF6\",\"width\":0.5},\"pattern\":{\"fillmode\":\"overlay\",\"size\":10,\"solidity\":0.2}},\"type\":\"bar\"}],\"scattergeo\":[{\"type\":\"scattergeo\",\"marker\":{\"colorbar\":{\"outlinewidth\":0,\"ticks\":\"\"}}}],\"scatterpolar\":[{\"type\":\"scatterpolar\",\"marker\":{\"colorbar\":{\"outlinewidth\":0,\"ticks\":\"\"}}}],\"histogram\":[{\"marker\":{\"pattern\":{\"fillmode\":\"overlay\",\"size\":10,\"solidity\":0.2}},\"type\":\"histogram\"}],\"scattergl\":[{\"type\":\"scattergl\",\"marker\":{\"colorbar\":{\"outlinewidth\":0,\"ticks\":\"\"}}}],\"scatter3d\":[{\"type\":\"scatter3d\",\"line\":{\"colorbar\":{\"outlinewidth\":0,\"ticks\":\"\"}},\"marker\":{\"colorbar\":{\"outlinewidth\":0,\"ticks\":\"\"}}}],\"scattermapbox\":[{\"type\":\"scattermapbox\",\"marker\":{\"colorbar\":{\"outlinewidth\":0,\"ticks\":\"\"}}}],\"scatterternary\":[{\"type\":\"scatterternary\",\"marker\":{\"colorbar\":{\"outlinewidth\":0,\"ticks\":\"\"}}}],\"scattercarpet\":[{\"type\":\"scattercarpet\",\"marker\":{\"colorbar\":{\"outlinewidth\":0,\"ticks\":\"\"}}}],\"carpet\":[{\"aaxis\":{\"endlinecolor\":\"#2a3f5f\",\"gridcolor\":\"white\",\"linecolor\":\"white\",\"minorgridcolor\":\"white\",\"startlinecolor\":\"#2a3f5f\"},\"baxis\":{\"endlinecolor\":\"#2a3f5f\",\"gridcolor\":\"white\",\"linecolor\":\"white\",\"minorgridcolor\":\"white\",\"startlinecolor\":\"#2a3f5f\"},\"type\":\"carpet\"}],\"table\":[{\"cells\":{\"fill\":{\"color\":\"#EBF0F8\"},\"line\":{\"color\":\"white\"}},\"header\":{\"fill\":{\"color\":\"#C8D4E3\"},\"line\":{\"color\":\"white\"}},\"type\":\"table\"}],\"barpolar\":[{\"marker\":{\"line\":{\"color\":\"#E5ECF6\",\"width\":0.5},\"pattern\":{\"fillmode\":\"overlay\",\"size\":10,\"solidity\":0.2}},\"type\":\"barpolar\"}],\"pie\":[{\"automargin\":true,\"type\":\"pie\"}]},\"layout\":{\"autotypenumbers\":\"strict\",\"colorway\":[\"#636efa\",\"#EF553B\",\"#00cc96\",\"#ab63fa\",\"#FFA15A\",\"#19d3f3\",\"#FF6692\",\"#B6E880\",\"#FF97FF\",\"#FECB52\"],\"font\":{\"color\":\"#2a3f5f\"},\"hovermode\":\"closest\",\"hoverlabel\":{\"align\":\"left\"},\"paper_bgcolor\":\"white\",\"plot_bgcolor\":\"#E5ECF6\",\"polar\":{\"bgcolor\":\"#E5ECF6\",\"angularaxis\":{\"gridcolor\":\"white\",\"linecolor\":\"white\",\"ticks\":\"\"},\"radialaxis\":{\"gridcolor\":\"white\",\"linecolor\":\"white\",\"ticks\":\"\"}},\"ternary\":{\"bgcolor\":\"#E5ECF6\",\"aaxis\":{\"gridcolor\":\"white\",\"linecolor\":\"white\",\"ticks\":\"\"},\"baxis\":{\"gridcolor\":\"white\",\"linecolor\":\"white\",\"ticks\":\"\"},\"caxis\":{\"gridcolor\":\"white\",\"linecolor\":\"white\",\"ticks\":\"\"}},\"coloraxis\":{\"colorbar\":{\"outlinewidth\":0,\"ticks\":\"\"}},\"colorscale\":{\"sequential\":[[0.0,\"#0d0887\"],[0.1111111111111111,\"#46039f\"],[0.2222222222222222,\"#7201a8\"],[0.3333333333333333,\"#9c179e\"],[0.4444444444444444,\"#bd3786\"],[0.5555555555555556,\"#d8576b\"],[0.6666666666666666,\"#ed7953\"],[0.7777777777777778,\"#fb9f3a\"],[0.8888888888888888,\"#fdca26\"],[1.0,\"#f0f921\"]],\"sequentialminus\":[[0.0,\"#0d0887\"],[0.1111111111111111,\"#46039f\"],[0.2222222222222222,\"#7201a8\"],[0.3333333333333333,\"#9c179e\"],[0.4444444444444444,\"#bd3786\"],[0.5555555555555556,\"#d8576b\"],[0.6666666666666666,\"#ed7953\"],[0.7777777777777778,\"#fb9f3a\"],[0.8888888888888888,\"#fdca26\"],[1.0,\"#f0f921\"]],\"diverging\":[[0,\"#8e0152\"],[0.1,\"#c51b7d\"],[0.2,\"#de77ae\"],[0.3,\"#f1b6da\"],[0.4,\"#fde0ef\"],[0.5,\"#f7f7f7\"],[0.6,\"#e6f5d0\"],[0.7,\"#b8e186\"],[0.8,\"#7fbc41\"],[0.9,\"#4d9221\"],[1,\"#276419\"]]},\"xaxis\":{\"gridcolor\":\"white\",\"linecolor\":\"white\",\"ticks\":\"\",\"title\":{\"standoff\":15},\"zerolinecolor\":\"white\",\"automargin\":true,\"zerolinewidth\":2},\"yaxis\":{\"gridcolor\":\"white\",\"linecolor\":\"white\",\"ticks\":\"\",\"title\":{\"standoff\":15},\"zerolinecolor\":\"white\",\"automargin\":true,\"zerolinewidth\":2},\"scene\":{\"xaxis\":{\"backgroundcolor\":\"#E5ECF6\",\"gridcolor\":\"white\",\"linecolor\":\"white\",\"showbackground\":true,\"ticks\":\"\",\"zerolinecolor\":\"white\",\"gridwidth\":2},\"yaxis\":{\"backgroundcolor\":\"#E5ECF6\",\"gridcolor\":\"white\",\"linecolor\":\"white\",\"showbackground\":true,\"ticks\":\"\",\"zerolinecolor\":\"white\",\"gridwidth\":2},\"zaxis\":{\"backgroundcolor\":\"#E5ECF6\",\"gridcolor\":\"white\",\"linecolor\":\"white\",\"showbackground\":true,\"ticks\":\"\",\"zerolinecolor\":\"white\",\"gridwidth\":2}},\"shapedefaults\":{\"line\":{\"color\":\"#2a3f5f\"}},\"annotationdefaults\":{\"arrowcolor\":\"#2a3f5f\",\"arrowhead\":0,\"arrowwidth\":1},\"geo\":{\"bgcolor\":\"white\",\"landcolor\":\"#E5ECF6\",\"subunitcolor\":\"white\",\"showland\":true,\"showlakes\":true,\"lakecolor\":\"white\"},\"title\":{\"x\":0.05},\"mapbox\":{\"style\":\"light\"}}},\"xaxis\":{\"anchor\":\"y\",\"domain\":[0.0,1.0],\"title\":{\"text\":\"BOROUGH\"}},\"yaxis\":{\"anchor\":\"x\",\"domain\":[0.0,1.0],\"title\":{\"text\":\"% RATS\"}},\"legend\":{\"tracegroupgap\":0},\"title\":{\"text\":\"Rat Percentage Per Borough\"},\"barmode\":\"relative\"},                        {\"responsive\": true}                    ).then(function(){\n",
       "                            \n",
       "var gd = document.getElementById('075113b8-d2ec-491e-bc16-f0cea544762b');\n",
       "var x = new MutationObserver(function (mutations, observer) {{\n",
       "        var display = window.getComputedStyle(gd).display;\n",
       "        if (!display || display === 'none') {{\n",
       "            console.log([gd, 'removed!']);\n",
       "            Plotly.purge(gd);\n",
       "            observer.disconnect();\n",
       "        }}\n",
       "}});\n",
       "\n",
       "// Listen for the removal of the full notebook cells\n",
       "var notebookContainer = gd.closest('#notebook-container');\n",
       "if (notebookContainer) {{\n",
       "    x.observe(notebookContainer, {childList: true});\n",
       "}}\n",
       "\n",
       "// Listen for the clearing of the current output cell\n",
       "var outputEl = gd.closest('.output');\n",
       "if (outputEl) {{\n",
       "    x.observe(outputEl, {childList: true});\n",
       "}}\n",
       "\n",
       "                        })                };                });            </script>        </div>"
      ]
     },
     "metadata": {},
     "output_type": "display_data"
    }
   ],
   "source": [
    "#making the rat graph by itself\n",
    "ratgraph = px.bar(\n",
    "    ratsandrent, \n",
    "    x = \"BOROUGH\", \n",
    "    y = \"% RATS\",\n",
    "    title = \"Rat Percentage Per Borough\"\n",
    ")\n",
    "ratgraph.show()"
   ]
  },
  {
   "cell_type": "code",
   "execution_count": 90,
   "id": "2b53ce45-41a5-4045-9435-6111d3d202db",
   "metadata": {},
   "outputs": [
    {
     "data": {
      "application/vnd.plotly.v1+json": {
       "config": {
        "plotlyServerURL": "https://plot.ly"
       },
       "data": [
        {
         "alignmentgroup": "True",
         "hovertemplate": "BOROUGH=%{x}<br>% GENTRIFICATION=%{y}<extra></extra>",
         "legendgroup": "",
         "marker": {
          "color": "#636efa",
          "pattern": {
           "shape": ""
          }
         },
         "name": "",
         "offsetgroup": "",
         "orientation": "v",
         "showlegend": false,
         "textposition": "auto",
         "type": "bar",
         "x": [
          "Manhattan",
          "Bronx",
          "Brooklyn",
          "Queens",
          "Staten Island"
         ],
         "xaxis": "x",
         "y": [
          44.38502673796791,
          1.6042780748663104,
          40.64171122994652,
          13.368983957219251,
          0
         ],
         "yaxis": "y"
        }
       ],
       "layout": {
        "autosize": true,
        "barmode": "relative",
        "legend": {
         "tracegroupgap": 0
        },
        "template": {
         "data": {
          "bar": [
           {
            "error_x": {
             "color": "#2a3f5f"
            },
            "error_y": {
             "color": "#2a3f5f"
            },
            "marker": {
             "line": {
              "color": "#E5ECF6",
              "width": 0.5
             },
             "pattern": {
              "fillmode": "overlay",
              "size": 10,
              "solidity": 0.2
             }
            },
            "type": "bar"
           }
          ],
          "barpolar": [
           {
            "marker": {
             "line": {
              "color": "#E5ECF6",
              "width": 0.5
             },
             "pattern": {
              "fillmode": "overlay",
              "size": 10,
              "solidity": 0.2
             }
            },
            "type": "barpolar"
           }
          ],
          "carpet": [
           {
            "aaxis": {
             "endlinecolor": "#2a3f5f",
             "gridcolor": "white",
             "linecolor": "white",
             "minorgridcolor": "white",
             "startlinecolor": "#2a3f5f"
            },
            "baxis": {
             "endlinecolor": "#2a3f5f",
             "gridcolor": "white",
             "linecolor": "white",
             "minorgridcolor": "white",
             "startlinecolor": "#2a3f5f"
            },
            "type": "carpet"
           }
          ],
          "choropleth": [
           {
            "colorbar": {
             "outlinewidth": 0,
             "ticks": ""
            },
            "type": "choropleth"
           }
          ],
          "contour": [
           {
            "colorbar": {
             "outlinewidth": 0,
             "ticks": ""
            },
            "colorscale": [
             [
              0,
              "#0d0887"
             ],
             [
              0.1111111111111111,
              "#46039f"
             ],
             [
              0.2222222222222222,
              "#7201a8"
             ],
             [
              0.3333333333333333,
              "#9c179e"
             ],
             [
              0.4444444444444444,
              "#bd3786"
             ],
             [
              0.5555555555555556,
              "#d8576b"
             ],
             [
              0.6666666666666666,
              "#ed7953"
             ],
             [
              0.7777777777777778,
              "#fb9f3a"
             ],
             [
              0.8888888888888888,
              "#fdca26"
             ],
             [
              1,
              "#f0f921"
             ]
            ],
            "type": "contour"
           }
          ],
          "contourcarpet": [
           {
            "colorbar": {
             "outlinewidth": 0,
             "ticks": ""
            },
            "type": "contourcarpet"
           }
          ],
          "heatmap": [
           {
            "colorbar": {
             "outlinewidth": 0,
             "ticks": ""
            },
            "colorscale": [
             [
              0,
              "#0d0887"
             ],
             [
              0.1111111111111111,
              "#46039f"
             ],
             [
              0.2222222222222222,
              "#7201a8"
             ],
             [
              0.3333333333333333,
              "#9c179e"
             ],
             [
              0.4444444444444444,
              "#bd3786"
             ],
             [
              0.5555555555555556,
              "#d8576b"
             ],
             [
              0.6666666666666666,
              "#ed7953"
             ],
             [
              0.7777777777777778,
              "#fb9f3a"
             ],
             [
              0.8888888888888888,
              "#fdca26"
             ],
             [
              1,
              "#f0f921"
             ]
            ],
            "type": "heatmap"
           }
          ],
          "heatmapgl": [
           {
            "colorbar": {
             "outlinewidth": 0,
             "ticks": ""
            },
            "colorscale": [
             [
              0,
              "#0d0887"
             ],
             [
              0.1111111111111111,
              "#46039f"
             ],
             [
              0.2222222222222222,
              "#7201a8"
             ],
             [
              0.3333333333333333,
              "#9c179e"
             ],
             [
              0.4444444444444444,
              "#bd3786"
             ],
             [
              0.5555555555555556,
              "#d8576b"
             ],
             [
              0.6666666666666666,
              "#ed7953"
             ],
             [
              0.7777777777777778,
              "#fb9f3a"
             ],
             [
              0.8888888888888888,
              "#fdca26"
             ],
             [
              1,
              "#f0f921"
             ]
            ],
            "type": "heatmapgl"
           }
          ],
          "histogram": [
           {
            "marker": {
             "pattern": {
              "fillmode": "overlay",
              "size": 10,
              "solidity": 0.2
             }
            },
            "type": "histogram"
           }
          ],
          "histogram2d": [
           {
            "colorbar": {
             "outlinewidth": 0,
             "ticks": ""
            },
            "colorscale": [
             [
              0,
              "#0d0887"
             ],
             [
              0.1111111111111111,
              "#46039f"
             ],
             [
              0.2222222222222222,
              "#7201a8"
             ],
             [
              0.3333333333333333,
              "#9c179e"
             ],
             [
              0.4444444444444444,
              "#bd3786"
             ],
             [
              0.5555555555555556,
              "#d8576b"
             ],
             [
              0.6666666666666666,
              "#ed7953"
             ],
             [
              0.7777777777777778,
              "#fb9f3a"
             ],
             [
              0.8888888888888888,
              "#fdca26"
             ],
             [
              1,
              "#f0f921"
             ]
            ],
            "type": "histogram2d"
           }
          ],
          "histogram2dcontour": [
           {
            "colorbar": {
             "outlinewidth": 0,
             "ticks": ""
            },
            "colorscale": [
             [
              0,
              "#0d0887"
             ],
             [
              0.1111111111111111,
              "#46039f"
             ],
             [
              0.2222222222222222,
              "#7201a8"
             ],
             [
              0.3333333333333333,
              "#9c179e"
             ],
             [
              0.4444444444444444,
              "#bd3786"
             ],
             [
              0.5555555555555556,
              "#d8576b"
             ],
             [
              0.6666666666666666,
              "#ed7953"
             ],
             [
              0.7777777777777778,
              "#fb9f3a"
             ],
             [
              0.8888888888888888,
              "#fdca26"
             ],
             [
              1,
              "#f0f921"
             ]
            ],
            "type": "histogram2dcontour"
           }
          ],
          "mesh3d": [
           {
            "colorbar": {
             "outlinewidth": 0,
             "ticks": ""
            },
            "type": "mesh3d"
           }
          ],
          "parcoords": [
           {
            "line": {
             "colorbar": {
              "outlinewidth": 0,
              "ticks": ""
             }
            },
            "type": "parcoords"
           }
          ],
          "pie": [
           {
            "automargin": true,
            "type": "pie"
           }
          ],
          "scatter": [
           {
            "fillpattern": {
             "fillmode": "overlay",
             "size": 10,
             "solidity": 0.2
            },
            "type": "scatter"
           }
          ],
          "scatter3d": [
           {
            "line": {
             "colorbar": {
              "outlinewidth": 0,
              "ticks": ""
             }
            },
            "marker": {
             "colorbar": {
              "outlinewidth": 0,
              "ticks": ""
             }
            },
            "type": "scatter3d"
           }
          ],
          "scattercarpet": [
           {
            "marker": {
             "colorbar": {
              "outlinewidth": 0,
              "ticks": ""
             }
            },
            "type": "scattercarpet"
           }
          ],
          "scattergeo": [
           {
            "marker": {
             "colorbar": {
              "outlinewidth": 0,
              "ticks": ""
             }
            },
            "type": "scattergeo"
           }
          ],
          "scattergl": [
           {
            "marker": {
             "colorbar": {
              "outlinewidth": 0,
              "ticks": ""
             }
            },
            "type": "scattergl"
           }
          ],
          "scattermapbox": [
           {
            "marker": {
             "colorbar": {
              "outlinewidth": 0,
              "ticks": ""
             }
            },
            "type": "scattermapbox"
           }
          ],
          "scatterpolar": [
           {
            "marker": {
             "colorbar": {
              "outlinewidth": 0,
              "ticks": ""
             }
            },
            "type": "scatterpolar"
           }
          ],
          "scatterpolargl": [
           {
            "marker": {
             "colorbar": {
              "outlinewidth": 0,
              "ticks": ""
             }
            },
            "type": "scatterpolargl"
           }
          ],
          "scatterternary": [
           {
            "marker": {
             "colorbar": {
              "outlinewidth": 0,
              "ticks": ""
             }
            },
            "type": "scatterternary"
           }
          ],
          "surface": [
           {
            "colorbar": {
             "outlinewidth": 0,
             "ticks": ""
            },
            "colorscale": [
             [
              0,
              "#0d0887"
             ],
             [
              0.1111111111111111,
              "#46039f"
             ],
             [
              0.2222222222222222,
              "#7201a8"
             ],
             [
              0.3333333333333333,
              "#9c179e"
             ],
             [
              0.4444444444444444,
              "#bd3786"
             ],
             [
              0.5555555555555556,
              "#d8576b"
             ],
             [
              0.6666666666666666,
              "#ed7953"
             ],
             [
              0.7777777777777778,
              "#fb9f3a"
             ],
             [
              0.8888888888888888,
              "#fdca26"
             ],
             [
              1,
              "#f0f921"
             ]
            ],
            "type": "surface"
           }
          ],
          "table": [
           {
            "cells": {
             "fill": {
              "color": "#EBF0F8"
             },
             "line": {
              "color": "white"
             }
            },
            "header": {
             "fill": {
              "color": "#C8D4E3"
             },
             "line": {
              "color": "white"
             }
            },
            "type": "table"
           }
          ]
         },
         "layout": {
          "annotationdefaults": {
           "arrowcolor": "#2a3f5f",
           "arrowhead": 0,
           "arrowwidth": 1
          },
          "autotypenumbers": "strict",
          "coloraxis": {
           "colorbar": {
            "outlinewidth": 0,
            "ticks": ""
           }
          },
          "colorscale": {
           "diverging": [
            [
             0,
             "#8e0152"
            ],
            [
             0.1,
             "#c51b7d"
            ],
            [
             0.2,
             "#de77ae"
            ],
            [
             0.3,
             "#f1b6da"
            ],
            [
             0.4,
             "#fde0ef"
            ],
            [
             0.5,
             "#f7f7f7"
            ],
            [
             0.6,
             "#e6f5d0"
            ],
            [
             0.7,
             "#b8e186"
            ],
            [
             0.8,
             "#7fbc41"
            ],
            [
             0.9,
             "#4d9221"
            ],
            [
             1,
             "#276419"
            ]
           ],
           "sequential": [
            [
             0,
             "#0d0887"
            ],
            [
             0.1111111111111111,
             "#46039f"
            ],
            [
             0.2222222222222222,
             "#7201a8"
            ],
            [
             0.3333333333333333,
             "#9c179e"
            ],
            [
             0.4444444444444444,
             "#bd3786"
            ],
            [
             0.5555555555555556,
             "#d8576b"
            ],
            [
             0.6666666666666666,
             "#ed7953"
            ],
            [
             0.7777777777777778,
             "#fb9f3a"
            ],
            [
             0.8888888888888888,
             "#fdca26"
            ],
            [
             1,
             "#f0f921"
            ]
           ],
           "sequentialminus": [
            [
             0,
             "#0d0887"
            ],
            [
             0.1111111111111111,
             "#46039f"
            ],
            [
             0.2222222222222222,
             "#7201a8"
            ],
            [
             0.3333333333333333,
             "#9c179e"
            ],
            [
             0.4444444444444444,
             "#bd3786"
            ],
            [
             0.5555555555555556,
             "#d8576b"
            ],
            [
             0.6666666666666666,
             "#ed7953"
            ],
            [
             0.7777777777777778,
             "#fb9f3a"
            ],
            [
             0.8888888888888888,
             "#fdca26"
            ],
            [
             1,
             "#f0f921"
            ]
           ]
          },
          "colorway": [
           "#636efa",
           "#EF553B",
           "#00cc96",
           "#ab63fa",
           "#FFA15A",
           "#19d3f3",
           "#FF6692",
           "#B6E880",
           "#FF97FF",
           "#FECB52"
          ],
          "font": {
           "color": "#2a3f5f"
          },
          "geo": {
           "bgcolor": "white",
           "lakecolor": "white",
           "landcolor": "#E5ECF6",
           "showlakes": true,
           "showland": true,
           "subunitcolor": "white"
          },
          "hoverlabel": {
           "align": "left"
          },
          "hovermode": "closest",
          "mapbox": {
           "style": "light"
          },
          "paper_bgcolor": "white",
          "plot_bgcolor": "#E5ECF6",
          "polar": {
           "angularaxis": {
            "gridcolor": "white",
            "linecolor": "white",
            "ticks": ""
           },
           "bgcolor": "#E5ECF6",
           "radialaxis": {
            "gridcolor": "white",
            "linecolor": "white",
            "ticks": ""
           }
          },
          "scene": {
           "xaxis": {
            "backgroundcolor": "#E5ECF6",
            "gridcolor": "white",
            "gridwidth": 2,
            "linecolor": "white",
            "showbackground": true,
            "ticks": "",
            "zerolinecolor": "white"
           },
           "yaxis": {
            "backgroundcolor": "#E5ECF6",
            "gridcolor": "white",
            "gridwidth": 2,
            "linecolor": "white",
            "showbackground": true,
            "ticks": "",
            "zerolinecolor": "white"
           },
           "zaxis": {
            "backgroundcolor": "#E5ECF6",
            "gridcolor": "white",
            "gridwidth": 2,
            "linecolor": "white",
            "showbackground": true,
            "ticks": "",
            "zerolinecolor": "white"
           }
          },
          "shapedefaults": {
           "line": {
            "color": "#2a3f5f"
           }
          },
          "ternary": {
           "aaxis": {
            "gridcolor": "white",
            "linecolor": "white",
            "ticks": ""
           },
           "baxis": {
            "gridcolor": "white",
            "linecolor": "white",
            "ticks": ""
           },
           "bgcolor": "#E5ECF6",
           "caxis": {
            "gridcolor": "white",
            "linecolor": "white",
            "ticks": ""
           }
          },
          "title": {
           "x": 0.05
          },
          "xaxis": {
           "automargin": true,
           "gridcolor": "white",
           "linecolor": "white",
           "ticks": "",
           "title": {
            "standoff": 15
           },
           "zerolinecolor": "white",
           "zerolinewidth": 2
          },
          "yaxis": {
           "automargin": true,
           "gridcolor": "white",
           "linecolor": "white",
           "ticks": "",
           "title": {
            "standoff": 15
           },
           "zerolinecolor": "white",
           "zerolinewidth": 2
          }
         }
        },
        "title": {
         "text": "Gentrification Percentage Per Borough"
        },
        "xaxis": {
         "anchor": "y",
         "autorange": true,
         "domain": [
          0,
          1
         ],
         "range": [
          -0.5,
          4.5
         ],
         "title": {
          "text": "BOROUGH"
         },
         "type": "category"
        },
        "yaxis": {
         "anchor": "x",
         "autorange": true,
         "domain": [
          0,
          1
         ],
         "range": [
          0,
          46.72108077680833
         ],
         "title": {
          "text": "% GENTRIFICATION"
         },
         "type": "linear"
        }
       }
      },
      "image/png": "[encoded data removed]",
      "text/html": [
       "<div>                            <div id=\"214fa241-b3da-4160-b4c7-ba17d1a6432d\" class=\"plotly-graph-div\" style=\"height:525px; width:100%;\"></div>            <script type=\"text/javascript\">                require([\"plotly\"], function(Plotly) {                    window.PLOTLYENV=window.PLOTLYENV || {};                                    if (document.getElementById(\"214fa241-b3da-4160-b4c7-ba17d1a6432d\")) {                    Plotly.newPlot(                        \"214fa241-b3da-4160-b4c7-ba17d1a6432d\",                        [{\"alignmentgroup\":\"True\",\"hovertemplate\":\"BOROUGH=%{x}\\u003cbr\\u003e% GENTRIFICATION=%{y}\\u003cextra\\u003e\\u003c\\u002fextra\\u003e\",\"legendgroup\":\"\",\"marker\":{\"color\":\"#636efa\",\"pattern\":{\"shape\":\"\"}},\"name\":\"\",\"offsetgroup\":\"\",\"orientation\":\"v\",\"showlegend\":false,\"textposition\":\"auto\",\"x\":[\"Manhattan\",\"Bronx\",\"Brooklyn\",\"Queens\",\"Staten Island\"],\"xaxis\":\"x\",\"y\":[44.38502673796791,1.6042780748663104,40.64171122994652,13.368983957219251,0.0],\"yaxis\":\"y\",\"type\":\"bar\"}],                        {\"template\":{\"data\":{\"histogram2dcontour\":[{\"type\":\"histogram2dcontour\",\"colorbar\":{\"outlinewidth\":0,\"ticks\":\"\"},\"colorscale\":[[0.0,\"#0d0887\"],[0.1111111111111111,\"#46039f\"],[0.2222222222222222,\"#7201a8\"],[0.3333333333333333,\"#9c179e\"],[0.4444444444444444,\"#bd3786\"],[0.5555555555555556,\"#d8576b\"],[0.6666666666666666,\"#ed7953\"],[0.7777777777777778,\"#fb9f3a\"],[0.8888888888888888,\"#fdca26\"],[1.0,\"#f0f921\"]]}],\"choropleth\":[{\"type\":\"choropleth\",\"colorbar\":{\"outlinewidth\":0,\"ticks\":\"\"}}],\"histogram2d\":[{\"type\":\"histogram2d\",\"colorbar\":{\"outlinewidth\":0,\"ticks\":\"\"},\"colorscale\":[[0.0,\"#0d0887\"],[0.1111111111111111,\"#46039f\"],[0.2222222222222222,\"#7201a8\"],[0.3333333333333333,\"#9c179e\"],[0.4444444444444444,\"#bd3786\"],[0.5555555555555556,\"#d8576b\"],[0.6666666666666666,\"#ed7953\"],[0.7777777777777778,\"#fb9f3a\"],[0.8888888888888888,\"#fdca26\"],[1.0,\"#f0f921\"]]}],\"heatmap\":[{\"type\":\"heatmap\",\"colorbar\":{\"outlinewidth\":0,\"ticks\":\"\"},\"colorscale\":[[0.0,\"#0d0887\"],[0.1111111111111111,\"#46039f\"],[0.2222222222222222,\"#7201a8\"],[0.3333333333333333,\"#9c179e\"],[0.4444444444444444,\"#bd3786\"],[0.5555555555555556,\"#d8576b\"],[0.6666666666666666,\"#ed7953\"],[0.7777777777777778,\"#fb9f3a\"],[0.8888888888888888,\"#fdca26\"],[1.0,\"#f0f921\"]]}],\"heatmapgl\":[{\"type\":\"heatmapgl\",\"colorbar\":{\"outlinewidth\":0,\"ticks\":\"\"},\"colorscale\":[[0.0,\"#0d0887\"],[0.1111111111111111,\"#46039f\"],[0.2222222222222222,\"#7201a8\"],[0.3333333333333333,\"#9c179e\"],[0.4444444444444444,\"#bd3786\"],[0.5555555555555556,\"#d8576b\"],[0.6666666666666666,\"#ed7953\"],[0.7777777777777778,\"#fb9f3a\"],[0.8888888888888888,\"#fdca26\"],[1.0,\"#f0f921\"]]}],\"contourcarpet\":[{\"type\":\"contourcarpet\",\"colorbar\":{\"outlinewidth\":0,\"ticks\":\"\"}}],\"contour\":[{\"type\":\"contour\",\"colorbar\":{\"outlinewidth\":0,\"ticks\":\"\"},\"colorscale\":[[0.0,\"#0d0887\"],[0.1111111111111111,\"#46039f\"],[0.2222222222222222,\"#7201a8\"],[0.3333333333333333,\"#9c179e\"],[0.4444444444444444,\"#bd3786\"],[0.5555555555555556,\"#d8576b\"],[0.6666666666666666,\"#ed7953\"],[0.7777777777777778,\"#fb9f3a\"],[0.8888888888888888,\"#fdca26\"],[1.0,\"#f0f921\"]]}],\"surface\":[{\"type\":\"surface\",\"colorbar\":{\"outlinewidth\":0,\"ticks\":\"\"},\"colorscale\":[[0.0,\"#0d0887\"],[0.1111111111111111,\"#46039f\"],[0.2222222222222222,\"#7201a8\"],[0.3333333333333333,\"#9c179e\"],[0.4444444444444444,\"#bd3786\"],[0.5555555555555556,\"#d8576b\"],[0.6666666666666666,\"#ed7953\"],[0.7777777777777778,\"#fb9f3a\"],[0.8888888888888888,\"#fdca26\"],[1.0,\"#f0f921\"]]}],\"mesh3d\":[{\"type\":\"mesh3d\",\"colorbar\":{\"outlinewidth\":0,\"ticks\":\"\"}}],\"scatter\":[{\"fillpattern\":{\"fillmode\":\"overlay\",\"size\":10,\"solidity\":0.2},\"type\":\"scatter\"}],\"parcoords\":[{\"type\":\"parcoords\",\"line\":{\"colorbar\":{\"outlinewidth\":0,\"ticks\":\"\"}}}],\"scatterpolargl\":[{\"type\":\"scatterpolargl\",\"marker\":{\"colorbar\":{\"outlinewidth\":0,\"ticks\":\"\"}}}],\"bar\":[{\"error_x\":{\"color\":\"#2a3f5f\"},\"error_y\":{\"color\":\"#2a3f5f\"},\"marker\":{\"line\":{\"color\":\"#E5ECF6\",\"width\":0.5},\"pattern\":{\"fillmode\":\"overlay\",\"size\":10,\"solidity\":0.2}},\"type\":\"bar\"}],\"scattergeo\":[{\"type\":\"scattergeo\",\"marker\":{\"colorbar\":{\"outlinewidth\":0,\"ticks\":\"\"}}}],\"scatterpolar\":[{\"type\":\"scatterpolar\",\"marker\":{\"colorbar\":{\"outlinewidth\":0,\"ticks\":\"\"}}}],\"histogram\":[{\"marker\":{\"pattern\":{\"fillmode\":\"overlay\",\"size\":10,\"solidity\":0.2}},\"type\":\"histogram\"}],\"scattergl\":[{\"type\":\"scattergl\",\"marker\":{\"colorbar\":{\"outlinewidth\":0,\"ticks\":\"\"}}}],\"scatter3d\":[{\"type\":\"scatter3d\",\"line\":{\"colorbar\":{\"outlinewidth\":0,\"ticks\":\"\"}},\"marker\":{\"colorbar\":{\"outlinewidth\":0,\"ticks\":\"\"}}}],\"scattermapbox\":[{\"type\":\"scattermapbox\",\"marker\":{\"colorbar\":{\"outlinewidth\":0,\"ticks\":\"\"}}}],\"scatterternary\":[{\"type\":\"scatterternary\",\"marker\":{\"colorbar\":{\"outlinewidth\":0,\"ticks\":\"\"}}}],\"scattercarpet\":[{\"type\":\"scattercarpet\",\"marker\":{\"colorbar\":{\"outlinewidth\":0,\"ticks\":\"\"}}}],\"carpet\":[{\"aaxis\":{\"endlinecolor\":\"#2a3f5f\",\"gridcolor\":\"white\",\"linecolor\":\"white\",\"minorgridcolor\":\"white\",\"startlinecolor\":\"#2a3f5f\"},\"baxis\":{\"endlinecolor\":\"#2a3f5f\",\"gridcolor\":\"white\",\"linecolor\":\"white\",\"minorgridcolor\":\"white\",\"startlinecolor\":\"#2a3f5f\"},\"type\":\"carpet\"}],\"table\":[{\"cells\":{\"fill\":{\"color\":\"#EBF0F8\"},\"line\":{\"color\":\"white\"}},\"header\":{\"fill\":{\"color\":\"#C8D4E3\"},\"line\":{\"color\":\"white\"}},\"type\":\"table\"}],\"barpolar\":[{\"marker\":{\"line\":{\"color\":\"#E5ECF6\",\"width\":0.5},\"pattern\":{\"fillmode\":\"overlay\",\"size\":10,\"solidity\":0.2}},\"type\":\"barpolar\"}],\"pie\":[{\"automargin\":true,\"type\":\"pie\"}]},\"layout\":{\"autotypenumbers\":\"strict\",\"colorway\":[\"#636efa\",\"#EF553B\",\"#00cc96\",\"#ab63fa\",\"#FFA15A\",\"#19d3f3\",\"#FF6692\",\"#B6E880\",\"#FF97FF\",\"#FECB52\"],\"font\":{\"color\":\"#2a3f5f\"},\"hovermode\":\"closest\",\"hoverlabel\":{\"align\":\"left\"},\"paper_bgcolor\":\"white\",\"plot_bgcolor\":\"#E5ECF6\",\"polar\":{\"bgcolor\":\"#E5ECF6\",\"angularaxis\":{\"gridcolor\":\"white\",\"linecolor\":\"white\",\"ticks\":\"\"},\"radialaxis\":{\"gridcolor\":\"white\",\"linecolor\":\"white\",\"ticks\":\"\"}},\"ternary\":{\"bgcolor\":\"#E5ECF6\",\"aaxis\":{\"gridcolor\":\"white\",\"linecolor\":\"white\",\"ticks\":\"\"},\"baxis\":{\"gridcolor\":\"white\",\"linecolor\":\"white\",\"ticks\":\"\"},\"caxis\":{\"gridcolor\":\"white\",\"linecolor\":\"white\",\"ticks\":\"\"}},\"coloraxis\":{\"colorbar\":{\"outlinewidth\":0,\"ticks\":\"\"}},\"colorscale\":{\"sequential\":[[0.0,\"#0d0887\"],[0.1111111111111111,\"#46039f\"],[0.2222222222222222,\"#7201a8\"],[0.3333333333333333,\"#9c179e\"],[0.4444444444444444,\"#bd3786\"],[0.5555555555555556,\"#d8576b\"],[0.6666666666666666,\"#ed7953\"],[0.7777777777777778,\"#fb9f3a\"],[0.8888888888888888,\"#fdca26\"],[1.0,\"#f0f921\"]],\"sequentialminus\":[[0.0,\"#0d0887\"],[0.1111111111111111,\"#46039f\"],[0.2222222222222222,\"#7201a8\"],[0.3333333333333333,\"#9c179e\"],[0.4444444444444444,\"#bd3786\"],[0.5555555555555556,\"#d8576b\"],[0.6666666666666666,\"#ed7953\"],[0.7777777777777778,\"#fb9f3a\"],[0.8888888888888888,\"#fdca26\"],[1.0,\"#f0f921\"]],\"diverging\":[[0,\"#8e0152\"],[0.1,\"#c51b7d\"],[0.2,\"#de77ae\"],[0.3,\"#f1b6da\"],[0.4,\"#fde0ef\"],[0.5,\"#f7f7f7\"],[0.6,\"#e6f5d0\"],[0.7,\"#b8e186\"],[0.8,\"#7fbc41\"],[0.9,\"#4d9221\"],[1,\"#276419\"]]},\"xaxis\":{\"gridcolor\":\"white\",\"linecolor\":\"white\",\"ticks\":\"\",\"title\":{\"standoff\":15},\"zerolinecolor\":\"white\",\"automargin\":true,\"zerolinewidth\":2},\"yaxis\":{\"gridcolor\":\"white\",\"linecolor\":\"white\",\"ticks\":\"\",\"title\":{\"standoff\":15},\"zerolinecolor\":\"white\",\"automargin\":true,\"zerolinewidth\":2},\"scene\":{\"xaxis\":{\"backgroundcolor\":\"#E5ECF6\",\"gridcolor\":\"white\",\"linecolor\":\"white\",\"showbackground\":true,\"ticks\":\"\",\"zerolinecolor\":\"white\",\"gridwidth\":2},\"yaxis\":{\"backgroundcolor\":\"#E5ECF6\",\"gridcolor\":\"white\",\"linecolor\":\"white\",\"showbackground\":true,\"ticks\":\"\",\"zerolinecolor\":\"white\",\"gridwidth\":2},\"zaxis\":{\"backgroundcolor\":\"#E5ECF6\",\"gridcolor\":\"white\",\"linecolor\":\"white\",\"showbackground\":true,\"ticks\":\"\",\"zerolinecolor\":\"white\",\"gridwidth\":2}},\"shapedefaults\":{\"line\":{\"color\":\"#2a3f5f\"}},\"annotationdefaults\":{\"arrowcolor\":\"#2a3f5f\",\"arrowhead\":0,\"arrowwidth\":1},\"geo\":{\"bgcolor\":\"white\",\"landcolor\":\"#E5ECF6\",\"subunitcolor\":\"white\",\"showland\":true,\"showlakes\":true,\"lakecolor\":\"white\"},\"title\":{\"x\":0.05},\"mapbox\":{\"style\":\"light\"}}},\"xaxis\":{\"anchor\":\"y\",\"domain\":[0.0,1.0],\"title\":{\"text\":\"BOROUGH\"}},\"yaxis\":{\"anchor\":\"x\",\"domain\":[0.0,1.0],\"title\":{\"text\":\"% GENTRIFICATION\"}},\"legend\":{\"tracegroupgap\":0},\"title\":{\"text\":\"Gentrification Percentage Per Borough\"},\"barmode\":\"relative\"},                        {\"responsive\": true}                    ).then(function(){\n",
       "                            \n",
       "var gd = document.getElementById('214fa241-b3da-4160-b4c7-ba17d1a6432d');\n",
       "var x = new MutationObserver(function (mutations, observer) {{\n",
       "        var display = window.getComputedStyle(gd).display;\n",
       "        if (!display || display === 'none') {{\n",
       "            console.log([gd, 'removed!']);\n",
       "            Plotly.purge(gd);\n",
       "            observer.disconnect();\n",
       "        }}\n",
       "}});\n",
       "\n",
       "// Listen for the removal of the full notebook cells\n",
       "var notebookContainer = gd.closest('#notebook-container');\n",
       "if (notebookContainer) {{\n",
       "    x.observe(notebookContainer, {childList: true});\n",
       "}}\n",
       "\n",
       "// Listen for the clearing of the current output cell\n",
       "var outputEl = gd.closest('.output');\n",
       "if (outputEl) {{\n",
       "    x.observe(outputEl, {childList: true});\n",
       "}}\n",
       "\n",
       "                        })                };                });            </script>        </div>"
      ]
     },
     "metadata": {},
     "output_type": "display_data"
    }
   ],
   "source": [
    "#making the gentrification graph by itself\n",
    "rentgraph = px.bar(\n",
    "    ratsandrent,\n",
    "    x = \"BOROUGH\",\n",
    "    y = \"% GENTRIFICATION\",\n",
    "    title = \"Gentrification Percentage Per Borough\"\n",
    ")\n",
    "\n",
    "rentgraph.show()"
   ]
  },
  {
   "cell_type": "code",
   "execution_count": 92,
   "id": "69288dcb-a752-4561-a77a-75652d8a1580",
   "metadata": {},
   "outputs": [
    {
     "data": {
      "application/vnd.plotly.v1+json": {
       "config": {
        "plotlyServerURL": "https://plot.ly"
       },
       "data": [
        {
         "alignmentgroup": "True",
         "hovertemplate": "BOROUGH=%{x}<br>% RATS=%{y}<extra></extra>",
         "legendgroup": "",
         "marker": {
          "color": "#636efa",
          "pattern": {
           "shape": ""
          }
         },
         "name": "",
         "offsetgroup": "",
         "orientation": "v",
         "showlegend": false,
         "textposition": "auto",
         "type": "bar",
         "x": [
          "Manhattan",
          "Bronx",
          "Brooklyn",
          "Queens",
          "Staten Island"
         ],
         "xaxis": "x",
         "y": [
          32.230746549864854,
          29.185765641310784,
          27.703334781583838,
          8.577557921122638,
          2.302595106117886
         ],
         "yaxis": "y"
        },
        {
         "type": "bar",
         "x": [
          "Manhattan",
          "Bronx",
          "Brooklyn",
          "Queens",
          "Staten Island"
         ],
         "y": [
          44.38502673796791,
          1.6042780748663104,
          40.64171122994652,
          13.368983957219251,
          0
         ]
        }
       ],
       "layout": {
        "autosize": true,
        "barmode": "group",
        "legend": {
         "tracegroupgap": 0
        },
        "margin": {
         "t": 60
        },
        "template": {
         "data": {
          "bar": [
           {
            "error_x": {
             "color": "#2a3f5f"
            },
            "error_y": {
             "color": "#2a3f5f"
            },
            "marker": {
             "line": {
              "color": "#E5ECF6",
              "width": 0.5
             },
             "pattern": {
              "fillmode": "overlay",
              "size": 10,
              "solidity": 0.2
             }
            },
            "type": "bar"
           }
          ],
          "barpolar": [
           {
            "marker": {
             "line": {
              "color": "#E5ECF6",
              "width": 0.5
             },
             "pattern": {
              "fillmode": "overlay",
              "size": 10,
              "solidity": 0.2
             }
            },
            "type": "barpolar"
           }
          ],
          "carpet": [
           {
            "aaxis": {
             "endlinecolor": "#2a3f5f",
             "gridcolor": "white",
             "linecolor": "white",
             "minorgridcolor": "white",
             "startlinecolor": "#2a3f5f"
            },
            "baxis": {
             "endlinecolor": "#2a3f5f",
             "gridcolor": "white",
             "linecolor": "white",
             "minorgridcolor": "white",
             "startlinecolor": "#2a3f5f"
            },
            "type": "carpet"
           }
          ],
          "choropleth": [
           {
            "colorbar": {
             "outlinewidth": 0,
             "ticks": ""
            },
            "type": "choropleth"
           }
          ],
          "contour": [
           {
            "colorbar": {
             "outlinewidth": 0,
             "ticks": ""
            },
            "colorscale": [
             [
              0,
              "#0d0887"
             ],
             [
              0.1111111111111111,
              "#46039f"
             ],
             [
              0.2222222222222222,
              "#7201a8"
             ],
             [
              0.3333333333333333,
              "#9c179e"
             ],
             [
              0.4444444444444444,
              "#bd3786"
             ],
             [
              0.5555555555555556,
              "#d8576b"
             ],
             [
              0.6666666666666666,
              "#ed7953"
             ],
             [
              0.7777777777777778,
              "#fb9f3a"
             ],
             [
              0.8888888888888888,
              "#fdca26"
             ],
             [
              1,
              "#f0f921"
             ]
            ],
            "type": "contour"
           }
          ],
          "contourcarpet": [
           {
            "colorbar": {
             "outlinewidth": 0,
             "ticks": ""
            },
            "type": "contourcarpet"
           }
          ],
          "heatmap": [
           {
            "colorbar": {
             "outlinewidth": 0,
             "ticks": ""
            },
            "colorscale": [
             [
              0,
              "#0d0887"
             ],
             [
              0.1111111111111111,
              "#46039f"
             ],
             [
              0.2222222222222222,
              "#7201a8"
             ],
             [
              0.3333333333333333,
              "#9c179e"
             ],
             [
              0.4444444444444444,
              "#bd3786"
             ],
             [
              0.5555555555555556,
              "#d8576b"
             ],
             [
              0.6666666666666666,
              "#ed7953"
             ],
             [
              0.7777777777777778,
              "#fb9f3a"
             ],
             [
              0.8888888888888888,
              "#fdca26"
             ],
             [
              1,
              "#f0f921"
             ]
            ],
            "type": "heatmap"
           }
          ],
          "heatmapgl": [
           {
            "colorbar": {
             "outlinewidth": 0,
             "ticks": ""
            },
            "colorscale": [
             [
              0,
              "#0d0887"
             ],
             [
              0.1111111111111111,
              "#46039f"
             ],
             [
              0.2222222222222222,
              "#7201a8"
             ],
             [
              0.3333333333333333,
              "#9c179e"
             ],
             [
              0.4444444444444444,
              "#bd3786"
             ],
             [
              0.5555555555555556,
              "#d8576b"
             ],
             [
              0.6666666666666666,
              "#ed7953"
             ],
             [
              0.7777777777777778,
              "#fb9f3a"
             ],
             [
              0.8888888888888888,
              "#fdca26"
             ],
             [
              1,
              "#f0f921"
             ]
            ],
            "type": "heatmapgl"
           }
          ],
          "histogram": [
           {
            "marker": {
             "pattern": {
              "fillmode": "overlay",
              "size": 10,
              "solidity": 0.2
             }
            },
            "type": "histogram"
           }
          ],
          "histogram2d": [
           {
            "colorbar": {
             "outlinewidth": 0,
             "ticks": ""
            },
            "colorscale": [
             [
              0,
              "#0d0887"
             ],
             [
              0.1111111111111111,
              "#46039f"
             ],
             [
              0.2222222222222222,
              "#7201a8"
             ],
             [
              0.3333333333333333,
              "#9c179e"
             ],
             [
              0.4444444444444444,
              "#bd3786"
             ],
             [
              0.5555555555555556,
              "#d8576b"
             ],
             [
              0.6666666666666666,
              "#ed7953"
             ],
             [
              0.7777777777777778,
              "#fb9f3a"
             ],
             [
              0.8888888888888888,
              "#fdca26"
             ],
             [
              1,
              "#f0f921"
             ]
            ],
            "type": "histogram2d"
           }
          ],
          "histogram2dcontour": [
           {
            "colorbar": {
             "outlinewidth": 0,
             "ticks": ""
            },
            "colorscale": [
             [
              0,
              "#0d0887"
             ],
             [
              0.1111111111111111,
              "#46039f"
             ],
             [
              0.2222222222222222,
              "#7201a8"
             ],
             [
              0.3333333333333333,
              "#9c179e"
             ],
             [
              0.4444444444444444,
              "#bd3786"
             ],
             [
              0.5555555555555556,
              "#d8576b"
             ],
             [
              0.6666666666666666,
              "#ed7953"
             ],
             [
              0.7777777777777778,
              "#fb9f3a"
             ],
             [
              0.8888888888888888,
              "#fdca26"
             ],
             [
              1,
              "#f0f921"
             ]
            ],
            "type": "histogram2dcontour"
           }
          ],
          "mesh3d": [
           {
            "colorbar": {
             "outlinewidth": 0,
             "ticks": ""
            },
            "type": "mesh3d"
           }
          ],
          "parcoords": [
           {
            "line": {
             "colorbar": {
              "outlinewidth": 0,
              "ticks": ""
             }
            },
            "type": "parcoords"
           }
          ],
          "pie": [
           {
            "automargin": true,
            "type": "pie"
           }
          ],
          "scatter": [
           {
            "fillpattern": {
             "fillmode": "overlay",
             "size": 10,
             "solidity": 0.2
            },
            "type": "scatter"
           }
          ],
          "scatter3d": [
           {
            "line": {
             "colorbar": {
              "outlinewidth": 0,
              "ticks": ""
             }
            },
            "marker": {
             "colorbar": {
              "outlinewidth": 0,
              "ticks": ""
             }
            },
            "type": "scatter3d"
           }
          ],
          "scattercarpet": [
           {
            "marker": {
             "colorbar": {
              "outlinewidth": 0,
              "ticks": ""
             }
            },
            "type": "scattercarpet"
           }
          ],
          "scattergeo": [
           {
            "marker": {
             "colorbar": {
              "outlinewidth": 0,
              "ticks": ""
             }
            },
            "type": "scattergeo"
           }
          ],
          "scattergl": [
           {
            "marker": {
             "colorbar": {
              "outlinewidth": 0,
              "ticks": ""
             }
            },
            "type": "scattergl"
           }
          ],
          "scattermapbox": [
           {
            "marker": {
             "colorbar": {
              "outlinewidth": 0,
              "ticks": ""
             }
            },
            "type": "scattermapbox"
           }
          ],
          "scatterpolar": [
           {
            "marker": {
             "colorbar": {
              "outlinewidth": 0,
              "ticks": ""
             }
            },
            "type": "scatterpolar"
           }
          ],
          "scatterpolargl": [
           {
            "marker": {
             "colorbar": {
              "outlinewidth": 0,
              "ticks": ""
             }
            },
            "type": "scatterpolargl"
           }
          ],
          "scatterternary": [
           {
            "marker": {
             "colorbar": {
              "outlinewidth": 0,
              "ticks": ""
             }
            },
            "type": "scatterternary"
           }
          ],
          "surface": [
           {
            "colorbar": {
             "outlinewidth": 0,
             "ticks": ""
            },
            "colorscale": [
             [
              0,
              "#0d0887"
             ],
             [
              0.1111111111111111,
              "#46039f"
             ],
             [
              0.2222222222222222,
              "#7201a8"
             ],
             [
              0.3333333333333333,
              "#9c179e"
             ],
             [
              0.4444444444444444,
              "#bd3786"
             ],
             [
              0.5555555555555556,
              "#d8576b"
             ],
             [
              0.6666666666666666,
              "#ed7953"
             ],
             [
              0.7777777777777778,
              "#fb9f3a"
             ],
             [
              0.8888888888888888,
              "#fdca26"
             ],
             [
              1,
              "#f0f921"
             ]
            ],
            "type": "surface"
           }
          ],
          "table": [
           {
            "cells": {
             "fill": {
              "color": "#EBF0F8"
             },
             "line": {
              "color": "white"
             }
            },
            "header": {
             "fill": {
              "color": "#C8D4E3"
             },
             "line": {
              "color": "white"
             }
            },
            "type": "table"
           }
          ]
         },
         "layout": {
          "annotationdefaults": {
           "arrowcolor": "#2a3f5f",
           "arrowhead": 0,
           "arrowwidth": 1
          },
          "autotypenumbers": "strict",
          "coloraxis": {
           "colorbar": {
            "outlinewidth": 0,
            "ticks": ""
           }
          },
          "colorscale": {
           "diverging": [
            [
             0,
             "#8e0152"
            ],
            [
             0.1,
             "#c51b7d"
            ],
            [
             0.2,
             "#de77ae"
            ],
            [
             0.3,
             "#f1b6da"
            ],
            [
             0.4,
             "#fde0ef"
            ],
            [
             0.5,
             "#f7f7f7"
            ],
            [
             0.6,
             "#e6f5d0"
            ],
            [
             0.7,
             "#b8e186"
            ],
            [
             0.8,
             "#7fbc41"
            ],
            [
             0.9,
             "#4d9221"
            ],
            [
             1,
             "#276419"
            ]
           ],
           "sequential": [
            [
             0,
             "#0d0887"
            ],
            [
             0.1111111111111111,
             "#46039f"
            ],
            [
             0.2222222222222222,
             "#7201a8"
            ],
            [
             0.3333333333333333,
             "#9c179e"
            ],
            [
             0.4444444444444444,
             "#bd3786"
            ],
            [
             0.5555555555555556,
             "#d8576b"
            ],
            [
             0.6666666666666666,
             "#ed7953"
            ],
            [
             0.7777777777777778,
             "#fb9f3a"
            ],
            [
             0.8888888888888888,
             "#fdca26"
            ],
            [
             1,
             "#f0f921"
            ]
           ],
           "sequentialminus": [
            [
             0,
             "#0d0887"
            ],
            [
             0.1111111111111111,
             "#46039f"
            ],
            [
             0.2222222222222222,
             "#7201a8"
            ],
            [
             0.3333333333333333,
             "#9c179e"
            ],
            [
             0.4444444444444444,
             "#bd3786"
            ],
            [
             0.5555555555555556,
             "#d8576b"
            ],
            [
             0.6666666666666666,
             "#ed7953"
            ],
            [
             0.7777777777777778,
             "#fb9f3a"
            ],
            [
             0.8888888888888888,
             "#fdca26"
            ],
            [
             1,
             "#f0f921"
            ]
           ]
          },
          "colorway": [
           "#636efa",
           "#EF553B",
           "#00cc96",
           "#ab63fa",
           "#FFA15A",
           "#19d3f3",
           "#FF6692",
           "#B6E880",
           "#FF97FF",
           "#FECB52"
          ],
          "font": {
           "color": "#2a3f5f"
          },
          "geo": {
           "bgcolor": "white",
           "lakecolor": "white",
           "landcolor": "#E5ECF6",
           "showlakes": true,
           "showland": true,
           "subunitcolor": "white"
          },
          "hoverlabel": {
           "align": "left"
          },
          "hovermode": "closest",
          "mapbox": {
           "style": "light"
          },
          "paper_bgcolor": "white",
          "plot_bgcolor": "#E5ECF6",
          "polar": {
           "angularaxis": {
            "gridcolor": "white",
            "linecolor": "white",
            "ticks": ""
           },
           "bgcolor": "#E5ECF6",
           "radialaxis": {
            "gridcolor": "white",
            "linecolor": "white",
            "ticks": ""
           }
          },
          "scene": {
           "xaxis": {
            "backgroundcolor": "#E5ECF6",
            "gridcolor": "white",
            "gridwidth": 2,
            "linecolor": "white",
            "showbackground": true,
            "ticks": "",
            "zerolinecolor": "white"
           },
           "yaxis": {
            "backgroundcolor": "#E5ECF6",
            "gridcolor": "white",
            "gridwidth": 2,
            "linecolor": "white",
            "showbackground": true,
            "ticks": "",
            "zerolinecolor": "white"
           },
           "zaxis": {
            "backgroundcolor": "#E5ECF6",
            "gridcolor": "white",
            "gridwidth": 2,
            "linecolor": "white",
            "showbackground": true,
            "ticks": "",
            "zerolinecolor": "white"
           }
          },
          "shapedefaults": {
           "line": {
            "color": "#2a3f5f"
           }
          },
          "ternary": {
           "aaxis": {
            "gridcolor": "white",
            "linecolor": "white",
            "ticks": ""
           },
           "baxis": {
            "gridcolor": "white",
            "linecolor": "white",
            "ticks": ""
           },
           "bgcolor": "#E5ECF6",
           "caxis": {
            "gridcolor": "white",
            "linecolor": "white",
            "ticks": ""
           }
          },
          "title": {
           "x": 0.05
          },
          "xaxis": {
           "automargin": true,
           "gridcolor": "white",
           "linecolor": "white",
           "ticks": "",
           "title": {
            "standoff": 15
           },
           "zerolinecolor": "white",
           "zerolinewidth": 2
          },
          "yaxis": {
           "automargin": true,
           "gridcolor": "white",
           "linecolor": "white",
           "ticks": "",
           "title": {
            "standoff": 15
           },
           "zerolinecolor": "white",
           "zerolinewidth": 2
          }
         }
        },
        "title": {
         "text": "Rat and Rent Percentage Per Borough "
        },
        "xaxis": {
         "anchor": "y",
         "autorange": true,
         "domain": [
          0,
          1
         ],
         "range": [
          -0.5,
          4.5
         ],
         "title": {
          "text": "Borough"
         },
         "type": "category"
        },
        "yaxis": {
         "anchor": "x",
         "autorange": true,
         "domain": [
          0,
          1
         ],
         "range": [
          0,
          46.72108077680833
         ],
         "title": {
          "text": "Percent (%)"
         },
         "type": "linear"
        }
       }
      },
      "image/png": "[encoded data removed]",
      "text/html": [
       "<div>                            <div id=\"c6d2bbc0-c56c-48e7-a0b0-52cc0cdf91fe\" class=\"plotly-graph-div\" style=\"height:525px; width:100%;\"></div>            <script type=\"text/javascript\">                require([\"plotly\"], function(Plotly) {                    window.PLOTLYENV=window.PLOTLYENV || {};                                    if (document.getElementById(\"c6d2bbc0-c56c-48e7-a0b0-52cc0cdf91fe\")) {                    Plotly.newPlot(                        \"c6d2bbc0-c56c-48e7-a0b0-52cc0cdf91fe\",                        [{\"alignmentgroup\":\"True\",\"hovertemplate\":\"BOROUGH=%{x}\\u003cbr\\u003e% RATS=%{y}\\u003cextra\\u003e\\u003c\\u002fextra\\u003e\",\"legendgroup\":\"\",\"marker\":{\"color\":\"#636efa\",\"pattern\":{\"shape\":\"\"}},\"name\":\"\",\"offsetgroup\":\"\",\"orientation\":\"v\",\"showlegend\":false,\"textposition\":\"auto\",\"x\":[\"Manhattan\",\"Bronx\",\"Brooklyn\",\"Queens\",\"Staten Island\"],\"xaxis\":\"x\",\"y\":[32.230746549864854,29.185765641310784,27.703334781583838,8.577557921122638,2.302595106117886],\"yaxis\":\"y\",\"type\":\"bar\"},{\"x\":[\"Manhattan\",\"Bronx\",\"Brooklyn\",\"Queens\",\"Staten Island\"],\"y\":[44.38502673796791,1.6042780748663104,40.64171122994652,13.368983957219251,0.0],\"type\":\"bar\"}],                        {\"template\":{\"data\":{\"histogram2dcontour\":[{\"type\":\"histogram2dcontour\",\"colorbar\":{\"outlinewidth\":0,\"ticks\":\"\"},\"colorscale\":[[0.0,\"#0d0887\"],[0.1111111111111111,\"#46039f\"],[0.2222222222222222,\"#7201a8\"],[0.3333333333333333,\"#9c179e\"],[0.4444444444444444,\"#bd3786\"],[0.5555555555555556,\"#d8576b\"],[0.6666666666666666,\"#ed7953\"],[0.7777777777777778,\"#fb9f3a\"],[0.8888888888888888,\"#fdca26\"],[1.0,\"#f0f921\"]]}],\"choropleth\":[{\"type\":\"choropleth\",\"colorbar\":{\"outlinewidth\":0,\"ticks\":\"\"}}],\"histogram2d\":[{\"type\":\"histogram2d\",\"colorbar\":{\"outlinewidth\":0,\"ticks\":\"\"},\"colorscale\":[[0.0,\"#0d0887\"],[0.1111111111111111,\"#46039f\"],[0.2222222222222222,\"#7201a8\"],[0.3333333333333333,\"#9c179e\"],[0.4444444444444444,\"#bd3786\"],[0.5555555555555556,\"#d8576b\"],[0.6666666666666666,\"#ed7953\"],[0.7777777777777778,\"#fb9f3a\"],[0.8888888888888888,\"#fdca26\"],[1.0,\"#f0f921\"]]}],\"heatmap\":[{\"type\":\"heatmap\",\"colorbar\":{\"outlinewidth\":0,\"ticks\":\"\"},\"colorscale\":[[0.0,\"#0d0887\"],[0.1111111111111111,\"#46039f\"],[0.2222222222222222,\"#7201a8\"],[0.3333333333333333,\"#9c179e\"],[0.4444444444444444,\"#bd3786\"],[0.5555555555555556,\"#d8576b\"],[0.6666666666666666,\"#ed7953\"],[0.7777777777777778,\"#fb9f3a\"],[0.8888888888888888,\"#fdca26\"],[1.0,\"#f0f921\"]]}],\"heatmapgl\":[{\"type\":\"heatmapgl\",\"colorbar\":{\"outlinewidth\":0,\"ticks\":\"\"},\"colorscale\":[[0.0,\"#0d0887\"],[0.1111111111111111,\"#46039f\"],[0.2222222222222222,\"#7201a8\"],[0.3333333333333333,\"#9c179e\"],[0.4444444444444444,\"#bd3786\"],[0.5555555555555556,\"#d8576b\"],[0.6666666666666666,\"#ed7953\"],[0.7777777777777778,\"#fb9f3a\"],[0.8888888888888888,\"#fdca26\"],[1.0,\"#f0f921\"]]}],\"contourcarpet\":[{\"type\":\"contourcarpet\",\"colorbar\":{\"outlinewidth\":0,\"ticks\":\"\"}}],\"contour\":[{\"type\":\"contour\",\"colorbar\":{\"outlinewidth\":0,\"ticks\":\"\"},\"colorscale\":[[0.0,\"#0d0887\"],[0.1111111111111111,\"#46039f\"],[0.2222222222222222,\"#7201a8\"],[0.3333333333333333,\"#9c179e\"],[0.4444444444444444,\"#bd3786\"],[0.5555555555555556,\"#d8576b\"],[0.6666666666666666,\"#ed7953\"],[0.7777777777777778,\"#fb9f3a\"],[0.8888888888888888,\"#fdca26\"],[1.0,\"#f0f921\"]]}],\"surface\":[{\"type\":\"surface\",\"colorbar\":{\"outlinewidth\":0,\"ticks\":\"\"},\"colorscale\":[[0.0,\"#0d0887\"],[0.1111111111111111,\"#46039f\"],[0.2222222222222222,\"#7201a8\"],[0.3333333333333333,\"#9c179e\"],[0.4444444444444444,\"#bd3786\"],[0.5555555555555556,\"#d8576b\"],[0.6666666666666666,\"#ed7953\"],[0.7777777777777778,\"#fb9f3a\"],[0.8888888888888888,\"#fdca26\"],[1.0,\"#f0f921\"]]}],\"mesh3d\":[{\"type\":\"mesh3d\",\"colorbar\":{\"outlinewidth\":0,\"ticks\":\"\"}}],\"scatter\":[{\"fillpattern\":{\"fillmode\":\"overlay\",\"size\":10,\"solidity\":0.2},\"type\":\"scatter\"}],\"parcoords\":[{\"type\":\"parcoords\",\"line\":{\"colorbar\":{\"outlinewidth\":0,\"ticks\":\"\"}}}],\"scatterpolargl\":[{\"type\":\"scatterpolargl\",\"marker\":{\"colorbar\":{\"outlinewidth\":0,\"ticks\":\"\"}}}],\"bar\":[{\"error_x\":{\"color\":\"#2a3f5f\"},\"error_y\":{\"color\":\"#2a3f5f\"},\"marker\":{\"line\":{\"color\":\"#E5ECF6\",\"width\":0.5},\"pattern\":{\"fillmode\":\"overlay\",\"size\":10,\"solidity\":0.2}},\"type\":\"bar\"}],\"scattergeo\":[{\"type\":\"scattergeo\",\"marker\":{\"colorbar\":{\"outlinewidth\":0,\"ticks\":\"\"}}}],\"scatterpolar\":[{\"type\":\"scatterpolar\",\"marker\":{\"colorbar\":{\"outlinewidth\":0,\"ticks\":\"\"}}}],\"histogram\":[{\"marker\":{\"pattern\":{\"fillmode\":\"overlay\",\"size\":10,\"solidity\":0.2}},\"type\":\"histogram\"}],\"scattergl\":[{\"type\":\"scattergl\",\"marker\":{\"colorbar\":{\"outlinewidth\":0,\"ticks\":\"\"}}}],\"scatter3d\":[{\"type\":\"scatter3d\",\"line\":{\"colorbar\":{\"outlinewidth\":0,\"ticks\":\"\"}},\"marker\":{\"colorbar\":{\"outlinewidth\":0,\"ticks\":\"\"}}}],\"scattermapbox\":[{\"type\":\"scattermapbox\",\"marker\":{\"colorbar\":{\"outlinewidth\":0,\"ticks\":\"\"}}}],\"scatterternary\":[{\"type\":\"scatterternary\",\"marker\":{\"colorbar\":{\"outlinewidth\":0,\"ticks\":\"\"}}}],\"scattercarpet\":[{\"type\":\"scattercarpet\",\"marker\":{\"colorbar\":{\"outlinewidth\":0,\"ticks\":\"\"}}}],\"carpet\":[{\"aaxis\":{\"endlinecolor\":\"#2a3f5f\",\"gridcolor\":\"white\",\"linecolor\":\"white\",\"minorgridcolor\":\"white\",\"startlinecolor\":\"#2a3f5f\"},\"baxis\":{\"endlinecolor\":\"#2a3f5f\",\"gridcolor\":\"white\",\"linecolor\":\"white\",\"minorgridcolor\":\"white\",\"startlinecolor\":\"#2a3f5f\"},\"type\":\"carpet\"}],\"table\":[{\"cells\":{\"fill\":{\"color\":\"#EBF0F8\"},\"line\":{\"color\":\"white\"}},\"header\":{\"fill\":{\"color\":\"#C8D4E3\"},\"line\":{\"color\":\"white\"}},\"type\":\"table\"}],\"barpolar\":[{\"marker\":{\"line\":{\"color\":\"#E5ECF6\",\"width\":0.5},\"pattern\":{\"fillmode\":\"overlay\",\"size\":10,\"solidity\":0.2}},\"type\":\"barpolar\"}],\"pie\":[{\"automargin\":true,\"type\":\"pie\"}]},\"layout\":{\"autotypenumbers\":\"strict\",\"colorway\":[\"#636efa\",\"#EF553B\",\"#00cc96\",\"#ab63fa\",\"#FFA15A\",\"#19d3f3\",\"#FF6692\",\"#B6E880\",\"#FF97FF\",\"#FECB52\"],\"font\":{\"color\":\"#2a3f5f\"},\"hovermode\":\"closest\",\"hoverlabel\":{\"align\":\"left\"},\"paper_bgcolor\":\"white\",\"plot_bgcolor\":\"#E5ECF6\",\"polar\":{\"bgcolor\":\"#E5ECF6\",\"angularaxis\":{\"gridcolor\":\"white\",\"linecolor\":\"white\",\"ticks\":\"\"},\"radialaxis\":{\"gridcolor\":\"white\",\"linecolor\":\"white\",\"ticks\":\"\"}},\"ternary\":{\"bgcolor\":\"#E5ECF6\",\"aaxis\":{\"gridcolor\":\"white\",\"linecolor\":\"white\",\"ticks\":\"\"},\"baxis\":{\"gridcolor\":\"white\",\"linecolor\":\"white\",\"ticks\":\"\"},\"caxis\":{\"gridcolor\":\"white\",\"linecolor\":\"white\",\"ticks\":\"\"}},\"coloraxis\":{\"colorbar\":{\"outlinewidth\":0,\"ticks\":\"\"}},\"colorscale\":{\"sequential\":[[0.0,\"#0d0887\"],[0.1111111111111111,\"#46039f\"],[0.2222222222222222,\"#7201a8\"],[0.3333333333333333,\"#9c179e\"],[0.4444444444444444,\"#bd3786\"],[0.5555555555555556,\"#d8576b\"],[0.6666666666666666,\"#ed7953\"],[0.7777777777777778,\"#fb9f3a\"],[0.8888888888888888,\"#fdca26\"],[1.0,\"#f0f921\"]],\"sequentialminus\":[[0.0,\"#0d0887\"],[0.1111111111111111,\"#46039f\"],[0.2222222222222222,\"#7201a8\"],[0.3333333333333333,\"#9c179e\"],[0.4444444444444444,\"#bd3786\"],[0.5555555555555556,\"#d8576b\"],[0.6666666666666666,\"#ed7953\"],[0.7777777777777778,\"#fb9f3a\"],[0.8888888888888888,\"#fdca26\"],[1.0,\"#f0f921\"]],\"diverging\":[[0,\"#8e0152\"],[0.1,\"#c51b7d\"],[0.2,\"#de77ae\"],[0.3,\"#f1b6da\"],[0.4,\"#fde0ef\"],[0.5,\"#f7f7f7\"],[0.6,\"#e6f5d0\"],[0.7,\"#b8e186\"],[0.8,\"#7fbc41\"],[0.9,\"#4d9221\"],[1,\"#276419\"]]},\"xaxis\":{\"gridcolor\":\"white\",\"linecolor\":\"white\",\"ticks\":\"\",\"title\":{\"standoff\":15},\"zerolinecolor\":\"white\",\"automargin\":true,\"zerolinewidth\":2},\"yaxis\":{\"gridcolor\":\"white\",\"linecolor\":\"white\",\"ticks\":\"\",\"title\":{\"standoff\":15},\"zerolinecolor\":\"white\",\"automargin\":true,\"zerolinewidth\":2},\"scene\":{\"xaxis\":{\"backgroundcolor\":\"#E5ECF6\",\"gridcolor\":\"white\",\"linecolor\":\"white\",\"showbackground\":true,\"ticks\":\"\",\"zerolinecolor\":\"white\",\"gridwidth\":2},\"yaxis\":{\"backgroundcolor\":\"#E5ECF6\",\"gridcolor\":\"white\",\"linecolor\":\"white\",\"showbackground\":true,\"ticks\":\"\",\"zerolinecolor\":\"white\",\"gridwidth\":2},\"zaxis\":{\"backgroundcolor\":\"#E5ECF6\",\"gridcolor\":\"white\",\"linecolor\":\"white\",\"showbackground\":true,\"ticks\":\"\",\"zerolinecolor\":\"white\",\"gridwidth\":2}},\"shapedefaults\":{\"line\":{\"color\":\"#2a3f5f\"}},\"annotationdefaults\":{\"arrowcolor\":\"#2a3f5f\",\"arrowhead\":0,\"arrowwidth\":1},\"geo\":{\"bgcolor\":\"white\",\"landcolor\":\"#E5ECF6\",\"subunitcolor\":\"white\",\"showland\":true,\"showlakes\":true,\"lakecolor\":\"white\"},\"title\":{\"x\":0.05},\"mapbox\":{\"style\":\"light\"}}},\"xaxis\":{\"anchor\":\"y\",\"domain\":[0.0,1.0],\"title\":{\"text\":\"Borough\"}},\"yaxis\":{\"anchor\":\"x\",\"domain\":[0.0,1.0],\"title\":{\"text\":\"Percent (%)\"}},\"legend\":{\"tracegroupgap\":0},\"margin\":{\"t\":60},\"barmode\":\"group\",\"title\":{\"text\":\"Rat and Rent Percentage Per Borough \"}},                        {\"responsive\": true}                    ).then(function(){\n",
       "                            \n",
       "var gd = document.getElementById('c6d2bbc0-c56c-48e7-a0b0-52cc0cdf91fe');\n",
       "var x = new MutationObserver(function (mutations, observer) {{\n",
       "        var display = window.getComputedStyle(gd).display;\n",
       "        if (!display || display === 'none') {{\n",
       "            console.log([gd, 'removed!']);\n",
       "            Plotly.purge(gd);\n",
       "            observer.disconnect();\n",
       "        }}\n",
       "}});\n",
       "\n",
       "// Listen for the removal of the full notebook cells\n",
       "var notebookContainer = gd.closest('#notebook-container');\n",
       "if (notebookContainer) {{\n",
       "    x.observe(notebookContainer, {childList: true});\n",
       "}}\n",
       "\n",
       "// Listen for the clearing of the current output cell\n",
       "var outputEl = gd.closest('.output');\n",
       "if (outputEl) {{\n",
       "    x.observe(outputEl, {childList: true});\n",
       "}}\n",
       "\n",
       "                        })                };                });            </script>        </div>"
      ]
     },
     "metadata": {},
     "output_type": "display_data"
    }
   ],
   "source": [
    "#putting the rat and gentrification graphs side by side\n",
    "\n",
    "#blue is rats\n",
    "ratandrentgraph = px.bar(\n",
    "    ratsandrent, \n",
    "    x = \"BOROUGH\", \n",
    "    y = \"% RATS\",\n",
    "    barmode = \"group\"\n",
    ")\n",
    "\n",
    "#red is gentrification\n",
    "ratandrentgraph.add_bar(\n",
    "    x = ratsandrent[\"BOROUGH\"],\n",
    "    y = ratsandrent[\"% GENTRIFICATION\"],\n",
    ")\n",
    "\n",
    "#fixing the layout so it looks better\n",
    "ratandrentgraph.update_layout(\n",
    "    title = \"Rat and Rent Percentage Per Borough \",\n",
    "    xaxis_title = \"Borough\",\n",
    "    yaxis_title = \"Percent (%)\"\n",
    ")\n",
    "\n",
    "ratandrentgraph.show()"
   ]
  },
  {
   "cell_type": "markdown",
   "id": "ef7c0181-34f5-4de3-b2ec-c14c18f85ef5",
   "metadata": {},
   "source": [
    "We did it!!!!!!"
   ]
  },
  {
   "cell_type": "markdown",
   "id": "ec35164f-f1cf-49e8-84c8-25d9232e789c",
   "metadata": {},
   "source": [
    "# Takeaways 🐀\n"
   ]
  },
  {
   "cell_type": "markdown",
   "id": "2d2468b3-236a-4b79-8507-dbbc0434723a",
   "metadata": {},
   "source": [
    "All in all, the purpose of this project was to answer the following question: do rats like gentrification? My hypothesis was that they do! Rats would probably like gentrified areas more than non gentrified areas because there's more trash in gentrified areas (due to increased tourism, foot traffic, etc.).\n",
    "\n",
    "It seems like I was ~ mostly ~ right about that. Manhattan has the most gentrification and the most rats. Brooklyn had the second most gentrification and also a good amount of rats. Conversely, Queens had less rats and also less gentrification (same with Staten Island). Bronx was a weird outlier though. It had a lot of rats and a little gentrification. This might be due to data collection issues (i.e. how I only used rental data instead of sales data, not enough data on Bronx from the Streeteasy dataset, etc.). \n",
    "\n",
    "Overall, I feel like I was able to show a fair correlation between rats and gentrification. The more gentrified an area, the more rats you'll see. So if your rent increases by more than 10%, you better buy some rat traps or invest in a cat!\n",
    "\n",
    "The Rat Project almost destroyed me, but I learned a lot and feel good about how it turned out! \n",
    "\n",
    "Thank you for reading :)\n",
    "\n",
    "Stay ratty <3 🐀 - Alexa"
   ]
  }
 ],
 "metadata": {
  "kernelspec": {
   "display_name": "Python 3",
   "language": "python",
   "name": "python3"
  },
  "language_info": {
   "codemirror_mode": {
    "name": "ipython",
    "version": 3
   },
   "file_extension": ".py",
   "mimetype": "text/x-python",
   "name": "python",
   "nbconvert_exporter": "python",
   "pygments_lexer": "ipython3",
   "version": "3.9.6"
  }
 },
 "nbformat": 4,
 "nbformat_minor": 5
}
